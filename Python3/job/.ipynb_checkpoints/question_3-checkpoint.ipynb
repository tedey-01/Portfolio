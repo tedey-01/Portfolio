{
 "cells": [
  {
   "cell_type": "code",
   "execution_count": 20,
   "metadata": {},
   "outputs": [],
   "source": [
    "import pandas as pd "
   ]
  },
  {
   "cell_type": "markdown",
   "metadata": {},
   "source": [
    "### Загружаем данные "
   ]
  },
  {
   "cell_type": "code",
   "execution_count": 21,
   "metadata": {},
   "outputs": [],
   "source": [
    "lessons = pd.read_csv('tech_quality/lessons.txt',names = ['id', 'event_id', 'subject', 'time'],\n",
    "                   sep = '|', skipinitialspace=True)\n",
    "lessons.drop(lessons.index[[0, 1, -1]], inplace= True)"
   ]
  },
  {
   "cell_type": "code",
   "execution_count": 22,
   "metadata": {},
   "outputs": [
    {
     "data": {
      "text/html": [
       "<div>\n",
       "<style scoped>\n",
       "    .dataframe tbody tr th:only-of-type {\n",
       "        vertical-align: middle;\n",
       "    }\n",
       "\n",
       "    .dataframe tbody tr th {\n",
       "        vertical-align: top;\n",
       "    }\n",
       "\n",
       "    .dataframe thead th {\n",
       "        text-align: right;\n",
       "    }\n",
       "</style>\n",
       "<table border=\"1\" class=\"dataframe\">\n",
       "  <thead>\n",
       "    <tr style=\"text-align: right;\">\n",
       "      <th></th>\n",
       "      <th>id</th>\n",
       "      <th>event_id</th>\n",
       "      <th>subject</th>\n",
       "      <th>time</th>\n",
       "    </tr>\n",
       "  </thead>\n",
       "  <tbody>\n",
       "    <tr>\n",
       "      <th>2</th>\n",
       "      <td>1e7bb408-cfef-4a9f-8328-351c9483a64c</td>\n",
       "      <td>38114</td>\n",
       "      <td>phys</td>\n",
       "      <td>2020-01-19 12:00:00</td>\n",
       "    </tr>\n",
       "    <tr>\n",
       "      <th>3</th>\n",
       "      <td>6d8e59d9-a7c8-4bb3-8ff3-99cd07acdf1a</td>\n",
       "      <td>51568</td>\n",
       "      <td>it</td>\n",
       "      <td>2020-01-19 13:00:00</td>\n",
       "    </tr>\n",
       "    <tr>\n",
       "      <th>4</th>\n",
       "      <td>62e1a078-33de-47c1-99d2-845b1daca56f</td>\n",
       "      <td>52790</td>\n",
       "      <td>hist</td>\n",
       "      <td>2020-01-19 13:00:00</td>\n",
       "    </tr>\n",
       "    <tr>\n",
       "      <th>5</th>\n",
       "      <td>00fc6685-f53a-49bb-b960-5e0042fd3852</td>\n",
       "      <td>51341</td>\n",
       "      <td>phys</td>\n",
       "      <td>2020-01-17 12:00:00</td>\n",
       "    </tr>\n",
       "    <tr>\n",
       "      <th>6</th>\n",
       "      <td>4cadf623-82e6-422f-a342-acf978302fb2</td>\n",
       "      <td>55048</td>\n",
       "      <td>phys</td>\n",
       "      <td>2020-01-19 14:00:00</td>\n",
       "    </tr>\n",
       "  </tbody>\n",
       "</table>\n",
       "</div>"
      ],
      "text/plain": [
       "                                      id event_id   subject  \\\n",
       "2  1e7bb408-cfef-4a9f-8328-351c9483a64c    38114   phys       \n",
       "3  6d8e59d9-a7c8-4bb3-8ff3-99cd07acdf1a    51568   it         \n",
       "4  62e1a078-33de-47c1-99d2-845b1daca56f    52790   hist       \n",
       "5  00fc6685-f53a-49bb-b960-5e0042fd3852    51341   phys       \n",
       "6  4cadf623-82e6-422f-a342-acf978302fb2    55048   phys       \n",
       "\n",
       "                  time  \n",
       "2  2020-01-19 12:00:00  \n",
       "3  2020-01-19 13:00:00  \n",
       "4  2020-01-19 13:00:00  \n",
       "5  2020-01-17 12:00:00  \n",
       "6  2020-01-19 14:00:00  "
      ]
     },
     "execution_count": 22,
     "metadata": {},
     "output_type": "execute_result"
    }
   ],
   "source": [
    "lessons.head()"
   ]
  },
  {
   "cell_type": "code",
   "execution_count": 23,
   "metadata": {},
   "outputs": [],
   "source": [
    "quality = pd.read_csv('tech_quality/quality.txt',names = ['lesson_id', 'tech_quality'],\n",
    "                   sep = '|', skipinitialspace=True)\n",
    "quality.drop(quality.index[[0,1,-1]], inplace = True)"
   ]
  },
  {
   "cell_type": "code",
   "execution_count": 24,
   "metadata": {},
   "outputs": [
    {
     "data": {
      "text/html": [
       "<div>\n",
       "<style scoped>\n",
       "    .dataframe tbody tr th:only-of-type {\n",
       "        vertical-align: middle;\n",
       "    }\n",
       "\n",
       "    .dataframe tbody tr th {\n",
       "        vertical-align: top;\n",
       "    }\n",
       "\n",
       "    .dataframe thead th {\n",
       "        text-align: right;\n",
       "    }\n",
       "</style>\n",
       "<table border=\"1\" class=\"dataframe\">\n",
       "  <thead>\n",
       "    <tr style=\"text-align: right;\">\n",
       "      <th></th>\n",
       "      <th>lesson_id</th>\n",
       "      <th>tech_quality</th>\n",
       "    </tr>\n",
       "  </thead>\n",
       "  <tbody>\n",
       "    <tr>\n",
       "      <th>2</th>\n",
       "      <td>6d8e59d9-a7c8-4bb3-8ff3-99cd07acdf1a</td>\n",
       "      <td>5</td>\n",
       "    </tr>\n",
       "    <tr>\n",
       "      <th>3</th>\n",
       "      <td>62e1a078-33de-47c1-99d2-845b1daca56f</td>\n",
       "      <td>5</td>\n",
       "    </tr>\n",
       "    <tr>\n",
       "      <th>4</th>\n",
       "      <td>62e1a078-33de-47c1-99d2-845b1daca56f</td>\n",
       "      <td>5</td>\n",
       "    </tr>\n",
       "    <tr>\n",
       "      <th>5</th>\n",
       "      <td>00fc6685-f53a-49bb-b960-5e0042fd3852</td>\n",
       "      <td>5</td>\n",
       "    </tr>\n",
       "    <tr>\n",
       "      <th>6</th>\n",
       "      <td>00fc6685-f53a-49bb-b960-5e0042fd3852</td>\n",
       "      <td>5</td>\n",
       "    </tr>\n",
       "  </tbody>\n",
       "</table>\n",
       "</div>"
      ],
      "text/plain": [
       "                               lesson_id tech_quality\n",
       "2  6d8e59d9-a7c8-4bb3-8ff3-99cd07acdf1a             5\n",
       "3  62e1a078-33de-47c1-99d2-845b1daca56f             5\n",
       "4  62e1a078-33de-47c1-99d2-845b1daca56f             5\n",
       "5  00fc6685-f53a-49bb-b960-5e0042fd3852             5\n",
       "6  00fc6685-f53a-49bb-b960-5e0042fd3852             5"
      ]
     },
     "execution_count": 24,
     "metadata": {},
     "output_type": "execute_result"
    }
   ],
   "source": [
    "quality.head()"
   ]
  },
  {
   "cell_type": "code",
   "execution_count": 25,
   "metadata": {},
   "outputs": [],
   "source": [
    "users = pd.read_csv('tech_quality/users.txt',names = ['id', 'role'],\n",
    "                   sep = '|', skipinitialspace=True)\n",
    "users.drop(users.index[[0,1,-1]], inplace = True)"
   ]
  },
  {
   "cell_type": "code",
   "execution_count": 26,
   "metadata": {},
   "outputs": [
    {
     "data": {
      "text/html": [
       "<div>\n",
       "<style scoped>\n",
       "    .dataframe tbody tr th:only-of-type {\n",
       "        vertical-align: middle;\n",
       "    }\n",
       "\n",
       "    .dataframe tbody tr th {\n",
       "        vertical-align: top;\n",
       "    }\n",
       "\n",
       "    .dataframe thead th {\n",
       "        text-align: right;\n",
       "    }\n",
       "</style>\n",
       "<table border=\"1\" class=\"dataframe\">\n",
       "  <thead>\n",
       "    <tr style=\"text-align: right;\">\n",
       "      <th></th>\n",
       "      <th>id</th>\n",
       "      <th>role</th>\n",
       "    </tr>\n",
       "  </thead>\n",
       "  <tbody>\n",
       "    <tr>\n",
       "      <th>2</th>\n",
       "      <td>e28351f5-4ccb-4549-8647-d43f2b15e7b8</td>\n",
       "      <td>pupil</td>\n",
       "    </tr>\n",
       "    <tr>\n",
       "      <th>3</th>\n",
       "      <td>4df2832a-1d63-4453-9659-43993fc35996</td>\n",
       "      <td>tutor</td>\n",
       "    </tr>\n",
       "    <tr>\n",
       "      <th>4</th>\n",
       "      <td>bb1c0bc8-1212-452b-97a0-439d4a2169e2</td>\n",
       "      <td>pupil</td>\n",
       "    </tr>\n",
       "    <tr>\n",
       "      <th>5</th>\n",
       "      <td>63441abe-c4da-4275-ba26-66f7dbd65dde</td>\n",
       "      <td>tutor</td>\n",
       "    </tr>\n",
       "    <tr>\n",
       "      <th>6</th>\n",
       "      <td>a1323b68-c82c-429a-8e2c-65597e648c1a</td>\n",
       "      <td>tutor</td>\n",
       "    </tr>\n",
       "  </tbody>\n",
       "</table>\n",
       "</div>"
      ],
      "text/plain": [
       "                                      id   role\n",
       "2  e28351f5-4ccb-4549-8647-d43f2b15e7b8   pupil\n",
       "3  4df2832a-1d63-4453-9659-43993fc35996   tutor\n",
       "4  bb1c0bc8-1212-452b-97a0-439d4a2169e2   pupil\n",
       "5  63441abe-c4da-4275-ba26-66f7dbd65dde   tutor\n",
       "6  a1323b68-c82c-429a-8e2c-65597e648c1a   tutor"
      ]
     },
     "execution_count": 26,
     "metadata": {},
     "output_type": "execute_result"
    }
   ],
   "source": [
    "users.head()"
   ]
  },
  {
   "cell_type": "code",
   "execution_count": 27,
   "metadata": {},
   "outputs": [],
   "source": [
    "participants = pd.read_csv('tech_quality/participants.txt',names = ['event_id','user_id'],\n",
    "                   sep = '|', skipinitialspace=True)\n",
    "participants.drop(participants.index[[0,1,-1]], inplace = True)"
   ]
  },
  {
   "cell_type": "code",
   "execution_count": 28,
   "metadata": {},
   "outputs": [
    {
     "data": {
      "text/html": [
       "<div>\n",
       "<style scoped>\n",
       "    .dataframe tbody tr th:only-of-type {\n",
       "        vertical-align: middle;\n",
       "    }\n",
       "\n",
       "    .dataframe tbody tr th {\n",
       "        vertical-align: top;\n",
       "    }\n",
       "\n",
       "    .dataframe thead th {\n",
       "        text-align: right;\n",
       "    }\n",
       "</style>\n",
       "<table border=\"1\" class=\"dataframe\">\n",
       "  <thead>\n",
       "    <tr style=\"text-align: right;\">\n",
       "      <th></th>\n",
       "      <th>event_id</th>\n",
       "      <th>user_id</th>\n",
       "    </tr>\n",
       "  </thead>\n",
       "  <tbody>\n",
       "    <tr>\n",
       "      <th>2</th>\n",
       "      <td>38114</td>\n",
       "      <td>e28351f5-4ccb-4549-8647-d43f2b15e7b8</td>\n",
       "    </tr>\n",
       "    <tr>\n",
       "      <th>3</th>\n",
       "      <td>38114</td>\n",
       "      <td>4df2832a-1d63-4453-9659-43993fc35996</td>\n",
       "    </tr>\n",
       "    <tr>\n",
       "      <th>4</th>\n",
       "      <td>51568</td>\n",
       "      <td>bb1c0bc8-1212-452b-97a0-439d4a2169e2</td>\n",
       "    </tr>\n",
       "    <tr>\n",
       "      <th>5</th>\n",
       "      <td>51568</td>\n",
       "      <td>63441abe-c4da-4275-ba26-66f7dbd65dde</td>\n",
       "    </tr>\n",
       "    <tr>\n",
       "      <th>6</th>\n",
       "      <td>52790</td>\n",
       "      <td>a1323b68-c82c-429a-8e2c-65597e648c1a</td>\n",
       "    </tr>\n",
       "  </tbody>\n",
       "</table>\n",
       "</div>"
      ],
      "text/plain": [
       "  event_id                               user_id\n",
       "2   38114   e28351f5-4ccb-4549-8647-d43f2b15e7b8\n",
       "3   38114   4df2832a-1d63-4453-9659-43993fc35996\n",
       "4   51568   bb1c0bc8-1212-452b-97a0-439d4a2169e2\n",
       "5   51568   63441abe-c4da-4275-ba26-66f7dbd65dde\n",
       "6   52790   a1323b68-c82c-429a-8e2c-65597e648c1a"
      ]
     },
     "execution_count": 28,
     "metadata": {},
     "output_type": "execute_result"
    }
   ],
   "source": [
    "participants.head()"
   ]
  },
  {
   "cell_type": "markdown",
   "metadata": {},
   "source": [
    "### Удаляем лишние пробелы"
   ]
  },
  {
   "cell_type": "code",
   "execution_count": 29,
   "metadata": {},
   "outputs": [],
   "source": [
    "def cleaner(s):\n",
    "    if type(s) == str:\n",
    "        return s.strip(' ')"
   ]
  },
  {
   "cell_type": "code",
   "execution_count": 30,
   "metadata": {},
   "outputs": [],
   "source": [
    "for col in lessons.columns:\n",
    "    lessons[col] = lessons[col].apply(cleaner)"
   ]
  },
  {
   "cell_type": "code",
   "execution_count": 31,
   "metadata": {},
   "outputs": [],
   "source": [
    "for col in quality.columns:\n",
    "    quality[col] = quality[col].apply(cleaner)"
   ]
  },
  {
   "cell_type": "code",
   "execution_count": 32,
   "metadata": {},
   "outputs": [],
   "source": [
    "for col in users.columns:\n",
    "    users[col] = users[col].apply(cleaner)"
   ]
  },
  {
   "cell_type": "code",
   "execution_count": 33,
   "metadata": {},
   "outputs": [],
   "source": [
    "for col in participants.columns:\n",
    "    participants[col] = participants[col].apply(cleaner)"
   ]
  },
  {
   "cell_type": "markdown",
   "metadata": {},
   "source": [
    "### 1.Найти все уроки по физике (subject=phys)"
   ]
  },
  {
   "cell_type": "code",
   "execution_count": 34,
   "metadata": {},
   "outputs": [
    {
     "data": {
      "text/html": [
       "<div>\n",
       "<style scoped>\n",
       "    .dataframe tbody tr th:only-of-type {\n",
       "        vertical-align: middle;\n",
       "    }\n",
       "\n",
       "    .dataframe tbody tr th {\n",
       "        vertical-align: top;\n",
       "    }\n",
       "\n",
       "    .dataframe thead th {\n",
       "        text-align: right;\n",
       "    }\n",
       "</style>\n",
       "<table border=\"1\" class=\"dataframe\">\n",
       "  <thead>\n",
       "    <tr style=\"text-align: right;\">\n",
       "      <th></th>\n",
       "      <th>id</th>\n",
       "      <th>event_id</th>\n",
       "      <th>subject</th>\n",
       "      <th>time</th>\n",
       "    </tr>\n",
       "  </thead>\n",
       "  <tbody>\n",
       "    <tr>\n",
       "      <th>2</th>\n",
       "      <td>1e7bb408-cfef-4a9f-8328-351c9483a64c</td>\n",
       "      <td>38114</td>\n",
       "      <td>phys</td>\n",
       "      <td>2020-01-19 12:00:00</td>\n",
       "    </tr>\n",
       "    <tr>\n",
       "      <th>5</th>\n",
       "      <td>00fc6685-f53a-49bb-b960-5e0042fd3852</td>\n",
       "      <td>51341</td>\n",
       "      <td>phys</td>\n",
       "      <td>2020-01-17 12:00:00</td>\n",
       "    </tr>\n",
       "    <tr>\n",
       "      <th>6</th>\n",
       "      <td>4cadf623-82e6-422f-a342-acf978302fb2</td>\n",
       "      <td>55048</td>\n",
       "      <td>phys</td>\n",
       "      <td>2020-01-19 14:00:00</td>\n",
       "    </tr>\n",
       "    <tr>\n",
       "      <th>8</th>\n",
       "      <td>e597a79a-3f68-4d15-bc77-c7000bcf8e52</td>\n",
       "      <td>53026</td>\n",
       "      <td>phys</td>\n",
       "      <td>2020-01-19 15:00:00</td>\n",
       "    </tr>\n",
       "    <tr>\n",
       "      <th>10</th>\n",
       "      <td>ea6f0bf3-bcfc-4555-9b16-cc2cfe722e17</td>\n",
       "      <td>51645</td>\n",
       "      <td>phys</td>\n",
       "      <td>2020-01-19 14:00:00</td>\n",
       "    </tr>\n",
       "    <tr>\n",
       "      <th>...</th>\n",
       "      <td>...</td>\n",
       "      <td>...</td>\n",
       "      <td>...</td>\n",
       "      <td>...</td>\n",
       "    </tr>\n",
       "    <tr>\n",
       "      <th>368</th>\n",
       "      <td>e90f529b-1061-4efd-9bba-f73ecee2ef27</td>\n",
       "      <td>55490</td>\n",
       "      <td>phys</td>\n",
       "      <td>2020-01-19 08:00:00</td>\n",
       "    </tr>\n",
       "    <tr>\n",
       "      <th>369</th>\n",
       "      <td>f0002160-e57e-4e90-ac7e-c8fcdbbae26f</td>\n",
       "      <td>41963</td>\n",
       "      <td>phys</td>\n",
       "      <td>2020-01-19 09:00:00</td>\n",
       "    </tr>\n",
       "    <tr>\n",
       "      <th>370</th>\n",
       "      <td>8a1bac54-c5c6-47c9-8fdb-36d01384eaae</td>\n",
       "      <td>55881</td>\n",
       "      <td>phys</td>\n",
       "      <td>2020-01-19 15:00:00</td>\n",
       "    </tr>\n",
       "    <tr>\n",
       "      <th>371</th>\n",
       "      <td>457accf4-bd99-4b9d-b540-ef200e65afbd</td>\n",
       "      <td>49007</td>\n",
       "      <td>phys</td>\n",
       "      <td>2020-01-19 05:00:00</td>\n",
       "    </tr>\n",
       "    <tr>\n",
       "      <th>373</th>\n",
       "      <td>403707fd-b110-4216-b678-6dbc92eb6fad</td>\n",
       "      <td>41964</td>\n",
       "      <td>phys</td>\n",
       "      <td>2020-01-19 11:00:00</td>\n",
       "    </tr>\n",
       "  </tbody>\n",
       "</table>\n",
       "<p>184 rows × 4 columns</p>\n",
       "</div>"
      ],
      "text/plain": [
       "                                       id event_id subject  \\\n",
       "2    1e7bb408-cfef-4a9f-8328-351c9483a64c    38114    phys   \n",
       "5    00fc6685-f53a-49bb-b960-5e0042fd3852    51341    phys   \n",
       "6    4cadf623-82e6-422f-a342-acf978302fb2    55048    phys   \n",
       "8    e597a79a-3f68-4d15-bc77-c7000bcf8e52    53026    phys   \n",
       "10   ea6f0bf3-bcfc-4555-9b16-cc2cfe722e17    51645    phys   \n",
       "..                                    ...      ...     ...   \n",
       "368  e90f529b-1061-4efd-9bba-f73ecee2ef27    55490    phys   \n",
       "369  f0002160-e57e-4e90-ac7e-c8fcdbbae26f    41963    phys   \n",
       "370  8a1bac54-c5c6-47c9-8fdb-36d01384eaae    55881    phys   \n",
       "371  457accf4-bd99-4b9d-b540-ef200e65afbd    49007    phys   \n",
       "373  403707fd-b110-4216-b678-6dbc92eb6fad    41964    phys   \n",
       "\n",
       "                    time  \n",
       "2    2020-01-19 12:00:00  \n",
       "5    2020-01-17 12:00:00  \n",
       "6    2020-01-19 14:00:00  \n",
       "8    2020-01-19 15:00:00  \n",
       "10   2020-01-19 14:00:00  \n",
       "..                   ...  \n",
       "368  2020-01-19 08:00:00  \n",
       "369  2020-01-19 09:00:00  \n",
       "370  2020-01-19 15:00:00  \n",
       "371  2020-01-19 05:00:00  \n",
       "373  2020-01-19 11:00:00  \n",
       "\n",
       "[184 rows x 4 columns]"
      ]
     },
     "execution_count": 34,
     "metadata": {},
     "output_type": "execute_result"
    }
   ],
   "source": [
    "lessons[lessons['subject']=='phys']"
   ]
  },
  {
   "cell_type": "markdown",
   "metadata": {},
   "source": [
    "### небольшая предобработка и преобразование типов для выполнения последующих пунктов"
   ]
  },
  {
   "cell_type": "code",
   "execution_count": 37,
   "metadata": {},
   "outputs": [],
   "source": [
    "tutors = users[users['role'] == 'tutor']['id']\n",
    "\n",
    "lessons['time'] = pd.to_datetime(lessons['time'])\n",
    "\n",
    "temp=lessons.rename(columns={'id':'lesson_id'}).merge(quality, how='outer')\n",
    "temp['tech_quality']=temp['tech_quality'].astype('float')"
   ]
  },
  {
   "cell_type": "code",
   "execution_count": 38,
   "metadata": {},
   "outputs": [
    {
     "data": {
      "text/plain": [
       "array(['2020-01-11', '2020-01-12', '2020-01-13', '2020-01-14',\n",
       "       '2020-01-15', '2020-01-16', '2020-01-17', '2020-01-18',\n",
       "       '2020-01-19', '2020-01-20'], dtype=object)"
      ]
     },
     "execution_count": 38,
     "metadata": {},
     "output_type": "execute_result"
    }
   ],
   "source": [
    "days = temp['time'].apply(lambda x:x.strftime('%Y-%m-%d')).unique()\n",
    "day_marks=pd.DataFrame()\n",
    "day_marks['time'] = days\n",
    "day_marks['time'] = day_marks['time'].apply(lambda x: str(x)[:11])\n",
    "day_marks.sort_values('time', inplace = True)\n",
    "day_marks[\"time\"].values"
   ]
  },
  {
   "cell_type": "code",
   "execution_count": 39,
   "metadata": {},
   "outputs": [],
   "source": [
    "for tutor in tutors:\n",
    "    tutor_events = participants[participants['user_id'] == tutor]['event_id']\n",
    "    answer = temp[ \n",
    "                    (temp['event_id'].isin(tutor_events)) \n",
    "                    & (temp['subject'] == 'phys')\n",
    "                 ].groupby(pd.Grouper(key = 'time', freq=\"D\"))['tech_quality'].mean().round(2); \n",
    "    answer=answer.rename_axis('time').reset_index()\n",
    "    answer['time']=answer['time'].apply(lambda x: str(x)[:10])\n",
    "    answer.rename(columns={'tech_quality':tutor})\n",
    "    day_marks = day_marks.merge(answer.rename(columns={'tech_quality':tutor}), how='left')"
   ]
  },
  {
   "cell_type": "code",
   "execution_count": 40,
   "metadata": {},
   "outputs": [],
   "source": [
    "day_marks.index = day_marks['time']\n",
    "day_marks.drop('time', axis= 1, inplace = True)"
   ]
  },
  {
   "cell_type": "markdown",
   "metadata": {},
   "source": [
    "### 2. В каждый день  для каждого репетитора посчитать среднюю арифметическую оценку за его уроки (учитывать только уроки из п. 1)."
   ]
  },
  {
   "cell_type": "code",
   "execution_count": 41,
   "metadata": {},
   "outputs": [
    {
     "data": {
      "text/html": [
       "<div>\n",
       "<style scoped>\n",
       "    .dataframe tbody tr th:only-of-type {\n",
       "        vertical-align: middle;\n",
       "    }\n",
       "\n",
       "    .dataframe tbody tr th {\n",
       "        vertical-align: top;\n",
       "    }\n",
       "\n",
       "    .dataframe thead th {\n",
       "        text-align: right;\n",
       "    }\n",
       "</style>\n",
       "<table border=\"1\" class=\"dataframe\">\n",
       "  <thead>\n",
       "    <tr style=\"text-align: right;\">\n",
       "      <th>time</th>\n",
       "      <th>2020-01-11</th>\n",
       "      <th>2020-01-12</th>\n",
       "      <th>2020-01-13</th>\n",
       "      <th>2020-01-14</th>\n",
       "      <th>2020-01-15</th>\n",
       "      <th>2020-01-16</th>\n",
       "      <th>2020-01-17</th>\n",
       "      <th>2020-01-18</th>\n",
       "      <th>2020-01-19</th>\n",
       "      <th>2020-01-20</th>\n",
       "    </tr>\n",
       "  </thead>\n",
       "  <tbody>\n",
       "    <tr>\n",
       "      <th>4df2832a-1d63-4453-9659-43993fc35996</th>\n",
       "      <td>NaN</td>\n",
       "      <td>5.0</td>\n",
       "      <td>NaN</td>\n",
       "      <td>5.0</td>\n",
       "      <td>NaN</td>\n",
       "      <td>5.0</td>\n",
       "      <td>5.00</td>\n",
       "      <td>5.00</td>\n",
       "      <td>5.00</td>\n",
       "      <td>NaN</td>\n",
       "    </tr>\n",
       "    <tr>\n",
       "      <th>63441abe-c4da-4275-ba26-66f7dbd65dde</th>\n",
       "      <td>NaN</td>\n",
       "      <td>NaN</td>\n",
       "      <td>NaN</td>\n",
       "      <td>NaN</td>\n",
       "      <td>NaN</td>\n",
       "      <td>NaN</td>\n",
       "      <td>NaN</td>\n",
       "      <td>NaN</td>\n",
       "      <td>NaN</td>\n",
       "      <td>NaN</td>\n",
       "    </tr>\n",
       "    <tr>\n",
       "      <th>a1323b68-c82c-429a-8e2c-65597e648c1a</th>\n",
       "      <td>NaN</td>\n",
       "      <td>NaN</td>\n",
       "      <td>NaN</td>\n",
       "      <td>NaN</td>\n",
       "      <td>NaN</td>\n",
       "      <td>NaN</td>\n",
       "      <td>NaN</td>\n",
       "      <td>NaN</td>\n",
       "      <td>NaN</td>\n",
       "      <td>NaN</td>\n",
       "    </tr>\n",
       "    <tr>\n",
       "      <th>30a19496-bdaf-461c-abbc-2709ae520201</th>\n",
       "      <td>5.0</td>\n",
       "      <td>NaN</td>\n",
       "      <td>5.0</td>\n",
       "      <td>NaN</td>\n",
       "      <td>NaN</td>\n",
       "      <td>5.0</td>\n",
       "      <td>5.00</td>\n",
       "      <td>5.00</td>\n",
       "      <td>NaN</td>\n",
       "      <td>4.5</td>\n",
       "    </tr>\n",
       "    <tr>\n",
       "      <th>43efce48-94b2-4412-857f-223d45969008</th>\n",
       "      <td>5.0</td>\n",
       "      <td>5.0</td>\n",
       "      <td>NaN</td>\n",
       "      <td>5.0</td>\n",
       "      <td>NaN</td>\n",
       "      <td>5.0</td>\n",
       "      <td>4.67</td>\n",
       "      <td>4.25</td>\n",
       "      <td>4.88</td>\n",
       "      <td>4.5</td>\n",
       "    </tr>\n",
       "    <tr>\n",
       "      <th>...</th>\n",
       "      <td>...</td>\n",
       "      <td>...</td>\n",
       "      <td>...</td>\n",
       "      <td>...</td>\n",
       "      <td>...</td>\n",
       "      <td>...</td>\n",
       "      <td>...</td>\n",
       "      <td>...</td>\n",
       "      <td>...</td>\n",
       "      <td>...</td>\n",
       "    </tr>\n",
       "    <tr>\n",
       "      <th>1c39e78f-6ded-4b2e-83d6-036ca34ecfdc</th>\n",
       "      <td>NaN</td>\n",
       "      <td>NaN</td>\n",
       "      <td>NaN</td>\n",
       "      <td>NaN</td>\n",
       "      <td>NaN</td>\n",
       "      <td>NaN</td>\n",
       "      <td>NaN</td>\n",
       "      <td>5.00</td>\n",
       "      <td>NaN</td>\n",
       "      <td>NaN</td>\n",
       "    </tr>\n",
       "    <tr>\n",
       "      <th>d754610c-c4ac-46f5-9b02-8067e0f8a01d</th>\n",
       "      <td>NaN</td>\n",
       "      <td>NaN</td>\n",
       "      <td>NaN</td>\n",
       "      <td>NaN</td>\n",
       "      <td>NaN</td>\n",
       "      <td>NaN</td>\n",
       "      <td>NaN</td>\n",
       "      <td>NaN</td>\n",
       "      <td>NaN</td>\n",
       "      <td>NaN</td>\n",
       "    </tr>\n",
       "    <tr>\n",
       "      <th>4758da03-f56d-4cf6-a58d-17dd3d7d8445</th>\n",
       "      <td>NaN</td>\n",
       "      <td>NaN</td>\n",
       "      <td>NaN</td>\n",
       "      <td>NaN</td>\n",
       "      <td>NaN</td>\n",
       "      <td>NaN</td>\n",
       "      <td>NaN</td>\n",
       "      <td>NaN</td>\n",
       "      <td>NaN</td>\n",
       "      <td>NaN</td>\n",
       "    </tr>\n",
       "    <tr>\n",
       "      <th>c7123879-75e7-4957-b809-f2f684499b67</th>\n",
       "      <td>NaN</td>\n",
       "      <td>NaN</td>\n",
       "      <td>NaN</td>\n",
       "      <td>NaN</td>\n",
       "      <td>NaN</td>\n",
       "      <td>NaN</td>\n",
       "      <td>NaN</td>\n",
       "      <td>NaN</td>\n",
       "      <td>NaN</td>\n",
       "      <td>NaN</td>\n",
       "    </tr>\n",
       "    <tr>\n",
       "      <th>9a192e4d-473f-4f81-af68-1b422bd814f6</th>\n",
       "      <td>NaN</td>\n",
       "      <td>NaN</td>\n",
       "      <td>NaN</td>\n",
       "      <td>NaN</td>\n",
       "      <td>NaN</td>\n",
       "      <td>NaN</td>\n",
       "      <td>NaN</td>\n",
       "      <td>NaN</td>\n",
       "      <td>NaN</td>\n",
       "      <td>NaN</td>\n",
       "    </tr>\n",
       "  </tbody>\n",
       "</table>\n",
       "<p>65 rows × 10 columns</p>\n",
       "</div>"
      ],
      "text/plain": [
       "time                                  2020-01-11  2020-01-12  2020-01-13  \\\n",
       "4df2832a-1d63-4453-9659-43993fc35996         NaN         5.0         NaN   \n",
       "63441abe-c4da-4275-ba26-66f7dbd65dde         NaN         NaN         NaN   \n",
       "a1323b68-c82c-429a-8e2c-65597e648c1a         NaN         NaN         NaN   \n",
       "30a19496-bdaf-461c-abbc-2709ae520201         5.0         NaN         5.0   \n",
       "43efce48-94b2-4412-857f-223d45969008         5.0         5.0         NaN   \n",
       "...                                          ...         ...         ...   \n",
       "1c39e78f-6ded-4b2e-83d6-036ca34ecfdc         NaN         NaN         NaN   \n",
       "d754610c-c4ac-46f5-9b02-8067e0f8a01d         NaN         NaN         NaN   \n",
       "4758da03-f56d-4cf6-a58d-17dd3d7d8445         NaN         NaN         NaN   \n",
       "c7123879-75e7-4957-b809-f2f684499b67         NaN         NaN         NaN   \n",
       "9a192e4d-473f-4f81-af68-1b422bd814f6         NaN         NaN         NaN   \n",
       "\n",
       "time                                  2020-01-14  2020-01-15  2020-01-16  \\\n",
       "4df2832a-1d63-4453-9659-43993fc35996         5.0         NaN         5.0   \n",
       "63441abe-c4da-4275-ba26-66f7dbd65dde         NaN         NaN         NaN   \n",
       "a1323b68-c82c-429a-8e2c-65597e648c1a         NaN         NaN         NaN   \n",
       "30a19496-bdaf-461c-abbc-2709ae520201         NaN         NaN         5.0   \n",
       "43efce48-94b2-4412-857f-223d45969008         5.0         NaN         5.0   \n",
       "...                                          ...         ...         ...   \n",
       "1c39e78f-6ded-4b2e-83d6-036ca34ecfdc         NaN         NaN         NaN   \n",
       "d754610c-c4ac-46f5-9b02-8067e0f8a01d         NaN         NaN         NaN   \n",
       "4758da03-f56d-4cf6-a58d-17dd3d7d8445         NaN         NaN         NaN   \n",
       "c7123879-75e7-4957-b809-f2f684499b67         NaN         NaN         NaN   \n",
       "9a192e4d-473f-4f81-af68-1b422bd814f6         NaN         NaN         NaN   \n",
       "\n",
       "time                                  2020-01-17  2020-01-18  2020-01-19  \\\n",
       "4df2832a-1d63-4453-9659-43993fc35996        5.00        5.00        5.00   \n",
       "63441abe-c4da-4275-ba26-66f7dbd65dde         NaN         NaN         NaN   \n",
       "a1323b68-c82c-429a-8e2c-65597e648c1a         NaN         NaN         NaN   \n",
       "30a19496-bdaf-461c-abbc-2709ae520201        5.00        5.00         NaN   \n",
       "43efce48-94b2-4412-857f-223d45969008        4.67        4.25        4.88   \n",
       "...                                          ...         ...         ...   \n",
       "1c39e78f-6ded-4b2e-83d6-036ca34ecfdc         NaN        5.00         NaN   \n",
       "d754610c-c4ac-46f5-9b02-8067e0f8a01d         NaN         NaN         NaN   \n",
       "4758da03-f56d-4cf6-a58d-17dd3d7d8445         NaN         NaN         NaN   \n",
       "c7123879-75e7-4957-b809-f2f684499b67         NaN         NaN         NaN   \n",
       "9a192e4d-473f-4f81-af68-1b422bd814f6         NaN         NaN         NaN   \n",
       "\n",
       "time                                  2020-01-20  \n",
       "4df2832a-1d63-4453-9659-43993fc35996         NaN  \n",
       "63441abe-c4da-4275-ba26-66f7dbd65dde         NaN  \n",
       "a1323b68-c82c-429a-8e2c-65597e648c1a         NaN  \n",
       "30a19496-bdaf-461c-abbc-2709ae520201         4.5  \n",
       "43efce48-94b2-4412-857f-223d45969008         4.5  \n",
       "...                                          ...  \n",
       "1c39e78f-6ded-4b2e-83d6-036ca34ecfdc         NaN  \n",
       "d754610c-c4ac-46f5-9b02-8067e0f8a01d         NaN  \n",
       "4758da03-f56d-4cf6-a58d-17dd3d7d8445         NaN  \n",
       "c7123879-75e7-4957-b809-f2f684499b67         NaN  \n",
       "9a192e4d-473f-4f81-af68-1b422bd814f6         NaN  \n",
       "\n",
       "[65 rows x 10 columns]"
      ]
     },
     "execution_count": 41,
     "metadata": {},
     "output_type": "execute_result"
    }
   ],
   "source": [
    "day_marks.T"
   ]
  },
  {
   "cell_type": "markdown",
   "metadata": {},
   "source": [
    "### 3. Найти учителя, который в этот день имеет самую низкую среднюю арифметическую оценку за уроки (среди всех учителей, проводивших уроки по физике в этот день)."
   ]
  },
  {
   "cell_type": "code",
   "execution_count": 44,
   "metadata": {},
   "outputs": [
    {
     "name": "stdout",
     "output_type": "stream",
     "text": [
      "2020-01-11\t8fe03f08-8581-430c-a590-9888ab36deb3\n",
      "2020-01-12\t696c838e-c054-4e9f-a51a-50bf5660f364\n",
      "2020-01-13\t30a19496-bdaf-461c-abbc-2709ae520201\n",
      "2020-01-14\tc6718d0e-976c-4d6c-b0e0-32c770776567\n",
      "2020-01-15\t696c838e-c054-4e9f-a51a-50bf5660f364\n",
      "2020-01-16\t2fa2ab62-f1b0-4036-872f-bcfd9a8686ff\n",
      "2020-01-17\t696c838e-c054-4e9f-a51a-50bf5660f364\n",
      "2020-01-18\t43efce48-94b2-4412-857f-223d45969008\n",
      "2020-01-19\tbe676776-8366-4c71-8a35-d58014806eb5\n",
      "2020-01-20\t30a19496-bdaf-461c-abbc-2709ae520201\n"
     ]
    }
   ],
   "source": [
    "for col in day_marks.T.columns:\n",
    "    wrost_mark = day_marks.T[col].apply(lambda x: float(x)).min()\n",
    "    bad_teacher = day_marks.T[day_marks.T[col] ==wrost_mark].index[0]\n",
    "    print ('{}\\t{}'.format(col, bad_teacher))"
   ]
  },
  {
   "cell_type": "markdown",
   "metadata": {},
   "source": [
    "### 4. Вывести его в формате \"<день> <id учителя> <средняя арифметическая оценка>\". Оценку можно округлить с точностью до двух знаков после запятой."
   ]
  },
  {
   "cell_type": "code",
   "execution_count": 43,
   "metadata": {},
   "outputs": [
    {
     "name": "stdout",
     "output_type": "stream",
     "text": [
      "2020-01-11\t8fe03f08-8581-430c-a590-9888ab36deb3\t4.43\n",
      "2020-01-12\t696c838e-c054-4e9f-a51a-50bf5660f364\t4.89\n",
      "2020-01-13\t30a19496-bdaf-461c-abbc-2709ae520201\t5.0\n",
      "2020-01-14\tc6718d0e-976c-4d6c-b0e0-32c770776567\t4.0\n",
      "2020-01-15\t696c838e-c054-4e9f-a51a-50bf5660f364\t5.0\n",
      "2020-01-16\t2fa2ab62-f1b0-4036-872f-bcfd9a8686ff\t4.0\n",
      "2020-01-17\t696c838e-c054-4e9f-a51a-50bf5660f364\t4.5\n",
      "2020-01-18\t43efce48-94b2-4412-857f-223d45969008\t4.25\n",
      "2020-01-19\tbe676776-8366-4c71-8a35-d58014806eb5\t4.5\n",
      "2020-01-20\t30a19496-bdaf-461c-abbc-2709ae520201\t4.5\n"
     ]
    }
   ],
   "source": [
    "for col in day_marks.T.columns:\n",
    "    wrost_mark = day_marks.T[col].apply(lambda x: float(x)).min()\n",
    "    bad_teacher = day_marks.T[day_marks.T[col] ==wrost_mark].index[0]\n",
    "    print ('{}\\t{}\\t{}'.format(col, bad_teacher, wrost_mark))"
   ]
  }
 ],
 "metadata": {
  "kernelspec": {
   "display_name": "Python 3",
   "language": "python",
   "name": "python3"
  },
  "language_info": {
   "codemirror_mode": {
    "name": "ipython",
    "version": 3
   },
   "file_extension": ".py",
   "mimetype": "text/x-python",
   "name": "python",
   "nbconvert_exporter": "python",
   "pygments_lexer": "ipython3",
   "version": "3.7.2"
  }
 },
 "nbformat": 4,
 "nbformat_minor": 2
}
