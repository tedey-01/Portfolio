{
 "cells": [
  {
   "cell_type": "code",
   "execution_count": 2,
   "metadata": {},
   "outputs": [],
   "source": [
    "data=[]\n",
    "with open(\"hits.txt\") as f:\n",
    "    for line in f:\n",
    "        data.append([x for x in line.split()])"
   ]
  },
  {
   "cell_type": "code",
   "execution_count": 3,
   "metadata": {},
   "outputs": [
    {
     "data": {
      "text/plain": [
       "[['https://wikipedia.org', '72.110.191.15', '/friends/files'],\n",
       " ['rambler.ru', '142.93.168.247', '/universe.php'],\n",
       " ['ftp://info.itar-tass.com', '90.68.118.69', '/login/monitors/static/me'],\n",
       " ['http://altavista.com', '18.79.197.236', '/friends/tasks/universe'],\n",
       " ['ftp://tetrika-school.ru',\n",
       "  '115.26.250.226',\n",
       "  '/translate/anekdots/my-files/monday'],\n",
       " ['www.habr.com', '128.79.84.100', '/medium'],\n",
       " ['2ip.ru', '189.191.232.240', '/lesson/store/anekdots/img'],\n",
       " ['ftp://garant.ru', '74.125.206.96', '/logout/my-tutors'],\n",
       " ['2ip.ru', '148.64.151.25', '/img/posts/balance'],\n",
       " ['public.ru', '40.9.218.163', '/signin.php'],\n",
       " ['yandex.ru', '75.75.143.120', '/my-friends/signin/auth/task'],\n",
       " ['www.integrum.com', '249.147.78.70', '/tasks/admin/ping/incognito.php'],\n",
       " ['yandex.ru', '170.201.79.53', '/php/balance/chat'],\n",
       " ['ftp://cry.ru', '230.29.88.62', '/signup/232/chat.htm'],\n",
       " ['https://habr.com', '90.208.60.85', '/store/chat/module.htm'],\n",
       " ['http://wikipedia.org', '82.204.227.239', '/signin/admin/balance'],\n",
       " ['www.yandex.ru', '45.74.112.65', '/task'],\n",
       " ['compromat.ru', '166.5.177.246', '/payment/users'],\n",
       " ['https://google.com', '64.165.201.63', '/module/trend.html'],\n",
       " ['www.yell.ru', '192.150.86.205', '/me']]"
      ]
     },
     "execution_count": 3,
     "metadata": {},
     "output_type": "execute_result"
    }
   ],
   "source": [
    "data[:20]"
   ]
  },
  {
   "cell_type": "code",
   "execution_count": 4,
   "metadata": {},
   "outputs": [
    {
     "data": {
      "text/plain": [
       "['72.110.191.15',\n",
       " '142.93.168.247',\n",
       " '90.68.118.69',\n",
       " '18.79.197.236',\n",
       " '115.26.250.226',\n",
       " '128.79.84.100',\n",
       " '189.191.232.240',\n",
       " '74.125.206.96',\n",
       " '148.64.151.25',\n",
       " '40.9.218.163',\n",
       " '75.75.143.120',\n",
       " '249.147.78.70',\n",
       " '170.201.79.53',\n",
       " '230.29.88.62',\n",
       " '90.208.60.85',\n",
       " '82.204.227.239',\n",
       " '45.74.112.65',\n",
       " '166.5.177.246',\n",
       " '64.165.201.63',\n",
       " '192.150.86.205']"
      ]
     },
     "execution_count": 4,
     "metadata": {},
     "output_type": "execute_result"
    }
   ],
   "source": [
    "ip = []\n",
    "for element in data:\n",
    "    ip.append(element[1])  \n",
    "ip[:20]"
   ]
  },
  {
   "cell_type": "code",
   "execution_count": 5,
   "metadata": {},
   "outputs": [
    {
     "name": "stdout",
     "output_type": "stream",
     "text": [
      "154.157.157.156\n",
      "82.146.232.163\n",
      "194.78.107.33\n",
      "226.247.119.128\n",
      "21.143.243.182\n"
     ]
    }
   ],
   "source": [
    "from collections import Counter\n",
    "bester= Counter(ip)\n",
    "for el in bester.most_common(5):\n",
    "    print('{}'.format(el[0]))\n"
   ]
  }
 ],
 "metadata": {
  "kernelspec": {
   "display_name": "Python 3",
   "language": "python",
   "name": "python3"
  },
  "language_info": {
   "codemirror_mode": {
    "name": "ipython",
    "version": 3
   },
   "file_extension": ".py",
   "mimetype": "text/x-python",
   "name": "python",
   "nbconvert_exporter": "python",
   "pygments_lexer": "ipython3",
   "version": "3.7.2"
  }
 },
 "nbformat": 4,
 "nbformat_minor": 2
}
