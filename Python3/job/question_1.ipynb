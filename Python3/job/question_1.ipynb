{
 "cells": [
  {
   "cell_type": "code",
   "execution_count": 2,
   "metadata": {},
   "outputs": [],
   "source": [
    "data=[]\n",
    "with open(\"names.txt\") as f:\n",
    "    for line in f:\n",
    "        data.extend([x.lstrip(\"\\\"\").rstrip(\"\\\"\") for x in line.split(',')])"
   ]
  },
  {
   "cell_type": "markdown",
   "metadata": {},
   "source": [
    "### 1) Отсортировать все имена в лексикографическом порядке"
   ]
  },
  {
   "cell_type": "code",
   "execution_count": 3,
   "metadata": {},
   "outputs": [
    {
     "data": {
      "text/plain": [
       "['AARON',\n",
       " 'ABBEY',\n",
       " 'ABBIE',\n",
       " 'ABBY',\n",
       " 'ABDUL',\n",
       " 'ABE',\n",
       " 'ABEL',\n",
       " 'ABIGAIL',\n",
       " 'ABRAHAM',\n",
       " 'ABRAM',\n",
       " 'ADA',\n",
       " 'ADAH',\n",
       " 'ADALBERTO',\n",
       " 'ADALINE',\n",
       " 'ADAM',\n",
       " 'ADAN',\n",
       " 'ADDIE',\n",
       " 'ADELA',\n",
       " 'ADELAIDA',\n",
       " 'ADELAIDE']"
      ]
     },
     "execution_count": 3,
     "metadata": {},
     "output_type": "execute_result"
    }
   ],
   "source": [
    "data\n",
    "data.sort()\n",
    "data[:20]"
   ]
  },
  {
   "cell_type": "markdown",
   "metadata": {},
   "source": [
    "### 2) Посчитать для каждого имени алфавитную сумму – сумму порядковых номеров букв (MAY: 13 + 1 + 25 = 39)"
   ]
  },
  {
   "cell_type": "code",
   "execution_count": 5,
   "metadata": {},
   "outputs": [
    {
     "data": {
      "text/plain": [
       "[['AARON', 49],\n",
       " ['ABBEY', 35],\n",
       " ['ABBIE', 19],\n",
       " ['ABBY', 30],\n",
       " ['ABDUL', 40],\n",
       " ['ABE', 8],\n",
       " ['ABEL', 20],\n",
       " ['ABIGAIL', 41],\n",
       " ['ABRAHAM', 44],\n",
       " ['ABRAM', 35],\n",
       " ['ADA', 6],\n",
       " ['ADAH', 14],\n",
       " ['ADALBERTO', 78],\n",
       " ['ADALINE', 46],\n",
       " ['ADAM', 19],\n",
       " ['ADAN', 20],\n",
       " ['ADDIE', 23],\n",
       " ['ADELA', 23],\n",
       " ['ADELAIDA', 37],\n",
       " ['ADELAIDE', 41]]"
      ]
     },
     "execution_count": 5,
     "metadata": {},
     "output_type": "execute_result"
    }
   ],
   "source": [
    "names_total = []\n",
    "for name in data:\n",
    "    summ=0\n",
    "    for later in name:\n",
    "        summ+=ord(later)-64\n",
    "    names_total.append([name, summ])\n",
    "    \n",
    "names_total[:20]"
   ]
  },
  {
   "cell_type": "markdown",
   "metadata": {},
   "source": [
    "#### 3) Умножить алфавитную сумму каждого имени на порядковый номер имени в отсортированном списке (индексация начинается с 1). Например, если MAY находится на 63 месте в списке, то результат для него будет 63 * 39 = 2457."
   ]
  },
  {
   "cell_type": "code",
   "execution_count": 6,
   "metadata": {},
   "outputs": [
    {
     "data": {
      "text/plain": [
       "[49,\n",
       " 70,\n",
       " 57,\n",
       " 120,\n",
       " 200,\n",
       " 48,\n",
       " 140,\n",
       " 328,\n",
       " 396,\n",
       " 350,\n",
       " 66,\n",
       " 168,\n",
       " 1014,\n",
       " 644,\n",
       " 285,\n",
       " 320,\n",
       " 391,\n",
       " 414,\n",
       " 703,\n",
       " 820]"
      ]
     },
     "execution_count": 6,
     "metadata": {},
     "output_type": "execute_result"
    }
   ],
   "source": [
    "numbers = []\n",
    "for number, cell in enumerate(names_total):\n",
    "    numbers.append((number+1)*cell[1])\n",
    "numbers[:20]"
   ]
  },
  {
   "cell_type": "markdown",
   "metadata": {},
   "source": [
    "### 4) Просуммировать произведения из п. 3 для всех имен из файла и получить число. Это число и будет ответом.\n"
   ]
  },
  {
   "cell_type": "code",
   "execution_count": 7,
   "metadata": {},
   "outputs": [
    {
     "data": {
      "text/plain": [
       "871853874"
      ]
     },
     "execution_count": 7,
     "metadata": {},
     "output_type": "execute_result"
    }
   ],
   "source": [
    "sum(numbers)"
   ]
  }
 ],
 "metadata": {
  "kernelspec": {
   "display_name": "Python 3",
   "language": "python",
   "name": "python3"
  },
  "language_info": {
   "codemirror_mode": {
    "name": "ipython",
    "version": 3
   },
   "file_extension": ".py",
   "mimetype": "text/x-python",
   "name": "python",
   "nbconvert_exporter": "python",
   "pygments_lexer": "ipython3",
   "version": "3.7.2"
  }
 },
 "nbformat": 4,
 "nbformat_minor": 2
}
