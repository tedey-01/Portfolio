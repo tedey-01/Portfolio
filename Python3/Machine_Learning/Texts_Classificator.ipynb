{
 "cells": [
  {
   "cell_type": "code",
   "execution_count": 1,
   "metadata": {},
   "outputs": [],
   "source": [
    "#подключаем библиотеки\n",
    "from __future__ import division, print_function\n",
    "# отключим всякие предупреждения Anaconda\n",
    "import warnings\n",
    "warnings.filterwarnings('ignore')\n",
    "import numpy as np\n",
    "import matplotlib.pyplot as plt\n",
    "%matplotlib inline\n",
    "import seaborn as sns\n",
    "import numpy as np\n",
    "from sklearn.datasets import load_files\n",
    "from sklearn.feature_extraction.text import CountVectorizer, TfidfTransformer, TfidfVectorizer\n",
    "from sklearn.linear_model import LogisticRegression\n",
    "import pandas as pd"
   ]
  },
  {
   "cell_type": "code",
   "execution_count": 2,
   "metadata": {},
   "outputs": [],
   "source": [
    "#Загружаем датасет\n",
    "df = pd.read_csv('data_halabus/reuters-allcats.csv')"
   ]
  },
  {
   "cell_type": "code",
   "execution_count": 3,
   "metadata": {},
   "outputs": [
    {
     "data": {
      "text/html": [
       "<div>\n",
       "<style scoped>\n",
       "    .dataframe tbody tr th:only-of-type {\n",
       "        vertical-align: middle;\n",
       "    }\n",
       "\n",
       "    .dataframe tbody tr th {\n",
       "        vertical-align: top;\n",
       "    }\n",
       "\n",
       "    .dataframe thead th {\n",
       "        text-align: right;\n",
       "    }\n",
       "</style>\n",
       "<table border=\"1\" class=\"dataframe\">\n",
       "  <thead>\n",
       "    <tr style=\"text-align: right;\">\n",
       "      <th></th>\n",
       "      <th>class</th>\n",
       "      <th>text</th>\n",
       "    </tr>\n",
       "  </thead>\n",
       "  <tbody>\n",
       "    <tr>\n",
       "      <th>0</th>\n",
       "      <td>Neg-</td>\n",
       "      <td>2 BAHIA COCOA REVIEW     SALVADOR  Feb 26 - Sh...</td>\n",
       "    </tr>\n",
       "    <tr>\n",
       "      <th>1</th>\n",
       "      <td>Neg-</td>\n",
       "      <td>2 USX ltX DEBT DOWGRADED BY MOODYS     NEW YOR...</td>\n",
       "    </tr>\n",
       "    <tr>\n",
       "      <th>2</th>\n",
       "      <td>Pos-earn</td>\n",
       "      <td>2 COBANCO INC ltCBCO YEAR NET     SANTA CRUZ  ...</td>\n",
       "    </tr>\n",
       "    <tr>\n",
       "      <th>3</th>\n",
       "      <td>Pos-earn</td>\n",
       "      <td>2 BROWN-FORMAN INC ltBFD 4TH QTR NET     LOUIS...</td>\n",
       "    </tr>\n",
       "    <tr>\n",
       "      <th>4</th>\n",
       "      <td>Neg-</td>\n",
       "      <td>2 HUGHES CAPITAL UNIT SIGNS PACT WITH BEAR STE...</td>\n",
       "    </tr>\n",
       "  </tbody>\n",
       "</table>\n",
       "</div>"
      ],
      "text/plain": [
       "      class                                               text\n",
       "0      Neg-  2 BAHIA COCOA REVIEW     SALVADOR  Feb 26 - Sh...\n",
       "1      Neg-  2 USX ltX DEBT DOWGRADED BY MOODYS     NEW YOR...\n",
       "2  Pos-earn  2 COBANCO INC ltCBCO YEAR NET     SANTA CRUZ  ...\n",
       "3  Pos-earn  2 BROWN-FORMAN INC ltBFD 4TH QTR NET     LOUIS...\n",
       "4      Neg-  2 HUGHES CAPITAL UNIT SIGNS PACT WITH BEAR STE..."
      ]
     },
     "execution_count": 3,
     "metadata": {},
     "output_type": "execute_result"
    }
   ],
   "source": [
    "df.head()"
   ]
  },
  {
   "cell_type": "code",
   "execution_count": 4,
   "metadata": {},
   "outputs": [
    {
     "name": "stdout",
     "output_type": "stream",
     "text": [
      "<class 'pandas.core.frame.DataFrame'>\n",
      "RangeIndex: 4079 entries, 0 to 4078\n",
      "Data columns (total 2 columns):\n",
      "class    4079 non-null object\n",
      "text     4079 non-null object\n",
      "dtypes: object(2)\n",
      "memory usage: 63.9+ KB\n"
     ]
    }
   ],
   "source": [
    "df.info()"
   ]
  },
  {
   "cell_type": "code",
   "execution_count": 5,
   "metadata": {},
   "outputs": [
    {
     "data": {
      "text/html": [
       "<div>\n",
       "<style scoped>\n",
       "    .dataframe tbody tr th:only-of-type {\n",
       "        vertical-align: middle;\n",
       "    }\n",
       "\n",
       "    .dataframe tbody tr th {\n",
       "        vertical-align: top;\n",
       "    }\n",
       "\n",
       "    .dataframe thead th {\n",
       "        text-align: right;\n",
       "    }\n",
       "</style>\n",
       "<table border=\"1\" class=\"dataframe\">\n",
       "  <thead>\n",
       "    <tr style=\"text-align: right;\">\n",
       "      <th></th>\n",
       "      <th>class</th>\n",
       "      <th>text</th>\n",
       "    </tr>\n",
       "  </thead>\n",
       "  <tbody>\n",
       "    <tr>\n",
       "      <th>count</th>\n",
       "      <td>4079</td>\n",
       "      <td>4079</td>\n",
       "    </tr>\n",
       "    <tr>\n",
       "      <th>unique</th>\n",
       "      <td>7</td>\n",
       "      <td>4067</td>\n",
       "    </tr>\n",
       "    <tr>\n",
       "      <th>top</th>\n",
       "      <td>Neg-</td>\n",
       "      <td>2 HYDRO QUEBEC ISSUES CANADIAN DLR BOND     LO...</td>\n",
       "    </tr>\n",
       "    <tr>\n",
       "      <th>freq</th>\n",
       "      <td>1929</td>\n",
       "      <td>2</td>\n",
       "    </tr>\n",
       "  </tbody>\n",
       "</table>\n",
       "</div>"
      ],
      "text/plain": [
       "       class                                               text\n",
       "count   4079                                               4079\n",
       "unique     7                                               4067\n",
       "top     Neg-  2 HYDRO QUEBEC ISSUES CANADIAN DLR BOND     LO...\n",
       "freq    1929                                                  2"
      ]
     },
     "execution_count": 5,
     "metadata": {},
     "output_type": "execute_result"
    }
   ],
   "source": [
    "df.describe()"
   ]
  },
  {
   "cell_type": "code",
   "execution_count": 6,
   "metadata": {},
   "outputs": [
    {
     "data": {
      "image/png": "[encoded data removed]",
      "text/plain": [
       "<Figure size 576x432 with 1 Axes>"
      ]
     },
     "metadata": {
      "needs_background": "light"
     },
     "output_type": "display_data"
    }
   ],
   "source": [
    "#видим, что данные распределены не равномерно \n",
    "fig  = plt.figure(figsize = (8, 6))\n",
    "df.groupby('class')['text'].count().plot.bar(ylim = 0)\n",
    "plt.show()"
   ]
  },
  {
   "cell_type": "code",
   "execution_count": 7,
   "metadata": {},
   "outputs": [
    {
     "data": {
      "text/plain": [
       "'2 BRAZIL ANTI-INFLATION PLAN LIMPS TO ANNIVERSARY     RIO DE JANEIRO  Feb 26 - Brazils Cruzado anti- inflation plan  initially hailed at home and abroad as the saviour of the economy  is limping towards its first anniversary amid soaring prices  widespread shortages and a foreign payments crisis     Announced last February 28 the plan froze prices  fixed the value of the new Cruzado currency and ended widespread indexation of the economy in a bid to halt the countrys 250 pct inflation rate     But within a year the plan has all but collapsed     The situation now is worse than it was Although there was inflation  at least the economy worked  a leading bank economist said     The crumbling of the plan has been accompanied by a dramatic reversal in the foreign trade account In 1984 and 1985 Brazils annual trade surpluses had been sufficient to cover the 12 billion dlrs needed to service its 109 billion dlr foreign debt     For the first nine months of 1986 all seemed to be on target for a repeat  with monthly surpluses averaging one billion dlrs But as exports were diverted and imports increased to avoid further domestic shortages the trade surplus plunged to 211 mln dlrs in October and since then has averaged under 150 mln  Reuter 3'"
      ]
     },
     "execution_count": 7,
     "metadata": {},
     "output_type": "execute_result"
    }
   ],
   "source": [
    "#пример новости из выборки\n",
    "df['text'][10]"
   ]
  },
  {
   "cell_type": "code",
   "execution_count": 8,
   "metadata": {},
   "outputs": [
    {
     "data": {
      "text/plain": [
       "((3400,), (3400, 1), (679,), (679, 1))"
      ]
     },
     "execution_count": 8,
     "metadata": {},
     "output_type": "execute_result"
    }
   ],
   "source": [
    "#разделяем датасет на учебную и тестовые выборки, я разделял просто на две части,\n",
    "#не учитывая неравномерности распределения классов. Это было сделанно для наглядности.\n",
    "y_train =df['class'][:3400]\n",
    "text_train = df.drop('class', axis = 1)[:3400]\n",
    "y_test  = df['class'][3400:]\n",
    "text_test = df.drop('class', axis = 1)[3400:]\n",
    "y_train.shape, text_train.shape, y_test.shape, text_test.shape"
   ]
  },
  {
   "cell_type": "code",
   "execution_count": 9,
   "metadata": {},
   "outputs": [
    {
     "data": {
      "text/plain": [
       "3400    2 FOOTHILL GROUP ltFGI COMPLETES DEBT PLACEMEN...\n",
       "3401    2 ltGEN TERM CORP ACQUIRES PRIVATE FIRM     SA...\n",
       "3402    2 US CORN EXPORTS SEEN WELL AHEAD OF LAST YEAR...\n",
       "3403    2 GANDER ltGNDRO BUYS WESTERN WEAR RETAILER   ...\n",
       "3404    2 WELLS FARGO AND CO 1ST QTR SHR 136 DLRS VS 1...\n",
       "                              ...                        \n",
       "4074    2 CABLE AND WIRELESS DETAILS MERGER OF HK UNIT...\n",
       "4075    2 CABLE AND WIRELESS TO MERGE TWO HK UNITS INT...\n",
       "4076    2 UGANDA PLANS TO EXPORT ROASTED COFFEE TO EUR...\n",
       "4077    2 NZS CHASE CORP MAKES OFFER FOR ENTREGROWTH  ...\n",
       "4078    2 SOVIET INDUSTRIAL GROWTHTRADE SLOWER IN 1987...\n",
       "Name: text, Length: 679, dtype: object"
      ]
     },
     "execution_count": 9,
     "metadata": {},
     "output_type": "execute_result"
    }
   ],
   "source": [
    "corpus = ['This is the first document.','This document is the second document.',\n",
    "          'And this is the third one.','Is this the first document?']\n",
    "text_test['text']"
   ]
  },
  {
   "cell_type": "code",
   "execution_count": 10,
   "metadata": {},
   "outputs": [
    {
     "name": "stdout",
     "output_type": "stream",
     "text": [
      "21950\n"
     ]
    }
   ],
   "source": [
    "#токенизируем наши новости, получаем векторы длинны 21950 элементв\n",
    "cv = CountVectorizer()\n",
    "cv.fit(text_train['text'])\n",
    "\n",
    "print(len(cv.get_feature_names()))"
   ]
  },
  {
   "cell_type": "code",
   "execution_count": 11,
   "metadata": {},
   "outputs": [],
   "source": [
    "X_train = cv.transform(text_train['text'])\n",
    "X_test = cv.transform(text_test['text'])"
   ]
  },
  {
   "cell_type": "code",
   "execution_count": 12,
   "metadata": {},
   "outputs": [
    {
     "data": {
      "text/plain": [
       "(3400, 21950)"
      ]
     },
     "execution_count": 12,
     "metadata": {},
     "output_type": "execute_result"
    }
   ],
   "source": [
    "X_train.shape"
   ]
  },
  {
   "cell_type": "code",
   "execution_count": 13,
   "metadata": {},
   "outputs": [
    {
     "name": "stdout",
     "output_type": "stream",
     "text": [
      "1.0\n",
      "CPU times: user 1.68 s, sys: 236 ms, total: 1.92 s\n",
      "Wall time: 987 ms\n"
     ]
    }
   ],
   "source": [
    "# Обучаем логистическую модель, скармливая ей учебную выборку\n",
    "%%time \n",
    "logit = LogisticRegression(n_jobs=-1, random_state=7)\n",
    "logit.fit(X_train, y_train)\n",
    "print(round(logit.score(X_train, y_train), 3))"
   ]
  },
  {
   "cell_type": "code",
   "execution_count": 14,
   "metadata": {},
   "outputs": [
    {
     "name": "stdout",
     "output_type": "stream",
     "text": [
      "example: 2 AG EDWARDS INC ltAGE 1ST QTR MAY 31 NET     ST LOUIS  June 18 -     Shr 52 cts vs 62 cts     Net 10 884 000 vs 12 891 000     Revs 1333 mln vs 1288 mln     Avg shrs 21 017 000 vs 20 845 000  Reuter 3\n",
      "class: ['Pos-earn']\n"
     ]
    }
   ],
   "source": [
    "example = df['text'][3659]\n",
    "print('example: {}'.format(example))\n",
    "print ('class: {}'.format(df[df['text'] == example]['class'].values))"
   ]
  },
  {
   "cell_type": "code",
   "execution_count": 15,
   "metadata": {},
   "outputs": [
    {
     "data": {
      "text/plain": [
       "array(['Pos-earn'], dtype=object)"
      ]
     },
     "execution_count": 15,
     "metadata": {},
     "output_type": "execute_result"
    }
   ],
   "source": [
    "logit.predict(cv.transform([example]))"
   ]
  },
  {
   "cell_type": "code",
   "execution_count": 16,
   "metadata": {},
   "outputs": [],
   "source": [
    "logit_pred = logit.predict(X_test)"
   ]
  },
  {
   "cell_type": "code",
   "execution_count": 17,
   "metadata": {},
   "outputs": [
    {
     "data": {
      "text/plain": [
       "0.9587628865979382"
      ]
     },
     "execution_count": 17,
     "metadata": {},
     "output_type": "execute_result"
    }
   ],
   "source": [
    "#Проверяем модель на тестовай выборке, в качестве оценки служит числовая характеристика,\n",
    "#равная доле верных ответов\n",
    "from sklearn.metrics import accuracy_score\n",
    "accuracy_score(y_test, logit_pred)"
   ]
  },
  {
   "cell_type": "code",
   "execution_count": 17,
   "metadata": {},
   "outputs": [
    {
     "data": {
      "text/plain": [
       "0.9587628865979382"
      ]
     },
     "execution_count": 17,
     "metadata": {},
     "output_type": "execute_result"
    }
   ],
   "source": [
    "#Проверяем модель на тестовай выборке, в качестве оценки служит числовая характеристика,\n",
    "#равная доле верных ответов\n",
    "from sklearn.metrics import accuracy_score\n",
    "accuracy_score(y_test, logit_pred)"
   ]
  },
  {
   "cell_type": "code",
   "execution_count": null,
   "metadata": {},
   "outputs": [],
   "source": []
  }
 ],
 "metadata": {
  "kernelspec": {
   "display_name": "Python 3",
   "language": "python",
   "name": "python3"
  },
  "language_info": {
   "codemirror_mode": {
    "name": "ipython",
    "version": 3
   },
   "file_extension": ".py",
   "mimetype": "text/x-python",
   "name": "python",
   "nbconvert_exporter": "python",
   "pygments_lexer": "ipython3",
   "version": "3.7.2"
  }
 },
 "nbformat": 4,
 "nbformat_minor": 2
}
