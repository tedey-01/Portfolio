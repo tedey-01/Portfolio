{
 "cells": [
  {
   "cell_type": "code",
   "execution_count": 1,
   "metadata": {},
   "outputs": [],
   "source": [
    "import pandas as pd \n",
    "import numpy as np\n",
    "import matplotlib.pyplot as plt\n",
    "import os\n",
    "%matplotlib inline"
   ]
  },
  {
   "cell_type": "code",
   "execution_count": 2,
   "metadata": {},
   "outputs": [],
   "source": [
    "# Начальная форма ДатаФрейма\n",
    "df = pd.DataFrame(columns = ['ids', 'text', 'score'])\n",
    "for bar in ['train/', 'test/']:\n",
    "    for ton in ['pos', 'neg']:\n",
    "        tmp_df = pd.DataFrame()\n",
    "        \n",
    "        os.chdir(bar+ton)\n",
    "        files = os.listdir()\n",
    "\n",
    "        ids = []\n",
    "        feedbacks = []\n",
    "        scores = []\n",
    "\n",
    "        for file in files:\n",
    "            feedback=''\n",
    "            tmp_id = file.split('_')[0]\n",
    "            tmp_score = file.split('_')[1][:-4]\n",
    "            with open(file, encoding='utf-8') as f:\n",
    "                for line in f:\n",
    "                    feedback += line\n",
    "            ids.append(tmp_id)\n",
    "            feedbacks.append(feedback)\n",
    "            scores.append(tmp_score)\n",
    "        os.chdir('../..')\n",
    "    \n",
    "        tmp_df['ids'] = ids\n",
    "        tmp_df['text'] = feedbacks\n",
    "        tmp_df['score'] = scores\n",
    "        df = df.append(tmp_df)"
   ]
  },
  {
   "cell_type": "code",
   "execution_count": 3,
   "metadata": {},
   "outputs": [
    {
     "name": "stdout",
     "output_type": "stream",
     "text": [
      "df_shape: (50000, 3)\n"
     ]
    },
    {
     "data": {
      "text/html": [
       "<div>\n",
       "<style scoped>\n",
       "    .dataframe tbody tr th:only-of-type {\n",
       "        vertical-align: middle;\n",
       "    }\n",
       "\n",
       "    .dataframe tbody tr th {\n",
       "        vertical-align: top;\n",
       "    }\n",
       "\n",
       "    .dataframe thead th {\n",
       "        text-align: right;\n",
       "    }\n",
       "</style>\n",
       "<table border=\"1\" class=\"dataframe\">\n",
       "  <thead>\n",
       "    <tr style=\"text-align: right;\">\n",
       "      <th></th>\n",
       "      <th>ids</th>\n",
       "      <th>text</th>\n",
       "      <th>score</th>\n",
       "    </tr>\n",
       "  </thead>\n",
       "  <tbody>\n",
       "    <tr>\n",
       "      <th>0</th>\n",
       "      <td>4715</td>\n",
       "      <td>For a movie that gets no respect there sure ar...</td>\n",
       "      <td>9</td>\n",
       "    </tr>\n",
       "    <tr>\n",
       "      <th>1</th>\n",
       "      <td>12390</td>\n",
       "      <td>Bizarre horror movie filled with famous faces ...</td>\n",
       "      <td>8</td>\n",
       "    </tr>\n",
       "    <tr>\n",
       "      <th>2</th>\n",
       "      <td>8329</td>\n",
       "      <td>A solid, if unremarkable film. Matthau, as Ein...</td>\n",
       "      <td>7</td>\n",
       "    </tr>\n",
       "    <tr>\n",
       "      <th>3</th>\n",
       "      <td>9063</td>\n",
       "      <td>It's a strange feeling to sit alone in a theat...</td>\n",
       "      <td>8</td>\n",
       "    </tr>\n",
       "    <tr>\n",
       "      <th>4</th>\n",
       "      <td>3092</td>\n",
       "      <td>You probably all already know this by now, but...</td>\n",
       "      <td>10</td>\n",
       "    </tr>\n",
       "  </tbody>\n",
       "</table>\n",
       "</div>"
      ],
      "text/plain": [
       "     ids                                               text score\n",
       "0   4715  For a movie that gets no respect there sure ar...     9\n",
       "1  12390  Bizarre horror movie filled with famous faces ...     8\n",
       "2   8329  A solid, if unremarkable film. Matthau, as Ein...     7\n",
       "3   9063  It's a strange feeling to sit alone in a theat...     8\n",
       "4   3092  You probably all already know this by now, but...    10"
      ]
     },
     "execution_count": 3,
     "metadata": {},
     "output_type": "execute_result"
    }
   ],
   "source": [
    "print('df_shape: {}'.format(df.shape))\n",
    "df.head()"
   ]
  },
  {
   "cell_type": "markdown",
   "metadata": {},
   "source": [
    "Посмотрев на содержимое отзывов, можно заметить, что при парсинге захватывались\n",
    "различные теги, и предобработка данных не провалидась."
   ]
  },
  {
   "cell_type": "code",
   "execution_count": 5,
   "metadata": {},
   "outputs": [
    {
     "data": {
      "text/plain": [
       "'Really it\\'s a dreadful cheat of a film. Its 70-minute running time is very well padded with stock footage. The rest are non descript exteriors and drab interiors scenes. The plot exposition is very poorly rendered. They are all just perfunctory scenes sort of strung together. There is no attempt at drama in scene selection but rather drama is communicated by the intensity of the actors. Please don\\'t ask.<br /><br />The plot concerns a rocket radiating a million degree heat orbiting earth five miles up threatening to destroy the earth. It\\'s a real time menace that must be diverted if a custom built H-bomb can be fashioned and placed in an experimental rocket within an hour. Nothing very much here to report except for a mad speech by a scientist against the project because there might be some sort of life aboard and think of the scientific possibilities but this speech made by the obligatory idiot liberal was pretty much passé by then.<br /><br />What saves this film, somewhat uniquely, IS the stock footage. I\\'ve never seen a larger selection of fifties jet fighter aircraft in any other film. This is by no means a complete list but just some of the aircraft I managed to see. There\\'s a brief interception by a pilot flying, in alternate shots, an F-89 Scorpion and an F-86. First to scramble interceptors is the Royal Canadian Air Force in Hawker Hunters and F-86 Sabre Jets (or Canadian built CF-13s) and even a pair of CF-100 Clunks.<br /><br />Then for some reason there are B-52s, B-47s and even B36s are seen taking off. More padding.<br /><br />\"These Canadian jets are moving at 1200 miles an hour\". I don\\'t think so since one of them appears to be a WW2 era Gloster Meteor, the rest F-80s. The Meteors press the attack and one turns into a late F-84F with a flight of early straight wing F-84s attacking in formation.<br /><br />There\\'s a strange tandem cockpit version of the F-80 that doesn\\'t seem to be the T-33 training type but some sort of interim all-weather interceptor variant with radar in the nose. These are scrambled in a snowstorm.<br /><br />An angled deck aircraft carrier is seen from about 500 meters. It launches F-8U Crusaders, F-11F Tigers, A-5 Vigilantes and A-3 Skywarriors. The Air Force scrambles F-86s and F-84s and more F-89s then you\\'ve ever seen in your life as well as F-100 Super Sabres and F-102 Delta Daggers.<br /><br />The F-100s press their attack with sooooo much padding. The F-89\\'s unload their rockets in their wingtip pods in slo mo. The F-86s fire, an F-102 lets loose a Falcon, even some F-80s (F-94s?) with mid-wing rocket pods let loose. There is a very strange shot of a late model F-84 (prototype?) with a straight wing early model F-85 above it in a turn, obviously a manufacturer\\'s (Republic Aviation) advertising film showing the differences between the old and the new improved models of the F-84 ThunderJet. How it strayed into here is anybodies guess.<br /><br />There is other great stock footage of Ottawa in the old days when the capital of Canada was a wide spot in the road and especially wonderful footage of New York City\\'s Times Square during one of the Civil Defense Drills in the early 50s. <br /><br />I think we also have to deal with the notion that this was filmed in Canada with the possible exception of the auto chase seen late in the picture as the Pacific seems to be in the background. The use of a Jowett Jupiter is somewhat mind-boggling and there is a nice TR 3 to be seen also. Canada must have been cheap and it is rather gratuitously used a lot in the background.<br /><br />As far as the actual narrative of the film there is little to recommend it other than the mystery of just who Ellen Parker is giving the finger to at the end of the picture. And she most definitely is flipping someone off. Could it be, R as in Robert Loggia? The director who dies before this film was released? Her career as this was her last credit?<br /><br />Its like the newspaper the gift came wrapped in was more valuable than the gift.'"
      ]
     },
     "execution_count": 5,
     "metadata": {},
     "output_type": "execute_result"
    }
   ],
   "source": [
    "np.seed = 42\n",
    "df.iloc[np.random.randint(50_000), 1]"
   ]
  },
  {
   "cell_type": "markdown",
   "metadata": {},
   "source": [
    "## Предварительная чистка данных"
   ]
  },
  {
   "cell_type": "code",
   "execution_count": 6,
   "metadata": {},
   "outputs": [],
   "source": [
    "from bs4 import BeautifulSoup\n",
    "import re"
   ]
  },
  {
   "cell_type": "code",
   "execution_count": 7,
   "metadata": {},
   "outputs": [],
   "source": [
    "# Удаление тегов\n",
    "def strip_html(text):\n",
    "    soup = BeautifulSoup(text, 'html.parser')\n",
    "    return soup.get_text()\n",
    "\n",
    "\n",
    "# Удаление квадратных скобок\n",
    "def remove_square_brackets(text):\n",
    "    return re.sub('\\[[^]]*\\]', '', text)\n",
    "\n",
    "\n",
    "# Общая чистка\n",
    "def clean_text(text):\n",
    "    text = strip_html(text)\n",
    "    text = remove_square_brackets(text)\n",
    "    return text\n",
    "\n",
    "df['text'] = df['text'].apply(clean_text)"
   ]
  },
  {
   "cell_type": "code",
   "execution_count": 8,
   "metadata": {},
   "outputs": [],
   "source": [
    "# Глубокая чистка \n",
    "def deep_cleaning(text, remove_digits=True):\n",
    "    pattern = r'[^a-zA-z0-9\\s]'\n",
    "    text = re.sub(pattern, '', text)\n",
    "    return text\n",
    "\n",
    "df['text'] = df['text'].apply(deep_cleaning)"
   ]
  },
  {
   "cell_type": "markdown",
   "metadata": {},
   "source": [
    "## Преобразование данных  \n",
    "Для начала стоит перемешать данные.  \n",
    "Векторизуем все наше множество слов с помощью ***TF-IDF*** преобразований.  \n",
    "Также используем **n-граммы** длинны два (*биграммы*). "
   ]
  },
  {
   "cell_type": "code",
   "execution_count": 9,
   "metadata": {},
   "outputs": [
    {
     "data": {
      "text/html": [
       "<div>\n",
       "<style scoped>\n",
       "    .dataframe tbody tr th:only-of-type {\n",
       "        vertical-align: middle;\n",
       "    }\n",
       "\n",
       "    .dataframe tbody tr th {\n",
       "        vertical-align: top;\n",
       "    }\n",
       "\n",
       "    .dataframe thead th {\n",
       "        text-align: right;\n",
       "    }\n",
       "</style>\n",
       "<table border=\"1\" class=\"dataframe\">\n",
       "  <thead>\n",
       "    <tr style=\"text-align: right;\">\n",
       "      <th></th>\n",
       "      <th>ids</th>\n",
       "      <th>text</th>\n",
       "      <th>score</th>\n",
       "    </tr>\n",
       "  </thead>\n",
       "  <tbody>\n",
       "    <tr>\n",
       "      <th>11097</th>\n",
       "      <td>9695</td>\n",
       "      <td>WARNING Dont even consider watching this film ...</td>\n",
       "      <td>1</td>\n",
       "    </tr>\n",
       "    <tr>\n",
       "      <th>1378</th>\n",
       "      <td>12497</td>\n",
       "      <td>Im sure that the folks on the TexasLouisiana b...</td>\n",
       "      <td>4</td>\n",
       "    </tr>\n",
       "    <tr>\n",
       "      <th>2429</th>\n",
       "      <td>5300</td>\n",
       "      <td>I found this film to funny from the start John...</td>\n",
       "      <td>8</td>\n",
       "    </tr>\n",
       "    <tr>\n",
       "      <th>6456</th>\n",
       "      <td>4878</td>\n",
       "      <td>After seeing this film I did not want my money...</td>\n",
       "      <td>1</td>\n",
       "    </tr>\n",
       "    <tr>\n",
       "      <th>11312</th>\n",
       "      <td>9612</td>\n",
       "      <td>I wont be too hard on this show because I enjo...</td>\n",
       "      <td>2</td>\n",
       "    </tr>\n",
       "  </tbody>\n",
       "</table>\n",
       "</div>"
      ],
      "text/plain": [
       "         ids                                               text score\n",
       "11097   9695  WARNING Dont even consider watching this film ...     1\n",
       "1378   12497  Im sure that the folks on the TexasLouisiana b...     4\n",
       "2429    5300  I found this film to funny from the start John...     8\n",
       "6456    4878  After seeing this film I did not want my money...     1\n",
       "11312   9612  I wont be too hard on this show because I enjo...     2"
      ]
     },
     "execution_count": 9,
     "metadata": {},
     "output_type": "execute_result"
    }
   ],
   "source": [
    "df = df.sample(frac=1)\n",
    "df.head()"
   ]
  },
  {
   "cell_type": "code",
   "execution_count": 10,
   "metadata": {},
   "outputs": [],
   "source": [
    "from sklearn.feature_extraction.text import TfidfVectorizer\n",
    "from sklearn.model_selection import train_test_split"
   ]
  },
  {
   "cell_type": "code",
   "execution_count": 11,
   "metadata": {},
   "outputs": [],
   "source": [
    "train_score=df.score[:40000]\n",
    "train_review=df.text[:40000]\n",
    "test_score=df.score[40000:]\n",
    "test_review=df.text[40000:]"
   ]
  },
  {
   "cell_type": "code",
   "execution_count": 12,
   "metadata": {},
   "outputs": [
    {
     "data": {
      "text/plain": [
       "((40000, 60403), (10000, 60403))"
      ]
     },
     "execution_count": 12,
     "metadata": {},
     "output_type": "execute_result"
    }
   ],
   "source": [
    "tf_idf_vec = TfidfVectorizer(min_df = 20, max_df = 0.5, ngram_range=(1, 2))\n",
    "\n",
    "matrix_train_review = tf_idf_vec.fit_transform(train_review)\n",
    "matrix_test_reiew = tf_idf_vec.transform(test_review)\n",
    "\n",
    "matrix_train_review.shape, matrix_test_reiew.shape"
   ]
  },
  {
   "cell_type": "markdown",
   "metadata": {},
   "source": [
    "## Обучение\n",
    "Выбор пал на **логистическую регрессию** потому, что она хорошо спавляется с сильно разреженными данными.\n",
    "В виду размеров обучающей выборки можно не использовать кросс-валидацию."
   ]
  },
  {
   "cell_type": "code",
   "execution_count": 13,
   "metadata": {},
   "outputs": [],
   "source": [
    "from sklearn.linear_model import LogisticRegression\n",
    "from sklearn.metrics import accuracy_score, classification_report"
   ]
  },
  {
   "cell_type": "code",
   "execution_count": 14,
   "metadata": {},
   "outputs": [
    {
     "name": "stderr",
     "output_type": "stream",
     "text": [
      "/Users/user/Documents/GitHub/mlcourse.ai/env/lib/python3.7/site-packages/sklearn/linear_model/logistic.py:432: FutureWarning: Default solver will be changed to 'lbfgs' in 0.22. Specify a solver to silence this warning.\n",
      "  FutureWarning)\n",
      "/Users/user/Documents/GitHub/mlcourse.ai/env/lib/python3.7/site-packages/sklearn/linear_model/logistic.py:469: FutureWarning: Default multi_class will be changed to 'auto' in 0.22. Specify the multi_class option to silence this warning.\n",
      "  \"this warning.\", FutureWarning)\n"
     ]
    },
    {
     "name": "stdout",
     "output_type": "stream",
     "text": [
      "overfit?\n",
      "accuracy:  0.71975\n"
     ]
    }
   ],
   "source": [
    "logit = LogisticRegression(C = 1, random_state=42, max_iter=1000)\n",
    "logit.fit(matrix_train_review, train_score)\n",
    "tmp = logit.predict(matrix_train_review)\n",
    "print(\"overfit?\\naccuracy: \",accuracy_score(list(tmp), train_score))\n",
    "      \n",
    "predict = logit.predict(matrix_test_reiew)"
   ]
  },
  {
   "cell_type": "markdown",
   "metadata": {},
   "source": [
    "### Отчёт по качеству определения оценки отзыва  \n",
    "Стоит заметить, что изначальной задачей является классификация тональноси отзыва. Также оценка отзыва более субъективное понятие, чем тональность так, как границы у окенок одной и той же тональности очень размыты. Можно предположить, что при размечивании разчными ассесорами, схожие отзывы могли получить различные оценки, но иметь одинаковые тональности."
   ]
  },
  {
   "cell_type": "code",
   "execution_count": 15,
   "metadata": {},
   "outputs": [
    {
     "name": "stdout",
     "output_type": "stream",
     "text": [
      "              precision    recall  f1-score   support\n",
      "\n",
      "           1       0.54      0.87      0.66      2028\n",
      "          10       0.46      0.82      0.59      1902\n",
      "           2       0.29      0.05      0.08       917\n",
      "           3       0.29      0.14      0.19       969\n",
      "           4       0.36      0.35      0.36      1040\n",
      "           7       0.37      0.25      0.30       958\n",
      "           8       0.32      0.25      0.28      1235\n",
      "           9       0.30      0.04      0.07       951\n",
      "\n",
      "    accuracy                           0.45     10000\n",
      "   macro avg       0.37      0.35      0.32     10000\n",
      "weighted avg       0.39      0.45      0.38     10000\n",
      "\n"
     ]
    }
   ],
   "source": [
    "print(classification_report(test_score, predict))"
   ]
  },
  {
   "cell_type": "code",
   "execution_count": 16,
   "metadata": {},
   "outputs": [
    {
     "name": "stdout",
     "output_type": "stream",
     "text": [
      "Качество определения тональности\n",
      "\n",
      "              precision    recall  f1-score   support\n",
      "\n",
      "          -1       0.90      0.89      0.89      4954\n",
      "           1       0.89      0.90      0.90      5046\n",
      "\n",
      "    accuracy                           0.89     10000\n",
      "   macro avg       0.89      0.89      0.89     10000\n",
      "weighted avg       0.89      0.89      0.89     10000\n",
      "\n"
     ]
    }
   ],
   "source": [
    "print(\"Качество определения тональности\\n\")\n",
    "y_true = pd.Series(test_score).apply(lambda x: 1*np.sign(int(x)-5))\n",
    "y_pred = pd.Series(predict).apply(lambda x: 1*np.sign(int(x)-5))\n",
    "print(classification_report(y_true, y_pred))"
   ]
  },
  {
   "cell_type": "markdown",
   "metadata": {},
   "source": [
    "**Как можно заметить, различные метрики качества (полнота, точность, f- мера и доля правильных отетов) дают примерно одинаковое качество классификации, равное 0,90** "
   ]
  },
  {
   "cell_type": "code",
   "execution_count": 17,
   "metadata": {},
   "outputs": [
    {
     "data": {
      "text/plain": [
       "Text(0, 0.5, 'count')"
      ]
     },
     "execution_count": 17,
     "metadata": {},
     "output_type": "execute_result"
    },
    {
     "data": {
      "image/png": "[encoded data removed]",
      "text/plain": [
       "<Figure size 432x288 with 1 Axes>"
      ]
     },
     "metadata": {
      "needs_background": "light"
     },
     "output_type": "display_data"
    }
   ],
   "source": [
    "df['score'].value_counts().plot(kind = 'bar')\n",
    "plt.title(\"scores distribution\")\n",
    "plt.xlabel('scores')\n",
    "plt.ylabel('count')"
   ]
  },
  {
   "cell_type": "markdown",
   "metadata": {},
   "source": [
    "Рисунок выше наглядно отображает неравномерное распределение оценок, что может влиять на качество решения многоклассовой классификации, что в свою очередь косвенно может влиять на качество конечной модели."
   ]
  },
  {
   "cell_type": "markdown",
   "metadata": {},
   "source": [
    "## Запекание (сериализация) модели"
   ]
  },
  {
   "cell_type": "code",
   "execution_count": 18,
   "metadata": {},
   "outputs": [],
   "source": [
    "class Classifier():\n",
    "    def __init__(self, model, tf_idf_vectorizer):\n",
    "        self.logit = model\n",
    "        self.tf_idf_vectorizer = tf_idf_vectorizer\n",
    "    \n",
    "    \n",
    "    def strip_html(self, text):\n",
    "        soup = BeautifulSoup(text, 'html.parser')\n",
    "        return soup.get_text()\n",
    "\n",
    "\n",
    "    # Удаление квадратных скобок\n",
    "    def remove_square_brackets(self, text):\n",
    "        return re.sub('\\[[^]]*\\]', '', text)\n",
    "\n",
    "\n",
    "    # Общая чистка\n",
    "    def clean_text(self, text):\n",
    "        text = self.strip_html(text)\n",
    "        text = self.remove_square_brackets(text)\n",
    "        return text\n",
    "    \n",
    "    \n",
    "    # Глубокая чистка \n",
    "    def deep_cleaning(self, text, remove_digits=True):\n",
    "        pattern = r'[^a-zA-z0-9\\s]'\n",
    "        text = re.sub(pattern, '', text)\n",
    "        return text\n",
    "    \n",
    "    \n",
    "    def processing (self, text):\n",
    "        text = self.clean_text(text)\n",
    "        text = self.deep_cleaning(text)\n",
    "        text_vec = self.tf_idf_vectorizer.transform([text,])\n",
    "        score  = int(self.logit.predict(text_vec))\n",
    "        tone =  1*np.sign(score-5)\n",
    "        return (tone, score)\n",
    "        "
   ]
  },
  {
   "cell_type": "code",
   "execution_count": 19,
   "metadata": {},
   "outputs": [],
   "source": [
    "import pickle\n",
    "\n",
    "clf_model = Classifier(logit, tf_idf_vec)\n",
    "filename = 'logit_model.sav'\n",
    "pickle.dump(clf_model, open(filename, 'wb'))"
   ]
  },
  {
   "cell_type": "markdown",
   "metadata": {},
   "source": [
    "### Отдельно сериализуем для Django так, как pickle объекты это фреймворк десериализовывать не хочет"
   ]
  },
  {
   "cell_type": "code",
   "execution_count": 20,
   "metadata": {},
   "outputs": [
    {
     "name": "stderr",
     "output_type": "stream",
     "text": [
      "/Users/user/Documents/GitHub/mlcourse.ai/env/lib/python3.7/site-packages/sklearn/externals/joblib/__init__.py:15: DeprecationWarning: sklearn.externals.joblib is deprecated in 0.21 and will be removed in 0.23. Please import this functionality directly from joblib, which can be installed with: pip install joblib. If this warning is raised when loading pickled models, you may need to re-serialize those models with scikit-learn 0.21+.\n",
      "  warnings.warn(msg, category=DeprecationWarning)\n"
     ]
    },
    {
     "data": {
      "text/plain": [
       "['tf_idf_vec.pkl']"
      ]
     },
     "execution_count": 20,
     "metadata": {},
     "output_type": "execute_result"
    }
   ],
   "source": [
    "from sklearn.externals import joblib\n",
    "\n",
    "model = logit\n",
    "\n",
    "filename_1 = 'model.pkl'\n",
    "filename_2 = 'tf_idf_vec.pkl'\n",
    "\n",
    "joblib.dump(model, filename_1)\n",
    "joblib.dump(tf_idf_vec, filename_2)"
   ]
  },
  {
   "cell_type": "code",
   "execution_count": 22,
   "metadata": {},
   "outputs": [
    {
     "data": {
      "text/plain": [
       "array(['3'], dtype=object)"
      ]
     },
     "execution_count": 22,
     "metadata": {},
     "output_type": "execute_result"
    }
   ],
   "source": [
    "# Тут же и проверим работоспособность \n",
    "clf = joblib.load(filename_1)\n",
    "vec = joblib.load(filename_2)\n",
    "\n",
    "review = 'Really it\\'s a dreadful cheat of a film. Its 70-minute running time is very well padded with stock footage. The rest are non descript exteriors and drab interiors scenes. The plot exposition is very poorly rendered. They are all just perfunctory scenes sort of strung together. There is no attempt at drama in scene selection but rather drama is communicated by the intensity of the actors. Please don\\'t ask.<br /><br />The plot concerns a rocket radiating a million degree heat orbiting earth five miles up threatening to destroy the earth. It\\'s a real time menace that must be diverted if a custom built H-bomb can be fashioned and placed in an experimental rocket within an hour. Nothing very much here to report except for a mad speech by a scientist against the project because there might be some sort of life aboard and think of the scientific possibilities but this speech made by the obligatory idiot liberal was pretty much passé by then.<br /><br />What saves this film, somewhat uniquely, IS the stock footage. I\\'ve never seen a larger selection of fifties jet fighter aircraft in any other film. This is by no means a complete list but just some of the aircraft I managed to see. There\\'s a brief interception by a pilot flying, in alternate shots, an F-89 Scorpion and an F-86. First to scramble interceptors is the Royal Canadian Air Force in Hawker Hunters and F-86 Sabre Jets (or Canadian built CF-13s) and even a pair of CF-100 Clunks.<br /><br />Then for some reason there are B-52s, B-47s and even B36s are seen taking off. More padding.<br /><br />\"These Canadian jets are moving at 1200 miles an hour\". I don\\'t think so since one of them appears to be a WW2 era Gloster Meteor, the rest F-80s. The Meteors press the attack and one turns into a late F-84F with a flight of early straight wing F-84s attacking in formation.<br /><br />There\\'s a strange tandem cockpit version of the F-80 that doesn\\'t seem to be the T-33 training type but some sort of interim all-weather interceptor variant with radar in the nose. These are scrambled in a snowstorm.<br /><br />An angled deck aircraft carrier is seen from about 500 meters. It launches F-8U Crusaders, F-11F Tigers, A-5 Vigilantes and A-3 Skywarriors. The Air Force scrambles F-86s and F-84s and more F-89s then you\\'ve ever seen in your life as well as F-100 Super Sabres and F-102 Delta Daggers.<br /><br />The F-100s press their attack with sooooo much padding. The F-89\\'s unload their rockets in their wingtip pods in slo mo. The F-86s fire, an F-102 lets loose a Falcon, even some F-80s (F-94s?) with mid-wing rocket pods let loose. There is a very strange shot of a late model F-84 (prototype?) with a straight wing early model F-85 above it in a turn, obviously a manufacturer\\'s (Republic Aviation) advertising film showing the differences between the old and the new improved models of the F-84 ThunderJet. How it strayed into here is anybodies guess.<br /><br />There is other great stock footage of Ottawa in the old days when the capital of Canada was a wide spot in the road and especially wonderful footage of New York City\\'s Times Square during one of the Civil Defense Drills in the early 50s. <br /><br />I think we also have to deal with the notion that this was filmed in Canada with the possible exception of the auto chase seen late in the picture as the Pacific seems to be in the background. The use of a Jowett Jupiter is somewhat mind-boggling and there is a nice TR 3 to be seen also. Canada must have been cheap and it is rather gratuitously used a lot in the background.<br /><br />As far as the actual narrative of the film there is little to recommend it other than the mystery of just who Ellen Parker is giving the finger to at the end of the picture. And she most definitely is flipping someone off. Could it be, R as in Robert Loggia? The director who dies before this film was released? Her career as this was her last credit?<br /><br />Its like the newspaper the gift came wrapped in was more valuable than the gift.'\n",
    "review = vec.transform([review,])\n",
    "clf.predict(review)"
   ]
  },
  {
   "cell_type": "code",
   "execution_count": null,
   "metadata": {},
   "outputs": [],
   "source": []
  }
 ],
 "metadata": {
  "kernelspec": {
   "display_name": "Python 3",
   "language": "python",
   "name": "python3"
  },
  "language_info": {
   "codemirror_mode": {
    "name": "ipython",
    "version": 3
   },
   "file_extension": ".py",
   "mimetype": "text/x-python",
   "name": "python",
   "nbconvert_exporter": "python",
   "pygments_lexer": "ipython3",
   "version": "3.7.2"
  }
 },
 "nbformat": 4,
 "nbformat_minor": 4
}
