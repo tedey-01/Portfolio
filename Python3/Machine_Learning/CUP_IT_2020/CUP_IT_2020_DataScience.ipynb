{
 "cells": [
  {
   "cell_type": "code",
   "execution_count": 1,
   "metadata": {},
   "outputs": [],
   "source": [
    "import numpy as np \n",
    "import pandas as pd \n",
    "%matplotlib inline \n",
    "from matplotlib import pyplot as plt \n",
    "import seaborn as sns "
   ]
  },
  {
   "cell_type": "code",
   "execution_count": 2,
   "metadata": {},
   "outputs": [],
   "source": [
    "pd.set_option('display.max_columns', 47)"
   ]
  },
  {
   "cell_type": "code",
   "execution_count": 3,
   "metadata": {},
   "outputs": [],
   "source": [
    "df_train = pd.read_csv('../../data/CUP_IT_train_data_1.csv',skiprows = 133)"
   ]
  },
  {
   "cell_type": "code",
   "execution_count": 4,
   "metadata": {},
   "outputs": [
    {
     "data": {
      "text/html": [
       "<div>\n",
       "<style scoped>\n",
       "    .dataframe tbody tr th:only-of-type {\n",
       "        vertical-align: middle;\n",
       "    }\n",
       "\n",
       "    .dataframe tbody tr th {\n",
       "        vertical-align: top;\n",
       "    }\n",
       "\n",
       "    .dataframe thead th {\n",
       "        text-align: right;\n",
       "    }\n",
       "</style>\n",
       "<table border=\"1\" class=\"dataframe\">\n",
       "  <thead>\n",
       "    <tr style=\"text-align: right;\">\n",
       "      <th></th>\n",
       "      <th>cif_id</th>\n",
       "      <th>dlk_cob_date</th>\n",
       "      <th>gi_smooth_3m</th>\n",
       "      <th>big_city</th>\n",
       "      <th>cu_gender</th>\n",
       "      <th>cu_education_level</th>\n",
       "      <th>cu_empl_area</th>\n",
       "      <th>cu_empl_level</th>\n",
       "      <th>payroll_f</th>\n",
       "      <th>cur_quantity_pl</th>\n",
       "      <th>cur_quantity_mort</th>\n",
       "      <th>cur_quantity_cc</th>\n",
       "      <th>cur_quantity_deposits</th>\n",
       "      <th>cur_quantity_dc</th>\n",
       "      <th>cur_quantity_accounts</th>\n",
       "      <th>cur_quantity_saccounts</th>\n",
       "      <th>cur_quantity_mf</th>\n",
       "      <th>cc_balance</th>\n",
       "      <th>cl_balance</th>\n",
       "      <th>ml_balance</th>\n",
       "      <th>pl_balance</th>\n",
       "      <th>td_volume</th>\n",
       "      <th>ca_volume</th>\n",
       "      <th>sa_volume</th>\n",
       "      <th>mf_volume</th>\n",
       "      <th>dc_cash_spend_v</th>\n",
       "      <th>dc_cash_spend_c</th>\n",
       "      <th>cc_cash_spend_v</th>\n",
       "      <th>cc_cash_spend_c</th>\n",
       "      <th>dc_pos_spend_v</th>\n",
       "      <th>dc_pos_spend_c</th>\n",
       "      <th>cc_pos_spend_v</th>\n",
       "      <th>cc_pos_spend_c</th>\n",
       "      <th>ca_f</th>\n",
       "      <th>rc_session_qnt_cur_mon</th>\n",
       "      <th>cur_qnt_sms</th>\n",
       "      <th>active</th>\n",
       "      <th>standalone_dc_f</th>\n",
       "      <th>standalone_payroll_dc_f</th>\n",
       "      <th>standalone_nonpayroll_dc_f</th>\n",
       "      <th>salary</th>\n",
       "      <th>cu_age</th>\n",
       "      <th>cu_mob</th>\n",
       "      <th>cu_empl_cur_dur_m</th>\n",
       "      <th>is_married</th>\n",
       "      <th>cu_eduaction_level</th>\n",
       "    </tr>\n",
       "  </thead>\n",
       "  <tbody>\n",
       "    <tr>\n",
       "      <th>0</th>\n",
       "      <td>335992</td>\n",
       "      <td>2018-06-30</td>\n",
       "      <td>17.957530</td>\n",
       "      <td>MLN</td>\n",
       "      <td>0</td>\n",
       "      <td>02. Среднее профессиональное</td>\n",
       "      <td>ТОРГОВЛЯ</td>\n",
       "      <td>SUPPORT STAFF</td>\n",
       "      <td>0</td>\n",
       "      <td>1</td>\n",
       "      <td>0</td>\n",
       "      <td>0</td>\n",
       "      <td>0</td>\n",
       "      <td>1</td>\n",
       "      <td>1</td>\n",
       "      <td>0</td>\n",
       "      <td>0</td>\n",
       "      <td>NaN</td>\n",
       "      <td>NaN</td>\n",
       "      <td>NaN</td>\n",
       "      <td>-1700.60184</td>\n",
       "      <td>NaN</td>\n",
       "      <td>4.62528</td>\n",
       "      <td>NaN</td>\n",
       "      <td>NaN</td>\n",
       "      <td>0.0</td>\n",
       "      <td>0</td>\n",
       "      <td>0.0</td>\n",
       "      <td>0</td>\n",
       "      <td>10.41888</td>\n",
       "      <td>3</td>\n",
       "      <td>0.0</td>\n",
       "      <td>0</td>\n",
       "      <td>1</td>\n",
       "      <td>0</td>\n",
       "      <td>1.0</td>\n",
       "      <td>1</td>\n",
       "      <td>0</td>\n",
       "      <td>0</td>\n",
       "      <td>0</td>\n",
       "      <td>1192.8</td>\n",
       "      <td>29.0</td>\n",
       "      <td>144</td>\n",
       "      <td>46.0</td>\n",
       "      <td>1</td>\n",
       "      <td>2</td>\n",
       "    </tr>\n",
       "    <tr>\n",
       "      <th>1</th>\n",
       "      <td>335992</td>\n",
       "      <td>2018-04-30</td>\n",
       "      <td>27.720918</td>\n",
       "      <td>MLN</td>\n",
       "      <td>0</td>\n",
       "      <td>02. Среднее профессиональное</td>\n",
       "      <td>ТОРГОВЛЯ</td>\n",
       "      <td>SUPPORT STAFF</td>\n",
       "      <td>0</td>\n",
       "      <td>1</td>\n",
       "      <td>0</td>\n",
       "      <td>0</td>\n",
       "      <td>0</td>\n",
       "      <td>1</td>\n",
       "      <td>1</td>\n",
       "      <td>0</td>\n",
       "      <td>0</td>\n",
       "      <td>NaN</td>\n",
       "      <td>NaN</td>\n",
       "      <td>NaN</td>\n",
       "      <td>-1911.42936</td>\n",
       "      <td>NaN</td>\n",
       "      <td>300.73056</td>\n",
       "      <td>NaN</td>\n",
       "      <td>NaN</td>\n",
       "      <td>168.0</td>\n",
       "      <td>2</td>\n",
       "      <td>0.0</td>\n",
       "      <td>0</td>\n",
       "      <td>190.21536</td>\n",
       "      <td>14</td>\n",
       "      <td>0.0</td>\n",
       "      <td>0</td>\n",
       "      <td>1</td>\n",
       "      <td>0</td>\n",
       "      <td>1.0</td>\n",
       "      <td>1</td>\n",
       "      <td>0</td>\n",
       "      <td>0</td>\n",
       "      <td>0</td>\n",
       "      <td>1192.8</td>\n",
       "      <td>29.0</td>\n",
       "      <td>142</td>\n",
       "      <td>44.0</td>\n",
       "      <td>1</td>\n",
       "      <td>2</td>\n",
       "    </tr>\n",
       "    <tr>\n",
       "      <th>2</th>\n",
       "      <td>335992</td>\n",
       "      <td>2018-05-31</td>\n",
       "      <td>21.949626</td>\n",
       "      <td>MLN</td>\n",
       "      <td>0</td>\n",
       "      <td>02. Среднее профессиональное</td>\n",
       "      <td>ТОРГОВЛЯ</td>\n",
       "      <td>SUPPORT STAFF</td>\n",
       "      <td>0</td>\n",
       "      <td>1</td>\n",
       "      <td>0</td>\n",
       "      <td>0</td>\n",
       "      <td>0</td>\n",
       "      <td>1</td>\n",
       "      <td>1</td>\n",
       "      <td>0</td>\n",
       "      <td>0</td>\n",
       "      <td>NaN</td>\n",
       "      <td>NaN</td>\n",
       "      <td>NaN</td>\n",
       "      <td>-1807.09176</td>\n",
       "      <td>NaN</td>\n",
       "      <td>13.04472</td>\n",
       "      <td>NaN</td>\n",
       "      <td>NaN</td>\n",
       "      <td>0.0</td>\n",
       "      <td>0</td>\n",
       "      <td>0.0</td>\n",
       "      <td>0</td>\n",
       "      <td>161.63760</td>\n",
       "      <td>16</td>\n",
       "      <td>0.0</td>\n",
       "      <td>0</td>\n",
       "      <td>1</td>\n",
       "      <td>0</td>\n",
       "      <td>1.0</td>\n",
       "      <td>1</td>\n",
       "      <td>0</td>\n",
       "      <td>0</td>\n",
       "      <td>0</td>\n",
       "      <td>1192.8</td>\n",
       "      <td>29.0</td>\n",
       "      <td>143</td>\n",
       "      <td>45.0</td>\n",
       "      <td>1</td>\n",
       "      <td>2</td>\n",
       "    </tr>\n",
       "    <tr>\n",
       "      <th>3</th>\n",
       "      <td>335992</td>\n",
       "      <td>2018-08-31</td>\n",
       "      <td>14.855459</td>\n",
       "      <td>MLN</td>\n",
       "      <td>0</td>\n",
       "      <td>02. Среднее профессиональное</td>\n",
       "      <td>ТОРГОВЛЯ</td>\n",
       "      <td>SUPPORT STAFF</td>\n",
       "      <td>0</td>\n",
       "      <td>1</td>\n",
       "      <td>0</td>\n",
       "      <td>0</td>\n",
       "      <td>0</td>\n",
       "      <td>1</td>\n",
       "      <td>1</td>\n",
       "      <td>0</td>\n",
       "      <td>0</td>\n",
       "      <td>NaN</td>\n",
       "      <td>NaN</td>\n",
       "      <td>NaN</td>\n",
       "      <td>-1484.08752</td>\n",
       "      <td>NaN</td>\n",
       "      <td>0.35184</td>\n",
       "      <td>NaN</td>\n",
       "      <td>NaN</td>\n",
       "      <td>0.0</td>\n",
       "      <td>0</td>\n",
       "      <td>0.0</td>\n",
       "      <td>0</td>\n",
       "      <td>0.00000</td>\n",
       "      <td>0</td>\n",
       "      <td>0.0</td>\n",
       "      <td>0</td>\n",
       "      <td>1</td>\n",
       "      <td>0</td>\n",
       "      <td>1.0</td>\n",
       "      <td>1</td>\n",
       "      <td>0</td>\n",
       "      <td>0</td>\n",
       "      <td>0</td>\n",
       "      <td>1192.8</td>\n",
       "      <td>29.0</td>\n",
       "      <td>146</td>\n",
       "      <td>48.0</td>\n",
       "      <td>1</td>\n",
       "      <td>2</td>\n",
       "    </tr>\n",
       "    <tr>\n",
       "      <th>4</th>\n",
       "      <td>335992</td>\n",
       "      <td>2018-03-31</td>\n",
       "      <td>27.917161</td>\n",
       "      <td>MLN</td>\n",
       "      <td>0</td>\n",
       "      <td>02. Среднее профессиональное</td>\n",
       "      <td>ТОРГОВЛЯ</td>\n",
       "      <td>SUPPORT STAFF</td>\n",
       "      <td>0</td>\n",
       "      <td>1</td>\n",
       "      <td>0</td>\n",
       "      <td>0</td>\n",
       "      <td>0</td>\n",
       "      <td>1</td>\n",
       "      <td>1</td>\n",
       "      <td>0</td>\n",
       "      <td>0</td>\n",
       "      <td>NaN</td>\n",
       "      <td>NaN</td>\n",
       "      <td>NaN</td>\n",
       "      <td>-2015.04648</td>\n",
       "      <td>NaN</td>\n",
       "      <td>793.68216</td>\n",
       "      <td>NaN</td>\n",
       "      <td>NaN</td>\n",
       "      <td>333.6</td>\n",
       "      <td>3</td>\n",
       "      <td>0.0</td>\n",
       "      <td>0</td>\n",
       "      <td>322.27032</td>\n",
       "      <td>28</td>\n",
       "      <td>0.0</td>\n",
       "      <td>0</td>\n",
       "      <td>1</td>\n",
       "      <td>0</td>\n",
       "      <td>1.0</td>\n",
       "      <td>1</td>\n",
       "      <td>0</td>\n",
       "      <td>0</td>\n",
       "      <td>0</td>\n",
       "      <td>1192.8</td>\n",
       "      <td>29.0</td>\n",
       "      <td>141</td>\n",
       "      <td>43.0</td>\n",
       "      <td>1</td>\n",
       "      <td>2</td>\n",
       "    </tr>\n",
       "    <tr>\n",
       "      <th>...</th>\n",
       "      <td>...</td>\n",
       "      <td>...</td>\n",
       "      <td>...</td>\n",
       "      <td>...</td>\n",
       "      <td>...</td>\n",
       "      <td>...</td>\n",
       "      <td>...</td>\n",
       "      <td>...</td>\n",
       "      <td>...</td>\n",
       "      <td>...</td>\n",
       "      <td>...</td>\n",
       "      <td>...</td>\n",
       "      <td>...</td>\n",
       "      <td>...</td>\n",
       "      <td>...</td>\n",
       "      <td>...</td>\n",
       "      <td>...</td>\n",
       "      <td>...</td>\n",
       "      <td>...</td>\n",
       "      <td>...</td>\n",
       "      <td>...</td>\n",
       "      <td>...</td>\n",
       "      <td>...</td>\n",
       "      <td>...</td>\n",
       "      <td>...</td>\n",
       "      <td>...</td>\n",
       "      <td>...</td>\n",
       "      <td>...</td>\n",
       "      <td>...</td>\n",
       "      <td>...</td>\n",
       "      <td>...</td>\n",
       "      <td>...</td>\n",
       "      <td>...</td>\n",
       "      <td>...</td>\n",
       "      <td>...</td>\n",
       "      <td>...</td>\n",
       "      <td>...</td>\n",
       "      <td>...</td>\n",
       "      <td>...</td>\n",
       "      <td>...</td>\n",
       "      <td>...</td>\n",
       "      <td>...</td>\n",
       "      <td>...</td>\n",
       "      <td>...</td>\n",
       "      <td>...</td>\n",
       "      <td>...</td>\n",
       "    </tr>\n",
       "    <tr>\n",
       "      <th>4161778</th>\n",
       "      <td>120605</td>\n",
       "      <td>2018-06-30</td>\n",
       "      <td>52.379263</td>\n",
       "      <td>MSK</td>\n",
       "      <td>0</td>\n",
       "      <td>02. Среднее профессиональное</td>\n",
       "      <td>ТОРГОВЛЯ</td>\n",
       "      <td>SUPPORT STAFF</td>\n",
       "      <td>0</td>\n",
       "      <td>1</td>\n",
       "      <td>0</td>\n",
       "      <td>0</td>\n",
       "      <td>0</td>\n",
       "      <td>1</td>\n",
       "      <td>1</td>\n",
       "      <td>0</td>\n",
       "      <td>0</td>\n",
       "      <td>NaN</td>\n",
       "      <td>NaN</td>\n",
       "      <td>NaN</td>\n",
       "      <td>-11050.39320</td>\n",
       "      <td>NaN</td>\n",
       "      <td>2.33736</td>\n",
       "      <td>NaN</td>\n",
       "      <td>NaN</td>\n",
       "      <td>33.6</td>\n",
       "      <td>2</td>\n",
       "      <td>0.0</td>\n",
       "      <td>0</td>\n",
       "      <td>0.00000</td>\n",
       "      <td>0</td>\n",
       "      <td>0.0</td>\n",
       "      <td>0</td>\n",
       "      <td>1</td>\n",
       "      <td>5</td>\n",
       "      <td>-100.0</td>\n",
       "      <td>1</td>\n",
       "      <td>1</td>\n",
       "      <td>0</td>\n",
       "      <td>1</td>\n",
       "      <td>960.0</td>\n",
       "      <td>34.0</td>\n",
       "      <td>115</td>\n",
       "      <td>31.0</td>\n",
       "      <td>1</td>\n",
       "      <td>2</td>\n",
       "    </tr>\n",
       "    <tr>\n",
       "      <th>4161779</th>\n",
       "      <td>120605</td>\n",
       "      <td>2018-02-28</td>\n",
       "      <td>54.218822</td>\n",
       "      <td>MSK</td>\n",
       "      <td>0</td>\n",
       "      <td>02. Среднее профессиональное</td>\n",
       "      <td>ТОРГОВЛЯ</td>\n",
       "      <td>SUPPORT STAFF</td>\n",
       "      <td>0</td>\n",
       "      <td>1</td>\n",
       "      <td>0</td>\n",
       "      <td>0</td>\n",
       "      <td>0</td>\n",
       "      <td>1</td>\n",
       "      <td>1</td>\n",
       "      <td>0</td>\n",
       "      <td>0</td>\n",
       "      <td>NaN</td>\n",
       "      <td>NaN</td>\n",
       "      <td>NaN</td>\n",
       "      <td>-11773.29480</td>\n",
       "      <td>NaN</td>\n",
       "      <td>2.52936</td>\n",
       "      <td>NaN</td>\n",
       "      <td>NaN</td>\n",
       "      <td>0.0</td>\n",
       "      <td>0</td>\n",
       "      <td>0.0</td>\n",
       "      <td>0</td>\n",
       "      <td>0.00000</td>\n",
       "      <td>0</td>\n",
       "      <td>0.0</td>\n",
       "      <td>0</td>\n",
       "      <td>1</td>\n",
       "      <td>2</td>\n",
       "      <td>-100.0</td>\n",
       "      <td>1</td>\n",
       "      <td>1</td>\n",
       "      <td>0</td>\n",
       "      <td>1</td>\n",
       "      <td>960.0</td>\n",
       "      <td>33.0</td>\n",
       "      <td>111</td>\n",
       "      <td>27.0</td>\n",
       "      <td>1</td>\n",
       "      <td>2</td>\n",
       "    </tr>\n",
       "    <tr>\n",
       "      <th>4161780</th>\n",
       "      <td>120605</td>\n",
       "      <td>2018-03-31</td>\n",
       "      <td>53.343644</td>\n",
       "      <td>MSK</td>\n",
       "      <td>0</td>\n",
       "      <td>02. Среднее профессиональное</td>\n",
       "      <td>ТОРГОВЛЯ</td>\n",
       "      <td>SUPPORT STAFF</td>\n",
       "      <td>0</td>\n",
       "      <td>1</td>\n",
       "      <td>0</td>\n",
       "      <td>0</td>\n",
       "      <td>0</td>\n",
       "      <td>1</td>\n",
       "      <td>1</td>\n",
       "      <td>0</td>\n",
       "      <td>0</td>\n",
       "      <td>NaN</td>\n",
       "      <td>NaN</td>\n",
       "      <td>NaN</td>\n",
       "      <td>-11597.15040</td>\n",
       "      <td>NaN</td>\n",
       "      <td>1.29336</td>\n",
       "      <td>NaN</td>\n",
       "      <td>NaN</td>\n",
       "      <td>0.0</td>\n",
       "      <td>0</td>\n",
       "      <td>0.0</td>\n",
       "      <td>0</td>\n",
       "      <td>1.58400</td>\n",
       "      <td>1</td>\n",
       "      <td>0.0</td>\n",
       "      <td>0</td>\n",
       "      <td>1</td>\n",
       "      <td>5</td>\n",
       "      <td>-100.0</td>\n",
       "      <td>1</td>\n",
       "      <td>1</td>\n",
       "      <td>0</td>\n",
       "      <td>1</td>\n",
       "      <td>960.0</td>\n",
       "      <td>33.0</td>\n",
       "      <td>112</td>\n",
       "      <td>28.0</td>\n",
       "      <td>1</td>\n",
       "      <td>2</td>\n",
       "    </tr>\n",
       "    <tr>\n",
       "      <th>4161781</th>\n",
       "      <td>120605</td>\n",
       "      <td>2018-04-30</td>\n",
       "      <td>52.248182</td>\n",
       "      <td>MSK</td>\n",
       "      <td>0</td>\n",
       "      <td>02. Среднее профессиональное</td>\n",
       "      <td>ТОРГОВЛЯ</td>\n",
       "      <td>SUPPORT STAFF</td>\n",
       "      <td>0</td>\n",
       "      <td>1</td>\n",
       "      <td>0</td>\n",
       "      <td>0</td>\n",
       "      <td>0</td>\n",
       "      <td>1</td>\n",
       "      <td>1</td>\n",
       "      <td>0</td>\n",
       "      <td>0</td>\n",
       "      <td>NaN</td>\n",
       "      <td>NaN</td>\n",
       "      <td>NaN</td>\n",
       "      <td>-11415.40656</td>\n",
       "      <td>NaN</td>\n",
       "      <td>1.64136</td>\n",
       "      <td>NaN</td>\n",
       "      <td>NaN</td>\n",
       "      <td>0.0</td>\n",
       "      <td>0</td>\n",
       "      <td>0.0</td>\n",
       "      <td>0</td>\n",
       "      <td>0.00000</td>\n",
       "      <td>0</td>\n",
       "      <td>0.0</td>\n",
       "      <td>0</td>\n",
       "      <td>1</td>\n",
       "      <td>2</td>\n",
       "      <td>-100.0</td>\n",
       "      <td>1</td>\n",
       "      <td>1</td>\n",
       "      <td>0</td>\n",
       "      <td>1</td>\n",
       "      <td>960.0</td>\n",
       "      <td>34.0</td>\n",
       "      <td>113</td>\n",
       "      <td>29.0</td>\n",
       "      <td>1</td>\n",
       "      <td>2</td>\n",
       "    </tr>\n",
       "    <tr>\n",
       "      <th>4161782</th>\n",
       "      <td>120605</td>\n",
       "      <td>2018-09-30</td>\n",
       "      <td>63.761038</td>\n",
       "      <td>MSK</td>\n",
       "      <td>0</td>\n",
       "      <td>02. Среднее профессиональное</td>\n",
       "      <td>ТОРГОВЛЯ</td>\n",
       "      <td>SUPPORT STAFF</td>\n",
       "      <td>0</td>\n",
       "      <td>1</td>\n",
       "      <td>0</td>\n",
       "      <td>0</td>\n",
       "      <td>0</td>\n",
       "      <td>1</td>\n",
       "      <td>1</td>\n",
       "      <td>0</td>\n",
       "      <td>0</td>\n",
       "      <td>NaN</td>\n",
       "      <td>NaN</td>\n",
       "      <td>NaN</td>\n",
       "      <td>-10490.76888</td>\n",
       "      <td>NaN</td>\n",
       "      <td>0.98136</td>\n",
       "      <td>NaN</td>\n",
       "      <td>NaN</td>\n",
       "      <td>0.0</td>\n",
       "      <td>0</td>\n",
       "      <td>0.0</td>\n",
       "      <td>0</td>\n",
       "      <td>0.00000</td>\n",
       "      <td>0</td>\n",
       "      <td>0.0</td>\n",
       "      <td>0</td>\n",
       "      <td>1</td>\n",
       "      <td>3</td>\n",
       "      <td>-100.0</td>\n",
       "      <td>1</td>\n",
       "      <td>1</td>\n",
       "      <td>0</td>\n",
       "      <td>1</td>\n",
       "      <td>960.0</td>\n",
       "      <td>34.0</td>\n",
       "      <td>118</td>\n",
       "      <td>34.0</td>\n",
       "      <td>1</td>\n",
       "      <td>2</td>\n",
       "    </tr>\n",
       "  </tbody>\n",
       "</table>\n",
       "<p>4161783 rows × 46 columns</p>\n",
       "</div>"
      ],
      "text/plain": [
       "         cif_id dlk_cob_date  gi_smooth_3m big_city  cu_gender  \\\n",
       "0        335992   2018-06-30     17.957530      MLN          0   \n",
       "1        335992   2018-04-30     27.720918      MLN          0   \n",
       "2        335992   2018-05-31     21.949626      MLN          0   \n",
       "3        335992   2018-08-31     14.855459      MLN          0   \n",
       "4        335992   2018-03-31     27.917161      MLN          0   \n",
       "...         ...          ...           ...      ...        ...   \n",
       "4161778  120605   2018-06-30     52.379263      MSK          0   \n",
       "4161779  120605   2018-02-28     54.218822      MSK          0   \n",
       "4161780  120605   2018-03-31     53.343644      MSK          0   \n",
       "4161781  120605   2018-04-30     52.248182      MSK          0   \n",
       "4161782  120605   2018-09-30     63.761038      MSK          0   \n",
       "\n",
       "                   cu_education_level cu_empl_area  cu_empl_level  payroll_f  \\\n",
       "0        02. Среднее профессиональное     ТОРГОВЛЯ  SUPPORT STAFF          0   \n",
       "1        02. Среднее профессиональное     ТОРГОВЛЯ  SUPPORT STAFF          0   \n",
       "2        02. Среднее профессиональное     ТОРГОВЛЯ  SUPPORT STAFF          0   \n",
       "3        02. Среднее профессиональное     ТОРГОВЛЯ  SUPPORT STAFF          0   \n",
       "4        02. Среднее профессиональное     ТОРГОВЛЯ  SUPPORT STAFF          0   \n",
       "...                               ...          ...            ...        ...   \n",
       "4161778  02. Среднее профессиональное     ТОРГОВЛЯ  SUPPORT STAFF          0   \n",
       "4161779  02. Среднее профессиональное     ТОРГОВЛЯ  SUPPORT STAFF          0   \n",
       "4161780  02. Среднее профессиональное     ТОРГОВЛЯ  SUPPORT STAFF          0   \n",
       "4161781  02. Среднее профессиональное     ТОРГОВЛЯ  SUPPORT STAFF          0   \n",
       "4161782  02. Среднее профессиональное     ТОРГОВЛЯ  SUPPORT STAFF          0   \n",
       "\n",
       "         cur_quantity_pl  cur_quantity_mort  cur_quantity_cc  \\\n",
       "0                      1                  0                0   \n",
       "1                      1                  0                0   \n",
       "2                      1                  0                0   \n",
       "3                      1                  0                0   \n",
       "4                      1                  0                0   \n",
       "...                  ...                ...              ...   \n",
       "4161778                1                  0                0   \n",
       "4161779                1                  0                0   \n",
       "4161780                1                  0                0   \n",
       "4161781                1                  0                0   \n",
       "4161782                1                  0                0   \n",
       "\n",
       "         cur_quantity_deposits  cur_quantity_dc  cur_quantity_accounts  \\\n",
       "0                            0                1                      1   \n",
       "1                            0                1                      1   \n",
       "2                            0                1                      1   \n",
       "3                            0                1                      1   \n",
       "4                            0                1                      1   \n",
       "...                        ...              ...                    ...   \n",
       "4161778                      0                1                      1   \n",
       "4161779                      0                1                      1   \n",
       "4161780                      0                1                      1   \n",
       "4161781                      0                1                      1   \n",
       "4161782                      0                1                      1   \n",
       "\n",
       "         cur_quantity_saccounts  cur_quantity_mf  cc_balance  cl_balance  \\\n",
       "0                             0                0         NaN         NaN   \n",
       "1                             0                0         NaN         NaN   \n",
       "2                             0                0         NaN         NaN   \n",
       "3                             0                0         NaN         NaN   \n",
       "4                             0                0         NaN         NaN   \n",
       "...                         ...              ...         ...         ...   \n",
       "4161778                       0                0         NaN         NaN   \n",
       "4161779                       0                0         NaN         NaN   \n",
       "4161780                       0                0         NaN         NaN   \n",
       "4161781                       0                0         NaN         NaN   \n",
       "4161782                       0                0         NaN         NaN   \n",
       "\n",
       "         ml_balance   pl_balance  td_volume  ca_volume  sa_volume  mf_volume  \\\n",
       "0               NaN  -1700.60184        NaN    4.62528        NaN        NaN   \n",
       "1               NaN  -1911.42936        NaN  300.73056        NaN        NaN   \n",
       "2               NaN  -1807.09176        NaN   13.04472        NaN        NaN   \n",
       "3               NaN  -1484.08752        NaN    0.35184        NaN        NaN   \n",
       "4               NaN  -2015.04648        NaN  793.68216        NaN        NaN   \n",
       "...             ...          ...        ...        ...        ...        ...   \n",
       "4161778         NaN -11050.39320        NaN    2.33736        NaN        NaN   \n",
       "4161779         NaN -11773.29480        NaN    2.52936        NaN        NaN   \n",
       "4161780         NaN -11597.15040        NaN    1.29336        NaN        NaN   \n",
       "4161781         NaN -11415.40656        NaN    1.64136        NaN        NaN   \n",
       "4161782         NaN -10490.76888        NaN    0.98136        NaN        NaN   \n",
       "\n",
       "         dc_cash_spend_v  dc_cash_spend_c  cc_cash_spend_v  cc_cash_spend_c  \\\n",
       "0                    0.0                0              0.0                0   \n",
       "1                  168.0                2              0.0                0   \n",
       "2                    0.0                0              0.0                0   \n",
       "3                    0.0                0              0.0                0   \n",
       "4                  333.6                3              0.0                0   \n",
       "...                  ...              ...              ...              ...   \n",
       "4161778             33.6                2              0.0                0   \n",
       "4161779              0.0                0              0.0                0   \n",
       "4161780              0.0                0              0.0                0   \n",
       "4161781              0.0                0              0.0                0   \n",
       "4161782              0.0                0              0.0                0   \n",
       "\n",
       "         dc_pos_spend_v  dc_pos_spend_c  cc_pos_spend_v  cc_pos_spend_c  ca_f  \\\n",
       "0              10.41888               3             0.0               0     1   \n",
       "1             190.21536              14             0.0               0     1   \n",
       "2             161.63760              16             0.0               0     1   \n",
       "3               0.00000               0             0.0               0     1   \n",
       "4             322.27032              28             0.0               0     1   \n",
       "...                 ...             ...             ...             ...   ...   \n",
       "4161778         0.00000               0             0.0               0     1   \n",
       "4161779         0.00000               0             0.0               0     1   \n",
       "4161780         1.58400               1             0.0               0     1   \n",
       "4161781         0.00000               0             0.0               0     1   \n",
       "4161782         0.00000               0             0.0               0     1   \n",
       "\n",
       "         rc_session_qnt_cur_mon  cur_qnt_sms  active  standalone_dc_f  \\\n",
       "0                             0          1.0       1                0   \n",
       "1                             0          1.0       1                0   \n",
       "2                             0          1.0       1                0   \n",
       "3                             0          1.0       1                0   \n",
       "4                             0          1.0       1                0   \n",
       "...                         ...          ...     ...              ...   \n",
       "4161778                       5       -100.0       1                1   \n",
       "4161779                       2       -100.0       1                1   \n",
       "4161780                       5       -100.0       1                1   \n",
       "4161781                       2       -100.0       1                1   \n",
       "4161782                       3       -100.0       1                1   \n",
       "\n",
       "         standalone_payroll_dc_f  standalone_nonpayroll_dc_f  salary  cu_age  \\\n",
       "0                              0                           0  1192.8    29.0   \n",
       "1                              0                           0  1192.8    29.0   \n",
       "2                              0                           0  1192.8    29.0   \n",
       "3                              0                           0  1192.8    29.0   \n",
       "4                              0                           0  1192.8    29.0   \n",
       "...                          ...                         ...     ...     ...   \n",
       "4161778                        0                           1   960.0    34.0   \n",
       "4161779                        0                           1   960.0    33.0   \n",
       "4161780                        0                           1   960.0    33.0   \n",
       "4161781                        0                           1   960.0    34.0   \n",
       "4161782                        0                           1   960.0    34.0   \n",
       "\n",
       "         cu_mob  cu_empl_cur_dur_m  is_married  cu_eduaction_level  \n",
       "0           144               46.0           1                   2  \n",
       "1           142               44.0           1                   2  \n",
       "2           143               45.0           1                   2  \n",
       "3           146               48.0           1                   2  \n",
       "4           141               43.0           1                   2  \n",
       "...         ...                ...         ...                 ...  \n",
       "4161778     115               31.0           1                   2  \n",
       "4161779     111               27.0           1                   2  \n",
       "4161780     112               28.0           1                   2  \n",
       "4161781     113               29.0           1                   2  \n",
       "4161782     118               34.0           1                   2  \n",
       "\n",
       "[4161783 rows x 46 columns]"
      ]
     },
     "execution_count": 4,
     "metadata": {},
     "output_type": "execute_result"
    }
   ],
   "source": [
    "df_train"
   ]
  },
  {
   "cell_type": "code",
   "execution_count": 5,
   "metadata": {},
   "outputs": [
    {
     "name": "stdout",
     "output_type": "stream",
     "text": [
      "<class 'pandas.core.frame.DataFrame'>\n",
      "RangeIndex: 4161783 entries, 0 to 4161782\n",
      "Data columns (total 46 columns):\n",
      "cif_id                        4161783 non-null int64\n",
      "dlk_cob_date                  4161783 non-null object\n",
      "gi_smooth_3m                  4161783 non-null float64\n",
      "big_city                      4161783 non-null object\n",
      "cu_gender                     4161783 non-null int64\n",
      "cu_education_level            3792728 non-null object\n",
      "cu_empl_area                  3388776 non-null object\n",
      "cu_empl_level                 3666449 non-null object\n",
      "payroll_f                     4161783 non-null int64\n",
      "cur_quantity_pl               4161783 non-null int64\n",
      "cur_quantity_mort             4161783 non-null int64\n",
      "cur_quantity_cc               4161783 non-null int64\n",
      "cur_quantity_deposits         4161783 non-null int64\n",
      "cur_quantity_dc               4161783 non-null int64\n",
      "cur_quantity_accounts         4161783 non-null int64\n",
      "cur_quantity_saccounts        4161783 non-null int64\n",
      "cur_quantity_mf               4161783 non-null int64\n",
      "cc_balance                    1598932 non-null float64\n",
      "cl_balance                    83270 non-null float64\n",
      "ml_balance                    179740 non-null float64\n",
      "pl_balance                    1898900 non-null float64\n",
      "td_volume                     14913 non-null float64\n",
      "ca_volume                     4056503 non-null float64\n",
      "sa_volume                     297480 non-null float64\n",
      "mf_volume                     11375 non-null float64\n",
      "dc_cash_spend_v               4161783 non-null float64\n",
      "dc_cash_spend_c               4161783 non-null int64\n",
      "cc_cash_spend_v               4161783 non-null float64\n",
      "cc_cash_spend_c               4161783 non-null int64\n",
      "dc_pos_spend_v                4161783 non-null float64\n",
      "dc_pos_spend_c                4161783 non-null int64\n",
      "cc_pos_spend_v                4161783 non-null float64\n",
      "cc_pos_spend_c                4161783 non-null int64\n",
      "ca_f                          4161783 non-null int64\n",
      "rc_session_qnt_cur_mon        4161783 non-null int64\n",
      "cur_qnt_sms                   4161783 non-null float64\n",
      "active                        4161783 non-null int64\n",
      "standalone_dc_f               4161783 non-null int64\n",
      "standalone_payroll_dc_f       4161783 non-null int64\n",
      "standalone_nonpayroll_dc_f    4161783 non-null int64\n",
      "salary                        4161783 non-null float64\n",
      "cu_age                        4161783 non-null float64\n",
      "cu_mob                        4161783 non-null int64\n",
      "cu_empl_cur_dur_m             4161783 non-null float64\n",
      "is_married                    4161783 non-null int64\n",
      "cu_eduaction_level            4161783 non-null int64\n",
      "dtypes: float64(17), int64(24), object(5)\n",
      "memory usage: 1.4+ GB\n"
     ]
    }
   ],
   "source": [
    "df_train.info(null_counts = True)"
   ]
  },
  {
   "cell_type": "markdown",
   "metadata": {},
   "source": [
    "Можем видеть, что некоторые признаки(столбцы) сильно разрежены. Хотельсь бы их заполнить актуальными данными"
   ]
  },
  {
   "cell_type": "code",
   "execution_count": 7,
   "metadata": {},
   "outputs": [
    {
     "data": {
      "text/plain": [
       "cif_id                         396576\n",
       "dlk_cob_date                       12\n",
       "gi_smooth_3m                  3817271\n",
       "big_city                            4\n",
       "cu_gender                           2\n",
       "cu_education_level                  4\n",
       "cu_empl_area                      134\n",
       "cu_empl_level                      29\n",
       "payroll_f                           2\n",
       "cur_quantity_pl                     7\n",
       "cur_quantity_mort                   4\n",
       "cur_quantity_cc                    11\n",
       "cur_quantity_deposits               6\n",
       "cur_quantity_dc                    10\n",
       "cur_quantity_accounts              12\n",
       "cur_quantity_saccounts             21\n",
       "cur_quantity_mf                    11\n",
       "cc_balance                    1024964\n",
       "cl_balance                      82938\n",
       "ml_balance                     179288\n",
       "pl_balance                    1824782\n",
       "td_volume                        9031\n",
       "ca_volume                     1360258\n",
       "sa_volume                      145661\n",
       "mf_volume                       11294\n",
       "dc_cash_spend_v                 29052\n",
       "dc_cash_spend_c                    93\n",
       "cc_cash_spend_v                  3811\n",
       "cc_cash_spend_c                    37\n",
       "dc_pos_spend_v                1027833\n",
       "dc_pos_spend_c                    278\n",
       "cc_pos_spend_v                 572424\n",
       "cc_pos_spend_c                    246\n",
       "ca_f                                2\n",
       "rc_session_qnt_cur_mon            566\n",
       "cur_qnt_sms                         8\n",
       "active                              2\n",
       "standalone_dc_f                     2\n",
       "standalone_payroll_dc_f             2\n",
       "standalone_nonpayroll_dc_f          2\n",
       "salary                         703682\n",
       "cu_age                             67\n",
       "cu_mob                            275\n",
       "cu_empl_cur_dur_m                 657\n",
       "is_married                          2\n",
       "cu_eduaction_level                  5\n",
       "dtype: int64"
      ]
     },
     "execution_count": 7,
     "metadata": {},
     "output_type": "execute_result"
    }
   ],
   "source": [
    "df_train.nunique()"
   ]
  },
  {
   "cell_type": "markdown",
   "metadata": {},
   "source": [
    "Выдвинем гипочезу, что пропуски в признаках, характеризующих баланс кредитных карт, баланс ипотеки и т.д. связан с отсутствием наличия таковых счетов. Следовательно при истинности выдвинутой гипотезы, правильнее было бы заполнить пропуски данных полей нулями, а не матожиданием или медианами.\n",
    "\n",
    "### Проверка зависимости отсутствия значения (Nan) в признаке \"счёт депозитов\" (td_volume) от признака \"кол-во депозитов\" (cur_quantity_deposits)"
   ]
  },
  {
   "cell_type": "markdown",
   "metadata": {},
   "source": [
    "Проверяем, есть ли вообще нуливые значения признака т.е. отсутстваие соответствующих счетов у клиентов банка "
   ]
  },
  {
   "cell_type": "code",
   "execution_count": 8,
   "metadata": {},
   "outputs": [
    {
     "data": {
      "text/plain": [
       "0    4146758\n",
       "1      14237\n",
       "2        699\n",
       "3         67\n",
       "4         18\n",
       "5          4\n",
       "Name: cur_quantity_deposits, dtype: int64"
      ]
     },
     "execution_count": 8,
     "metadata": {},
     "output_type": "execute_result"
    }
   ],
   "source": [
    "df_train['cur_quantity_deposits'].value_counts(dropna = False)"
   ]
  },
  {
   "cell_type": "markdown",
   "metadata": {},
   "source": [
    "Оцкниваем степерь разреженности признака"
   ]
  },
  {
   "cell_type": "code",
   "execution_count": 9,
   "metadata": {},
   "outputs": [
    {
     "data": {
      "text/plain": [
       "NaN           4146870\n",
       "1200.00000        468\n",
       "2400.00000        394\n",
       "4800.00000        218\n",
       "3600.00000        154\n",
       "               ...   \n",
       "2287.15392          1\n",
       "7563.40344          1\n",
       "7220.86344          1\n",
       "6614.90952          1\n",
       "1984.41144          1\n",
       "Name: td_volume, Length: 9032, dtype: int64"
      ]
     },
     "execution_count": 9,
     "metadata": {},
     "output_type": "execute_result"
    }
   ],
   "source": [
    "df_train['td_volume'].value_counts(dropna= False)"
   ]
  },
  {
   "cell_type": "code",
   "execution_count": 10,
   "metadata": {},
   "outputs": [
    {
     "data": {
      "text/plain": [
       "NaN    4146758\n",
       "Name: td_volume, dtype: int64"
      ]
     },
     "execution_count": 10,
     "metadata": {},
     "output_type": "execute_result"
    }
   ],
   "source": [
    "df_train[df_train['cur_quantity_deposits'] == 0 ]['td_volume'].value_counts(dropna = False)"
   ]
  },
  {
   "cell_type": "markdown",
   "metadata": {},
   "source": [
    "Убеждаемся в истинности придположения. Видно что нули в столюуце (cur_quantity_deposits) практичести полностью пересекаются с множеством пропусков столбца (td_volume)"
   ]
  },
  {
   "cell_type": "code",
   "execution_count": 11,
   "metadata": {},
   "outputs": [],
   "source": [
    "df_train['td_volume'] = df_train['td_volume'].fillna(0)"
   ]
  },
  {
   "cell_type": "markdown",
   "metadata": {},
   "source": [
    "### Проделаем аналошичную процедуру для оставшихся признаков подобного типа "
   ]
  },
  {
   "cell_type": "markdown",
   "metadata": {},
   "source": [
    "### 1) кол - во персональных кредитов (cur_quantity_pl) : баланс кредитов (pl_balance) "
   ]
  },
  {
   "cell_type": "code",
   "execution_count": 8,
   "metadata": {},
   "outputs": [
    {
     "data": {
      "text/plain": [
       "0    2262844\n",
       "1    1735582\n",
       "2     144698\n",
       "3      16368\n",
       "4       1969\n",
       "5        317\n",
       "6          5\n",
       "Name: cur_quantity_pl, dtype: int64"
      ]
     },
     "execution_count": 8,
     "metadata": {},
     "output_type": "execute_result"
    }
   ],
   "source": [
    "df_train['cur_quantity_pl'].value_counts(dropna= False)"
   ]
  },
  {
   "cell_type": "code",
   "execution_count": 9,
   "metadata": {},
   "outputs": [
    {
     "data": {
      "text/plain": [
       " NaN            2262883\n",
       " 0.00000            735\n",
       "-12000.00000         44\n",
       "-2161.41912          37\n",
       "-2160.00000          36\n",
       "                 ...   \n",
       "-3683.49696           1\n",
       "-5678.20344           1\n",
       "-19116.22992          1\n",
       "-2775.69528           1\n",
       "-8007.09552           1\n",
       "Name: pl_balance, Length: 1824783, dtype: int64"
      ]
     },
     "execution_count": 9,
     "metadata": {},
     "output_type": "execute_result"
    }
   ],
   "source": [
    "df_train['pl_balance'].value_counts(dropna= False)"
   ]
  },
  {
   "cell_type": "code",
   "execution_count": 10,
   "metadata": {},
   "outputs": [
    {
     "data": {
      "text/plain": [
       "NaN    2262844\n",
       "Name: pl_balance, dtype: int64"
      ]
     },
     "execution_count": 10,
     "metadata": {},
     "output_type": "execute_result"
    }
   ],
   "source": [
    "df_train[df_train['cur_quantity_pl'] == 0]['pl_balance'].value_counts(dropna = False)"
   ]
  },
  {
   "cell_type": "code",
   "execution_count": 11,
   "metadata": {},
   "outputs": [],
   "source": [
    "df_train['pl_balance'] = df_train['pl_balance'].fillna(0)"
   ]
  },
  {
   "cell_type": "markdown",
   "metadata": {},
   "source": [
    "### 2) кол-во ипотечных кредитов (cur_quantity_mort) : баланс ипотеки (ml_balance)"
   ]
  },
  {
   "cell_type": "code",
   "execution_count": 12,
   "metadata": {},
   "outputs": [
    {
     "data": {
      "text/plain": [
       "0    3982009\n",
       "1     179142\n",
       "2        618\n",
       "3         14\n",
       "Name: cur_quantity_mort, dtype: int64"
      ]
     },
     "execution_count": 12,
     "metadata": {},
     "output_type": "execute_result"
    }
   ],
   "source": [
    "df_train['cur_quantity_mort'].value_counts(dropna= False)"
   ]
  },
  {
   "cell_type": "code",
   "execution_count": 13,
   "metadata": {},
   "outputs": [
    {
     "data": {
      "text/plain": [
       " NaN             3982043\n",
       " 0.00000              40\n",
       "-22939.66800           8\n",
       "-48000.00000           6\n",
       "-38459.96712           5\n",
       "                  ...   \n",
       "-76426.12176           1\n",
       "-41196.76128           1\n",
       "-46017.53640           1\n",
       "-113538.03624          1\n",
       "-30662.98176           1\n",
       "Name: ml_balance, Length: 179289, dtype: int64"
      ]
     },
     "execution_count": 13,
     "metadata": {},
     "output_type": "execute_result"
    }
   ],
   "source": [
    "df_train['ml_balance'].value_counts(dropna = False)"
   ]
  },
  {
   "cell_type": "code",
   "execution_count": 14,
   "metadata": {},
   "outputs": [
    {
     "data": {
      "text/plain": [
       "NaN    3982009\n",
       "Name: ml_balance, dtype: int64"
      ]
     },
     "execution_count": 14,
     "metadata": {},
     "output_type": "execute_result"
    }
   ],
   "source": [
    "df_train[df_train['cur_quantity_mort'] == 0]['ml_balance'].value_counts(dropna = False)"
   ]
  },
  {
   "cell_type": "code",
   "execution_count": 15,
   "metadata": {},
   "outputs": [],
   "source": [
    "df_train['ml_balance'] = df_train['ml_balance'].fillna(0)"
   ]
  },
  {
   "cell_type": "markdown",
   "metadata": {},
   "source": [
    "### 3) кол-во кредитных карт (cur_quantity_cc) : баланс кредитных карт (cc_balance)\n",
    "### далее будет видно, что людей с нулевым счётом около 300 тыс, поэтому признак (cur_quantity_cc) желательно оставить"
   ]
  },
  {
   "cell_type": "code",
   "execution_count": 16,
   "metadata": {},
   "outputs": [
    {
     "data": {
      "text/plain": [
       "0     2562827\n",
       "2     1342096\n",
       "1      187775\n",
       "3       38044\n",
       "4       29156\n",
       "5        1090\n",
       "6         701\n",
       "8          64\n",
       "7          25\n",
       "9           3\n",
       "10          2\n",
       "Name: cur_quantity_cc, dtype: int64"
      ]
     },
     "execution_count": 16,
     "metadata": {},
     "output_type": "execute_result"
    }
   ],
   "source": [
    "df_train['cur_quantity_cc'].value_counts(dropna= False)"
   ]
  },
  {
   "cell_type": "code",
   "execution_count": 17,
   "metadata": {},
   "outputs": [
    {
     "data": {
      "text/plain": [
       " NaN           2562851\n",
       " 0.00000        318687\n",
       " 0.24000          3732\n",
       " 2.40000          1744\n",
       " 0.02400          1704\n",
       "                ...   \n",
       "-16.92744            1\n",
       "-640.63440           1\n",
       "-615.10536           1\n",
       "-965.62512           1\n",
       "-1327.16976          1\n",
       "Name: cc_balance, Length: 1024965, dtype: int64"
      ]
     },
     "execution_count": 17,
     "metadata": {},
     "output_type": "execute_result"
    }
   ],
   "source": [
    "df_train['cc_balance'].value_counts(dropna = False)"
   ]
  },
  {
   "cell_type": "code",
   "execution_count": 18,
   "metadata": {},
   "outputs": [
    {
     "data": {
      "text/plain": [
       "NaN    2562827\n",
       "Name: cc_balance, dtype: int64"
      ]
     },
     "execution_count": 18,
     "metadata": {},
     "output_type": "execute_result"
    }
   ],
   "source": [
    "df_train[df_train['cur_quantity_cc']==0]['cc_balance'].value_counts(dropna = False)"
   ]
  },
  {
   "cell_type": "code",
   "execution_count": 19,
   "metadata": {},
   "outputs": [],
   "source": [
    "df_train['cc_balance'] = df_train['cc_balance'].fillna(0)"
   ]
  },
  {
   "cell_type": "markdown",
   "metadata": {},
   "source": [
    "### 4) Кол-во счетов (cur_quantity_accounts) : баланс счетов (ca_volume) "
   ]
  },
  {
   "cell_type": "code",
   "execution_count": 20,
   "metadata": {},
   "outputs": [
    {
     "data": {
      "text/plain": [
       "1     3045897\n",
       "2      735248\n",
       "3      213972\n",
       "0      105280\n",
       "4       46917\n",
       "5       10267\n",
       "6        3124\n",
       "7         650\n",
       "8         250\n",
       "9         122\n",
       "10         29\n",
       "11         27\n",
       "Name: cur_quantity_accounts, dtype: int64"
      ]
     },
     "execution_count": 20,
     "metadata": {},
     "output_type": "execute_result"
    }
   ],
   "source": [
    "df_train['cur_quantity_accounts'].value_counts(dropna = False)"
   ]
  },
  {
   "cell_type": "markdown",
   "metadata": {},
   "source": [
    "В данном случае мы видим, что клиентов у которых нет счетов не существует, иначе как его можно отнести к клиентам банка ?"
   ]
  },
  {
   "cell_type": "code",
   "execution_count": 21,
   "metadata": {},
   "outputs": [
    {
     "data": {
      "text/plain": [
       " 0.00000       343483\n",
       " NaN           105280\n",
       "-1.44000        14388\n",
       " 0.00024         6213\n",
       " 0.00048         4464\n",
       "                ...  \n",
       " 226.41864          1\n",
       " 70.28040           1\n",
       " 1402.09320         1\n",
       " 986.70624          1\n",
       " 290.13864          1\n",
       "Name: ca_volume, Length: 1360259, dtype: int64"
      ]
     },
     "execution_count": 21,
     "metadata": {},
     "output_type": "execute_result"
    }
   ],
   "source": [
    "df_train['ca_volume'].value_counts(dropna = False)"
   ]
  },
  {
   "cell_type": "markdown",
   "metadata": {},
   "source": [
    "Исходя из предыдущего суждения, заменим NaN на медиану "
   ]
  },
  {
   "cell_type": "code",
   "execution_count": 22,
   "metadata": {},
   "outputs": [
    {
     "data": {
      "text/plain": [
       "10.59168"
      ]
     },
     "execution_count": 22,
     "metadata": {},
     "output_type": "execute_result"
    }
   ],
   "source": [
    "ca_volume_median = df_train['ca_volume'].median()\n",
    "ca_volume_median"
   ]
  },
  {
   "cell_type": "code",
   "execution_count": 23,
   "metadata": {},
   "outputs": [],
   "source": [
    "df_train['ca_volume'] = df_train['ca_volume'].fillna(ca_volume_median)"
   ]
  },
  {
   "cell_type": "markdown",
   "metadata": {},
   "source": [
    "### 5) Кол-во накопительных счетов (cur_quantity_saccounts) : баланс накопительных счетов (sa_volume)\n",
    "### далее будет видно, что людей с нулевым балансом накопительных карт около 72 тыс, поэтому признак (cur_quantity_saccounts) желательно оставить"
   ]
  },
  {
   "cell_type": "code",
   "execution_count": 24,
   "metadata": {},
   "outputs": [
    {
     "data": {
      "text/plain": [
       "0     3864303\n",
       "1      262786\n",
       "2       28467\n",
       "3        4292\n",
       "4        1097\n",
       "5         408\n",
       "6         129\n",
       "7          86\n",
       "8          54\n",
       "9          45\n",
       "12         37\n",
       "11         25\n",
       "10         17\n",
       "25         10\n",
       "24          6\n",
       "14          6\n",
       "13          4\n",
       "16          4\n",
       "19          4\n",
       "22          2\n",
       "20          1\n",
       "Name: cur_quantity_saccounts, dtype: int64"
      ]
     },
     "execution_count": 24,
     "metadata": {},
     "output_type": "execute_result"
    }
   ],
   "source": [
    "df_train['cur_quantity_saccounts'].value_counts(dropna = False)"
   ]
  },
  {
   "cell_type": "code",
   "execution_count": 25,
   "metadata": {},
   "outputs": [
    {
     "data": {
      "text/plain": [
       "NaN           3864303\n",
       "0.00000         72212\n",
       "0.00024          2997\n",
       "0.00048          1740\n",
       "0.00072          1408\n",
       "               ...   \n",
       "6638.43336          1\n",
       "2762.18520          1\n",
       "52.56456            1\n",
       "1084.82928          1\n",
       "4736.34744          1\n",
       "Name: sa_volume, Length: 145662, dtype: int64"
      ]
     },
     "execution_count": 25,
     "metadata": {},
     "output_type": "execute_result"
    }
   ],
   "source": [
    "df_train['sa_volume'].value_counts(dropna = False)"
   ]
  },
  {
   "cell_type": "code",
   "execution_count": 26,
   "metadata": {},
   "outputs": [
    {
     "data": {
      "text/plain": [
       "NaN    3864303\n",
       "Name: sa_volume, dtype: int64"
      ]
     },
     "execution_count": 26,
     "metadata": {},
     "output_type": "execute_result"
    }
   ],
   "source": [
    "df_train[df_train['cur_quantity_saccounts'] == 0]['sa_volume'].value_counts(dropna = False)"
   ]
  },
  {
   "cell_type": "code",
   "execution_count": 27,
   "metadata": {},
   "outputs": [],
   "source": [
    "df_train['sa_volume'] = df_train['sa_volume'].fillna(0)"
   ]
  },
  {
   "cell_type": "markdown",
   "metadata": {},
   "source": [
    "### 6) Кол-во инвестиционных продуктов (cur_quantity_mf) : баланс инвестиций (mf_volume)"
   ]
  },
  {
   "cell_type": "code",
   "execution_count": 28,
   "metadata": {},
   "outputs": [
    {
     "data": {
      "text/plain": [
       "0     4150413\n",
       "1        8497\n",
       "2        1828\n",
       "3         765\n",
       "4         191\n",
       "5          40\n",
       "6          38\n",
       "10          3\n",
       "8           3\n",
       "7           3\n",
       "9           2\n",
       "Name: cur_quantity_mf, dtype: int64"
      ]
     },
     "execution_count": 28,
     "metadata": {},
     "output_type": "execute_result"
    }
   ],
   "source": [
    "df_train['cur_quantity_mf'].value_counts(dropna = False)"
   ]
  },
  {
   "cell_type": "code",
   "execution_count": 29,
   "metadata": {},
   "outputs": [
    {
     "data": {
      "text/plain": [
       "NaN            4150408\n",
       "0.000000             5\n",
       "560.504400           3\n",
       "563.585760           3\n",
       "570.160800           3\n",
       "                ...   \n",
       "1667.609182          1\n",
       "1880.941080          1\n",
       "4909.021771          1\n",
       "120.976188           1\n",
       "1358.525938          1\n",
       "Name: mf_volume, Length: 11295, dtype: int64"
      ]
     },
     "execution_count": 29,
     "metadata": {},
     "output_type": "execute_result"
    }
   ],
   "source": [
    "df_train['mf_volume'].value_counts(dropna = False)"
   ]
  },
  {
   "cell_type": "code",
   "execution_count": 30,
   "metadata": {},
   "outputs": [
    {
     "data": {
      "text/plain": [
       "NaN    4150408\n",
       "0.0          5\n",
       "Name: mf_volume, dtype: int64"
      ]
     },
     "execution_count": 30,
     "metadata": {},
     "output_type": "execute_result"
    }
   ],
   "source": [
    "df_train[df_train['cur_quantity_mf'] == 0]['mf_volume'].value_counts(dropna = False)"
   ]
  },
  {
   "cell_type": "code",
   "execution_count": 31,
   "metadata": {},
   "outputs": [],
   "source": [
    "df_train['mf_volume'] = df_train['mf_volume'].fillna(0)"
   ]
  },
  {
   "cell_type": "markdown",
   "metadata": {},
   "source": [
    "### Убираем явно неактуальные признаки"
   ]
  },
  {
   "cell_type": "code",
   "execution_count": 32,
   "metadata": {},
   "outputs": [],
   "source": [
    "not_actual_feat  = ['cu_education_level', 'cu_empl_area', 'cu_empl_level', 'cu_empl_cur_dur_m']\n",
    "not_actual_df = df_train[not_actual_feat]\n",
    "df_train.drop(not_actual_feat, axis = 1, inplace = True)"
   ]
  },
  {
   "cell_type": "code",
   "execution_count": 33,
   "metadata": {},
   "outputs": [
    {
     "data": {
      "text/plain": [
       " NaN           4078513\n",
       " 0.00000           138\n",
       "-1399.72032          9\n",
       "-1523.71824          5\n",
       "-2.95560             5\n",
       "                ...   \n",
       "-1667.53272          1\n",
       "-4394.46216          1\n",
       "-358.29528           1\n",
       "-3086.90448          1\n",
       "-1561.51944          1\n",
       "Name: cl_balance, Length: 82939, dtype: int64"
      ]
     },
     "execution_count": 33,
     "metadata": {},
     "output_type": "execute_result"
    }
   ],
   "source": [
    "df_train['cl_balance'].value_counts(dropna = False)"
   ]
  },
  {
   "cell_type": "markdown",
   "metadata": {},
   "source": [
    "Слишком много пропусков, отбросим этот параметр"
   ]
  },
  {
   "cell_type": "code",
   "execution_count": 34,
   "metadata": {},
   "outputs": [
    {
     "name": "stderr",
     "output_type": "stream",
     "text": [
      "/Users/user/Documents/GitHub/mlcourse.ai/env/lib/python3.7/site-packages/ipykernel_launcher.py:1: SettingWithCopyWarning: \n",
      "A value is trying to be set on a copy of a slice from a DataFrame.\n",
      "Try using .loc[row_indexer,col_indexer] = value instead\n",
      "\n",
      "See the caveats in the documentation: http://pandas.pydata.org/pandas-docs/stable/user_guide/indexing.html#returning-a-view-versus-a-copy\n",
      "  \"\"\"Entry point for launching an IPython kernel.\n"
     ]
    }
   ],
   "source": [
    "not_actual_df['cl_balance'] = df_train['cl_balance']\n",
    "df_train.drop('cl_balance', axis = 1, inplace = True)"
   ]
  },
  {
   "cell_type": "markdown",
   "metadata": {},
   "source": [
    "Убедимся, что пропусков в данных больше нет "
   ]
  },
  {
   "cell_type": "code",
   "execution_count": 35,
   "metadata": {},
   "outputs": [
    {
     "name": "stdout",
     "output_type": "stream",
     "text": [
      "<class 'pandas.core.frame.DataFrame'>\n",
      "RangeIndex: 4161783 entries, 0 to 4161782\n",
      "Data columns (total 41 columns):\n",
      "cif_id                        4161783 non-null int64\n",
      "dlk_cob_date                  4161783 non-null object\n",
      "gi_smooth_3m                  4161783 non-null float64\n",
      "big_city                      4161783 non-null object\n",
      "cu_gender                     4161783 non-null int64\n",
      "payroll_f                     4161783 non-null int64\n",
      "cur_quantity_pl               4161783 non-null int64\n",
      "cur_quantity_mort             4161783 non-null int64\n",
      "cur_quantity_cc               4161783 non-null int64\n",
      "cur_quantity_deposits         4161783 non-null int64\n",
      "cur_quantity_dc               4161783 non-null int64\n",
      "cur_quantity_accounts         4161783 non-null int64\n",
      "cur_quantity_saccounts        4161783 non-null int64\n",
      "cur_quantity_mf               4161783 non-null int64\n",
      "cc_balance                    4161783 non-null float64\n",
      "ml_balance                    4161783 non-null float64\n",
      "pl_balance                    4161783 non-null float64\n",
      "td_volume                     14913 non-null float64\n",
      "ca_volume                     4161783 non-null float64\n",
      "sa_volume                     4161783 non-null float64\n",
      "mf_volume                     4161783 non-null float64\n",
      "dc_cash_spend_v               4161783 non-null float64\n",
      "dc_cash_spend_c               4161783 non-null int64\n",
      "cc_cash_spend_v               4161783 non-null float64\n",
      "cc_cash_spend_c               4161783 non-null int64\n",
      "dc_pos_spend_v                4161783 non-null float64\n",
      "dc_pos_spend_c                4161783 non-null int64\n",
      "cc_pos_spend_v                4161783 non-null float64\n",
      "cc_pos_spend_c                4161783 non-null int64\n",
      "ca_f                          4161783 non-null int64\n",
      "rc_session_qnt_cur_mon        4161783 non-null int64\n",
      "cur_qnt_sms                   4161783 non-null float64\n",
      "active                        4161783 non-null int64\n",
      "standalone_dc_f               4161783 non-null int64\n",
      "standalone_payroll_dc_f       4161783 non-null int64\n",
      "standalone_nonpayroll_dc_f    4161783 non-null int64\n",
      "salary                        4161783 non-null float64\n",
      "cu_age                        4161783 non-null float64\n",
      "cu_mob                        4161783 non-null int64\n",
      "is_married                    4161783 non-null int64\n",
      "cu_eduaction_level            4161783 non-null int64\n",
      "dtypes: float64(15), int64(24), object(2)\n",
      "memory usage: 1.3+ GB\n"
     ]
    }
   ],
   "source": [
    "df_train.info(null_counts = True)"
   ]
  },
  {
   "cell_type": "markdown",
   "metadata": {},
   "source": [
    "### Посмотрим на зависимость признаков "
   ]
  },
  {
   "cell_type": "code",
   "execution_count": 36,
   "metadata": {},
   "outputs": [],
   "source": [
    "corr_feats = list(df_train.columns.values)\n",
    "corr_feats.remove('dlk_cob_date')\n",
    "corr_feats.remove('big_city')"
   ]
  },
  {
   "cell_type": "code",
   "execution_count": 37,
   "metadata": {},
   "outputs": [
    {
     "data": {
      "text/plain": [
       "<matplotlib.axes._subplots.AxesSubplot at 0x163b1bf28>"
      ]
     },
     "execution_count": 37,
     "metadata": {},
     "output_type": "execute_result"
    },
    {
     "data": {
      "image/png": "[encoded data removed]",
      "text/plain": [
       "<Figure size 720x720 with 2 Axes>"
      ]
     },
     "metadata": {},
     "output_type": "display_data"
    }
   ],
   "source": [
    "corr = df_train[corr_feats].corr()\n",
    "sns.set_style(style = 'white')\n",
    "f, ax = plt.subplots(figsize = (10, 10))\n",
    "cmap = sns.diverging_palette(10, 250, as_cmap = True)\n",
    "sns.heatmap(corr, cmap = cmap, square = True, linewidths = .5, cbar_kws ={'shrink': .5}, ax = ax)"
   ]
  },
  {
   "cell_type": "markdown",
   "metadata": {},
   "source": [
    "### Выделим коррелирующие признаки:    \n",
    "    1. pl_balance ~ cur_quantity_pl  \n",
    "    2. ml_balance ~ cur_quantity_mort  \n",
    "    3. cc_balance ~ cur_quantity_cc                 Из прошлых заметок эелательно оставить оба признака  \n",
    "    4. mf_volume ~ cur_quantity_mf  \n",
    "    5. standalone_dc_f ~ standalone_payroll_dc_f    Наиболее ярко выраженная зависимость  \n",
    "    6. dc_cash_spend_v ~ dc_cash_spend_c  \n",
    "    7. cc_cash_spend_v ~ cc_cash_spend_c  \n",
    "    8. dc_pos_spend_v ~ dc_pos_spend_c  \n",
    "    9. cc_pos_spend_v ~ cc_pos_spend_c  "
   ]
  },
  {
   "cell_type": "markdown",
   "metadata": {},
   "source": [
    "Исключим линейнозависимые признаки"
   ]
  },
  {
   "cell_type": "code",
   "execution_count": 38,
   "metadata": {},
   "outputs": [],
   "source": [
    "more_corr_feats = ['cur_quantity_pl', 'cur_quantity_mort', 'cur_quantity_mf', 'standalone_payroll_dc_f',\n",
    "                   'dc_cash_spend_c', 'cc_cash_spend_c', 'dc_pos_spend_c', 'cc_pos_spend_c']\n",
    "\n",
    "df_more_corr_feats = df_train[more_corr_feats]\n",
    "df_train.drop(more_corr_feats, axis = 1, inplace = True)"
   ]
  },
  {
   "cell_type": "markdown",
   "metadata": {},
   "source": [
    "###  Закодируем котегориальные признаки "
   ]
  },
  {
   "cell_type": "code",
   "execution_count": 39,
   "metadata": {},
   "outputs": [],
   "source": [
    "from sklearn.preprocessing import LabelEncoder, OneHotEncoder"
   ]
  },
  {
   "cell_type": "code",
   "execution_count": 40,
   "metadata": {},
   "outputs": [],
   "source": [
    "df_train['dlk_cob_date'] = pd.to_datetime(df_train['dlk_cob_date'])"
   ]
  },
  {
   "cell_type": "code",
   "execution_count": 41,
   "metadata": {},
   "outputs": [],
   "source": [
    "#какая то дичь в конце\n",
    "df_train.drop('cu_eduaction_level', axis = 1, inplace = True)"
   ]
  },
  {
   "cell_type": "code",
   "execution_count": 42,
   "metadata": {},
   "outputs": [],
   "source": [
    "df_train = pd.concat([df_train, pd.get_dummies(df_train['big_city'], prefix = 'big_city'),\n",
    "               pd.get_dummies(df_train['cu_gender'], prefix = 'cu_gender'),\n",
    "               pd.get_dummies(df_train['payroll_f'], prefix = 'payroll_f'),\n",
    "               pd.get_dummies(df_train['ca_f'], prefix = 'ca_f'),\n",
    "               pd.get_dummies(df_train['standalone_dc_f'], prefix = 'standalone_dc_f'),\n",
    "               pd.get_dummies(df_train['is_married'], prefix = 'is_married')], axis = 1)"
   ]
  },
  {
   "cell_type": "code",
   "execution_count": 43,
   "metadata": {},
   "outputs": [],
   "source": [
    "df_train.drop(['big_city','cu_gender','payroll_f','ca_f','standalone_dc_f','is_married'], axis=1, inplace=True)"
   ]
  },
  {
   "cell_type": "code",
   "execution_count": 44,
   "metadata": {},
   "outputs": [
    {
     "data": {
      "text/html": [
       "<div>\n",
       "<style scoped>\n",
       "    .dataframe tbody tr th:only-of-type {\n",
       "        vertical-align: middle;\n",
       "    }\n",
       "\n",
       "    .dataframe tbody tr th {\n",
       "        vertical-align: top;\n",
       "    }\n",
       "\n",
       "    .dataframe thead th {\n",
       "        text-align: right;\n",
       "    }\n",
       "</style>\n",
       "<table border=\"1\" class=\"dataframe\">\n",
       "  <thead>\n",
       "    <tr style=\"text-align: right;\">\n",
       "      <th></th>\n",
       "      <th>cif_id</th>\n",
       "      <th>dlk_cob_date</th>\n",
       "      <th>gi_smooth_3m</th>\n",
       "      <th>cur_quantity_cc</th>\n",
       "      <th>cur_quantity_deposits</th>\n",
       "      <th>cur_quantity_dc</th>\n",
       "      <th>cur_quantity_accounts</th>\n",
       "      <th>cur_quantity_saccounts</th>\n",
       "      <th>cc_balance</th>\n",
       "      <th>ml_balance</th>\n",
       "      <th>pl_balance</th>\n",
       "      <th>td_volume</th>\n",
       "      <th>ca_volume</th>\n",
       "      <th>sa_volume</th>\n",
       "      <th>mf_volume</th>\n",
       "      <th>dc_cash_spend_v</th>\n",
       "      <th>cc_cash_spend_v</th>\n",
       "      <th>dc_pos_spend_v</th>\n",
       "      <th>cc_pos_spend_v</th>\n",
       "      <th>rc_session_qnt_cur_mon</th>\n",
       "      <th>cur_qnt_sms</th>\n",
       "      <th>active</th>\n",
       "      <th>standalone_nonpayroll_dc_f</th>\n",
       "      <th>salary</th>\n",
       "      <th>cu_age</th>\n",
       "      <th>cu_mob</th>\n",
       "      <th>big_city_MLN</th>\n",
       "      <th>big_city_MSK</th>\n",
       "      <th>big_city_OTH</th>\n",
       "      <th>big_city_SPB</th>\n",
       "      <th>cu_gender_0</th>\n",
       "      <th>cu_gender_1</th>\n",
       "      <th>payroll_f_0</th>\n",
       "      <th>payroll_f_1</th>\n",
       "      <th>ca_f_0</th>\n",
       "      <th>ca_f_1</th>\n",
       "      <th>standalone_dc_f_0</th>\n",
       "      <th>standalone_dc_f_1</th>\n",
       "      <th>is_married_0</th>\n",
       "      <th>is_married_1</th>\n",
       "    </tr>\n",
       "  </thead>\n",
       "  <tbody>\n",
       "    <tr>\n",
       "      <th>0</th>\n",
       "      <td>335992</td>\n",
       "      <td>2018-06-30</td>\n",
       "      <td>17.957530</td>\n",
       "      <td>0</td>\n",
       "      <td>0</td>\n",
       "      <td>1</td>\n",
       "      <td>1</td>\n",
       "      <td>0</td>\n",
       "      <td>0.0</td>\n",
       "      <td>0.0</td>\n",
       "      <td>-1700.60184</td>\n",
       "      <td>NaN</td>\n",
       "      <td>4.62528</td>\n",
       "      <td>0.0</td>\n",
       "      <td>0.0</td>\n",
       "      <td>0.0</td>\n",
       "      <td>0.0</td>\n",
       "      <td>10.41888</td>\n",
       "      <td>0.0</td>\n",
       "      <td>0</td>\n",
       "      <td>1.0</td>\n",
       "      <td>1</td>\n",
       "      <td>0</td>\n",
       "      <td>1192.8</td>\n",
       "      <td>29.0</td>\n",
       "      <td>144</td>\n",
       "      <td>1</td>\n",
       "      <td>0</td>\n",
       "      <td>0</td>\n",
       "      <td>0</td>\n",
       "      <td>1</td>\n",
       "      <td>0</td>\n",
       "      <td>1</td>\n",
       "      <td>0</td>\n",
       "      <td>0</td>\n",
       "      <td>1</td>\n",
       "      <td>1</td>\n",
       "      <td>0</td>\n",
       "      <td>0</td>\n",
       "      <td>1</td>\n",
       "    </tr>\n",
       "    <tr>\n",
       "      <th>1</th>\n",
       "      <td>335992</td>\n",
       "      <td>2018-04-30</td>\n",
       "      <td>27.720918</td>\n",
       "      <td>0</td>\n",
       "      <td>0</td>\n",
       "      <td>1</td>\n",
       "      <td>1</td>\n",
       "      <td>0</td>\n",
       "      <td>0.0</td>\n",
       "      <td>0.0</td>\n",
       "      <td>-1911.42936</td>\n",
       "      <td>NaN</td>\n",
       "      <td>300.73056</td>\n",
       "      <td>0.0</td>\n",
       "      <td>0.0</td>\n",
       "      <td>168.0</td>\n",
       "      <td>0.0</td>\n",
       "      <td>190.21536</td>\n",
       "      <td>0.0</td>\n",
       "      <td>0</td>\n",
       "      <td>1.0</td>\n",
       "      <td>1</td>\n",
       "      <td>0</td>\n",
       "      <td>1192.8</td>\n",
       "      <td>29.0</td>\n",
       "      <td>142</td>\n",
       "      <td>1</td>\n",
       "      <td>0</td>\n",
       "      <td>0</td>\n",
       "      <td>0</td>\n",
       "      <td>1</td>\n",
       "      <td>0</td>\n",
       "      <td>1</td>\n",
       "      <td>0</td>\n",
       "      <td>0</td>\n",
       "      <td>1</td>\n",
       "      <td>1</td>\n",
       "      <td>0</td>\n",
       "      <td>0</td>\n",
       "      <td>1</td>\n",
       "    </tr>\n",
       "    <tr>\n",
       "      <th>2</th>\n",
       "      <td>335992</td>\n",
       "      <td>2018-05-31</td>\n",
       "      <td>21.949626</td>\n",
       "      <td>0</td>\n",
       "      <td>0</td>\n",
       "      <td>1</td>\n",
       "      <td>1</td>\n",
       "      <td>0</td>\n",
       "      <td>0.0</td>\n",
       "      <td>0.0</td>\n",
       "      <td>-1807.09176</td>\n",
       "      <td>NaN</td>\n",
       "      <td>13.04472</td>\n",
       "      <td>0.0</td>\n",
       "      <td>0.0</td>\n",
       "      <td>0.0</td>\n",
       "      <td>0.0</td>\n",
       "      <td>161.63760</td>\n",
       "      <td>0.0</td>\n",
       "      <td>0</td>\n",
       "      <td>1.0</td>\n",
       "      <td>1</td>\n",
       "      <td>0</td>\n",
       "      <td>1192.8</td>\n",
       "      <td>29.0</td>\n",
       "      <td>143</td>\n",
       "      <td>1</td>\n",
       "      <td>0</td>\n",
       "      <td>0</td>\n",
       "      <td>0</td>\n",
       "      <td>1</td>\n",
       "      <td>0</td>\n",
       "      <td>1</td>\n",
       "      <td>0</td>\n",
       "      <td>0</td>\n",
       "      <td>1</td>\n",
       "      <td>1</td>\n",
       "      <td>0</td>\n",
       "      <td>0</td>\n",
       "      <td>1</td>\n",
       "    </tr>\n",
       "    <tr>\n",
       "      <th>3</th>\n",
       "      <td>335992</td>\n",
       "      <td>2018-08-31</td>\n",
       "      <td>14.855459</td>\n",
       "      <td>0</td>\n",
       "      <td>0</td>\n",
       "      <td>1</td>\n",
       "      <td>1</td>\n",
       "      <td>0</td>\n",
       "      <td>0.0</td>\n",
       "      <td>0.0</td>\n",
       "      <td>-1484.08752</td>\n",
       "      <td>NaN</td>\n",
       "      <td>0.35184</td>\n",
       "      <td>0.0</td>\n",
       "      <td>0.0</td>\n",
       "      <td>0.0</td>\n",
       "      <td>0.0</td>\n",
       "      <td>0.00000</td>\n",
       "      <td>0.0</td>\n",
       "      <td>0</td>\n",
       "      <td>1.0</td>\n",
       "      <td>1</td>\n",
       "      <td>0</td>\n",
       "      <td>1192.8</td>\n",
       "      <td>29.0</td>\n",
       "      <td>146</td>\n",
       "      <td>1</td>\n",
       "      <td>0</td>\n",
       "      <td>0</td>\n",
       "      <td>0</td>\n",
       "      <td>1</td>\n",
       "      <td>0</td>\n",
       "      <td>1</td>\n",
       "      <td>0</td>\n",
       "      <td>0</td>\n",
       "      <td>1</td>\n",
       "      <td>1</td>\n",
       "      <td>0</td>\n",
       "      <td>0</td>\n",
       "      <td>1</td>\n",
       "    </tr>\n",
       "    <tr>\n",
       "      <th>4</th>\n",
       "      <td>335992</td>\n",
       "      <td>2018-03-31</td>\n",
       "      <td>27.917161</td>\n",
       "      <td>0</td>\n",
       "      <td>0</td>\n",
       "      <td>1</td>\n",
       "      <td>1</td>\n",
       "      <td>0</td>\n",
       "      <td>0.0</td>\n",
       "      <td>0.0</td>\n",
       "      <td>-2015.04648</td>\n",
       "      <td>NaN</td>\n",
       "      <td>793.68216</td>\n",
       "      <td>0.0</td>\n",
       "      <td>0.0</td>\n",
       "      <td>333.6</td>\n",
       "      <td>0.0</td>\n",
       "      <td>322.27032</td>\n",
       "      <td>0.0</td>\n",
       "      <td>0</td>\n",
       "      <td>1.0</td>\n",
       "      <td>1</td>\n",
       "      <td>0</td>\n",
       "      <td>1192.8</td>\n",
       "      <td>29.0</td>\n",
       "      <td>141</td>\n",
       "      <td>1</td>\n",
       "      <td>0</td>\n",
       "      <td>0</td>\n",
       "      <td>0</td>\n",
       "      <td>1</td>\n",
       "      <td>0</td>\n",
       "      <td>1</td>\n",
       "      <td>0</td>\n",
       "      <td>0</td>\n",
       "      <td>1</td>\n",
       "      <td>1</td>\n",
       "      <td>0</td>\n",
       "      <td>0</td>\n",
       "      <td>1</td>\n",
       "    </tr>\n",
       "  </tbody>\n",
       "</table>\n",
       "</div>"
      ],
      "text/plain": [
       "   cif_id dlk_cob_date  gi_smooth_3m  cur_quantity_cc  cur_quantity_deposits  \\\n",
       "0  335992   2018-06-30     17.957530                0                      0   \n",
       "1  335992   2018-04-30     27.720918                0                      0   \n",
       "2  335992   2018-05-31     21.949626                0                      0   \n",
       "3  335992   2018-08-31     14.855459                0                      0   \n",
       "4  335992   2018-03-31     27.917161                0                      0   \n",
       "\n",
       "   cur_quantity_dc  cur_quantity_accounts  cur_quantity_saccounts  cc_balance  \\\n",
       "0                1                      1                       0         0.0   \n",
       "1                1                      1                       0         0.0   \n",
       "2                1                      1                       0         0.0   \n",
       "3                1                      1                       0         0.0   \n",
       "4                1                      1                       0         0.0   \n",
       "\n",
       "   ml_balance  pl_balance  td_volume  ca_volume  sa_volume  mf_volume  \\\n",
       "0         0.0 -1700.60184        NaN    4.62528        0.0        0.0   \n",
       "1         0.0 -1911.42936        NaN  300.73056        0.0        0.0   \n",
       "2         0.0 -1807.09176        NaN   13.04472        0.0        0.0   \n",
       "3         0.0 -1484.08752        NaN    0.35184        0.0        0.0   \n",
       "4         0.0 -2015.04648        NaN  793.68216        0.0        0.0   \n",
       "\n",
       "   dc_cash_spend_v  cc_cash_spend_v  dc_pos_spend_v  cc_pos_spend_v  \\\n",
       "0              0.0              0.0        10.41888             0.0   \n",
       "1            168.0              0.0       190.21536             0.0   \n",
       "2              0.0              0.0       161.63760             0.0   \n",
       "3              0.0              0.0         0.00000             0.0   \n",
       "4            333.6              0.0       322.27032             0.0   \n",
       "\n",
       "   rc_session_qnt_cur_mon  cur_qnt_sms  active  standalone_nonpayroll_dc_f  \\\n",
       "0                       0          1.0       1                           0   \n",
       "1                       0          1.0       1                           0   \n",
       "2                       0          1.0       1                           0   \n",
       "3                       0          1.0       1                           0   \n",
       "4                       0          1.0       1                           0   \n",
       "\n",
       "   salary  cu_age  cu_mob  big_city_MLN  big_city_MSK  big_city_OTH  \\\n",
       "0  1192.8    29.0     144             1             0             0   \n",
       "1  1192.8    29.0     142             1             0             0   \n",
       "2  1192.8    29.0     143             1             0             0   \n",
       "3  1192.8    29.0     146             1             0             0   \n",
       "4  1192.8    29.0     141             1             0             0   \n",
       "\n",
       "   big_city_SPB  cu_gender_0  cu_gender_1  payroll_f_0  payroll_f_1  ca_f_0  \\\n",
       "0             0            1            0            1            0       0   \n",
       "1             0            1            0            1            0       0   \n",
       "2             0            1            0            1            0       0   \n",
       "3             0            1            0            1            0       0   \n",
       "4             0            1            0            1            0       0   \n",
       "\n",
       "   ca_f_1  standalone_dc_f_0  standalone_dc_f_1  is_married_0  is_married_1  \n",
       "0       1                  1                  0             0             1  \n",
       "1       1                  1                  0             0             1  \n",
       "2       1                  1                  0             0             1  \n",
       "3       1                  1                  0             0             1  \n",
       "4       1                  1                  0             0             1  "
      ]
     },
     "execution_count": 44,
     "metadata": {},
     "output_type": "execute_result"
    }
   ],
   "source": [
    "df_train.head()"
   ]
  },
  {
   "cell_type": "markdown",
   "metadata": {},
   "source": [
    "Посмотрим происходит ли отток/приток клиентов "
   ]
  },
  {
   "cell_type": "code",
   "execution_count": 45,
   "metadata": {},
   "outputs": [
    {
     "data": {
      "text/plain": [
       "2018-12-31    352587\n",
       "2018-11-30    352363\n",
       "2018-10-31    351881\n",
       "2018-09-30    349972\n",
       "2018-08-31    349531\n",
       "2018-07-31    348271\n",
       "2018-06-30    344518\n",
       "2018-05-31    344017\n",
       "2018-04-30    342862\n",
       "2018-03-31    342185\n",
       "2018-02-28    341961\n",
       "2018-01-31    341635\n",
       "Name: dlk_cob_date, dtype: int64"
      ]
     },
     "execution_count": 45,
     "metadata": {},
     "output_type": "execute_result"
    }
   ],
   "source": [
    "df_train['dlk_cob_date'].value_counts()"
   ]
  },
  {
   "cell_type": "markdown",
   "metadata": {},
   "source": [
    "Видим, что данные взяты за определённый периуд работы банка, никаки образрм не отфильтромвнны, т.е. не все клиенты имеющиеся за 2018г изначально являются клиентами банка. "
   ]
  },
  {
   "cell_type": "markdown",
   "metadata": {},
   "source": [
    "### способ №1. Возьмём средние \n",
    "Попробуем спрогнозировать вероятность оттока клиента через 6 месяцев с помощью логистической регрессии.\n",
    "Прибыль от клиента будем рассчитывать как средний доход на протяжении известного периода жизни (от 1 до 6 месяцев) умноженный на вероятность того, что клиент останется в банке."
   ]
  },
  {
   "cell_type": "markdown",
   "metadata": {},
   "source": [
    "Для представления о клиенте в качестве количественных признаков возьмем средние значерия соответствующего признака за последние 6 месяцев по данному клиенту(Речь не о все количественных признаках, а только о тех, по которым это логически целесообразно делать). Категориальные признаки приравняем к соответствующим за последний активный месяц."
   ]
  },
  {
   "cell_type": "markdown",
   "metadata": {},
   "source": [
    "#### Разделим обучающий датасет на тренировочный и тестовый, для проверки актуальности модели т.к. в нём имеется целевой признак.\n",
    "В данном случае матрицей признаков будет информация за первые 6 месяцев 2018 года.  \n",
    "В качестве целевого параметра возьмём информацию о активности клиента за декабрь 2018 года, для прогнозирования оттока, а после для прогнозирования дохода за 6 месяцев возьмём доход за эти 6 месяцев.  \n",
    "Казалось бы, мы должны брать информацию об активность через 6 месяцев, а не за 12-й месяц. Например если человек в мае \"ушёл из банка\" и \"вернулся\" в августе того же года. В этом случае последний активный месяц в матрице признаков май (5-й), следовательно предсказывать мы должны отток к на ноябрь(11-й месяц), но мы предполагаем что вероятность возврата клиента слишком мала.Следовательно значение целевого признака, что для 11-го, что для 12-го месяца будет одно и то же."
   ]
  },
  {
   "cell_type": "code",
   "execution_count": 46,
   "metadata": {},
   "outputs": [],
   "source": [
    "df_06m = df_train[df_train['dlk_cob_date'] <= pd.to_datetime('2018-06-30')]"
   ]
  },
  {
   "cell_type": "code",
   "execution_count": 47,
   "metadata": {},
   "outputs": [],
   "source": [
    "mean_feats =['cif_id','gi_smooth_3m', 'cc_balance', 'ml_balance', 'pl_balance','td_volume', 'ca_volume', 'sa_volume',\n",
    "             'mf_volume', 'dc_cash_spend_v', 'cc_cash_spend_v', 'dc_pos_spend_v', 'cc_pos_spend_v', \n",
    "             'rc_session_qnt_cur_mon', 'cur_qnt_sms', 'salary']\n",
    "mean_feats_df = df_06m[mean_feats].groupby('cif_id').mean()"
   ]
  },
  {
   "cell_type": "markdown",
   "metadata": {},
   "source": [
    "Получаем последний актуальнай (активный) месяц клиента вплоть до середины года "
   ]
  },
  {
   "cell_type": "code",
   "execution_count": 48,
   "metadata": {},
   "outputs": [],
   "source": [
    "grouped = df_06m.sort_values('dlk_cob_date').groupby(['cif_id'], as_index = False)\n",
    "new_06m_df = grouped.apply(lambda x: x.iloc[-1])"
   ]
  },
  {
   "cell_type": "code",
   "execution_count": 49,
   "metadata": {},
   "outputs": [],
   "source": [
    "new_06m_df.index = new_06m_df['cif_id']\n",
    "new_06m_df.index.names = ['index']"
   ]
  },
  {
   "cell_type": "code",
   "execution_count": 50,
   "metadata": {},
   "outputs": [],
   "source": [
    "new_06m_df[mean_feats[1:]] = mean_feats_df.loc[:] "
   ]
  },
  {
   "cell_type": "code",
   "execution_count": 51,
   "metadata": {},
   "outputs": [
    {
     "data": {
      "text/html": [
       "<div>\n",
       "<style scoped>\n",
       "    .dataframe tbody tr th:only-of-type {\n",
       "        vertical-align: middle;\n",
       "    }\n",
       "\n",
       "    .dataframe tbody tr th {\n",
       "        vertical-align: top;\n",
       "    }\n",
       "\n",
       "    .dataframe thead th {\n",
       "        text-align: right;\n",
       "    }\n",
       "</style>\n",
       "<table border=\"1\" class=\"dataframe\">\n",
       "  <thead>\n",
       "    <tr style=\"text-align: right;\">\n",
       "      <th></th>\n",
       "      <th>cif_id</th>\n",
       "      <th>dlk_cob_date</th>\n",
       "      <th>gi_smooth_3m</th>\n",
       "      <th>cur_quantity_cc</th>\n",
       "      <th>cur_quantity_deposits</th>\n",
       "      <th>cur_quantity_dc</th>\n",
       "      <th>cur_quantity_accounts</th>\n",
       "      <th>cur_quantity_saccounts</th>\n",
       "      <th>cc_balance</th>\n",
       "      <th>ml_balance</th>\n",
       "      <th>pl_balance</th>\n",
       "      <th>td_volume</th>\n",
       "      <th>ca_volume</th>\n",
       "      <th>sa_volume</th>\n",
       "      <th>mf_volume</th>\n",
       "      <th>dc_cash_spend_v</th>\n",
       "      <th>cc_cash_spend_v</th>\n",
       "      <th>dc_pos_spend_v</th>\n",
       "      <th>cc_pos_spend_v</th>\n",
       "      <th>rc_session_qnt_cur_mon</th>\n",
       "      <th>cur_qnt_sms</th>\n",
       "      <th>active</th>\n",
       "      <th>standalone_nonpayroll_dc_f</th>\n",
       "      <th>salary</th>\n",
       "      <th>cu_age</th>\n",
       "      <th>cu_mob</th>\n",
       "      <th>big_city_MLN</th>\n",
       "      <th>big_city_MSK</th>\n",
       "      <th>big_city_OTH</th>\n",
       "      <th>big_city_SPB</th>\n",
       "      <th>cu_gender_0</th>\n",
       "      <th>cu_gender_1</th>\n",
       "      <th>payroll_f_0</th>\n",
       "      <th>payroll_f_1</th>\n",
       "      <th>ca_f_0</th>\n",
       "      <th>ca_f_1</th>\n",
       "      <th>standalone_dc_f_0</th>\n",
       "      <th>standalone_dc_f_1</th>\n",
       "      <th>is_married_0</th>\n",
       "      <th>is_married_1</th>\n",
       "    </tr>\n",
       "    <tr>\n",
       "      <th>index</th>\n",
       "      <th></th>\n",
       "      <th></th>\n",
       "      <th></th>\n",
       "      <th></th>\n",
       "      <th></th>\n",
       "      <th></th>\n",
       "      <th></th>\n",
       "      <th></th>\n",
       "      <th></th>\n",
       "      <th></th>\n",
       "      <th></th>\n",
       "      <th></th>\n",
       "      <th></th>\n",
       "      <th></th>\n",
       "      <th></th>\n",
       "      <th></th>\n",
       "      <th></th>\n",
       "      <th></th>\n",
       "      <th></th>\n",
       "      <th></th>\n",
       "      <th></th>\n",
       "      <th></th>\n",
       "      <th></th>\n",
       "      <th></th>\n",
       "      <th></th>\n",
       "      <th></th>\n",
       "      <th></th>\n",
       "      <th></th>\n",
       "      <th></th>\n",
       "      <th></th>\n",
       "      <th></th>\n",
       "      <th></th>\n",
       "      <th></th>\n",
       "      <th></th>\n",
       "      <th></th>\n",
       "      <th></th>\n",
       "      <th></th>\n",
       "      <th></th>\n",
       "      <th></th>\n",
       "      <th></th>\n",
       "    </tr>\n",
       "  </thead>\n",
       "  <tbody>\n",
       "    <tr>\n",
       "      <th>1001</th>\n",
       "      <td>1001</td>\n",
       "      <td>2018-06-30</td>\n",
       "      <td>92.953501</td>\n",
       "      <td>1</td>\n",
       "      <td>0</td>\n",
       "      <td>0</td>\n",
       "      <td>3</td>\n",
       "      <td>0</td>\n",
       "      <td>-2379.09660</td>\n",
       "      <td>0.0</td>\n",
       "      <td>-2773.39628</td>\n",
       "      <td>NaN</td>\n",
       "      <td>2348.44904</td>\n",
       "      <td>0.0</td>\n",
       "      <td>0.0</td>\n",
       "      <td>0.0</td>\n",
       "      <td>0.0</td>\n",
       "      <td>0.00000</td>\n",
       "      <td>0.00000</td>\n",
       "      <td>0.000000</td>\n",
       "      <td>-100.0</td>\n",
       "      <td>1</td>\n",
       "      <td>0</td>\n",
       "      <td>1051.20000</td>\n",
       "      <td>56.0</td>\n",
       "      <td>126</td>\n",
       "      <td>1</td>\n",
       "      <td>0</td>\n",
       "      <td>0</td>\n",
       "      <td>0</td>\n",
       "      <td>0</td>\n",
       "      <td>1</td>\n",
       "      <td>1</td>\n",
       "      <td>0</td>\n",
       "      <td>0</td>\n",
       "      <td>1</td>\n",
       "      <td>1</td>\n",
       "      <td>0</td>\n",
       "      <td>0</td>\n",
       "      <td>1</td>\n",
       "    </tr>\n",
       "    <tr>\n",
       "      <th>1002</th>\n",
       "      <td>1002</td>\n",
       "      <td>2018-06-30</td>\n",
       "      <td>38.407051</td>\n",
       "      <td>0</td>\n",
       "      <td>0</td>\n",
       "      <td>1</td>\n",
       "      <td>1</td>\n",
       "      <td>0</td>\n",
       "      <td>0.00000</td>\n",
       "      <td>0.0</td>\n",
       "      <td>-2396.69580</td>\n",
       "      <td>NaN</td>\n",
       "      <td>178.28692</td>\n",
       "      <td>0.0</td>\n",
       "      <td>0.0</td>\n",
       "      <td>10.0</td>\n",
       "      <td>0.0</td>\n",
       "      <td>121.21484</td>\n",
       "      <td>0.00000</td>\n",
       "      <td>1.166667</td>\n",
       "      <td>-100.0</td>\n",
       "      <td>1</td>\n",
       "      <td>1</td>\n",
       "      <td>480.00000</td>\n",
       "      <td>49.0</td>\n",
       "      <td>119</td>\n",
       "      <td>0</td>\n",
       "      <td>0</td>\n",
       "      <td>1</td>\n",
       "      <td>0</td>\n",
       "      <td>0</td>\n",
       "      <td>1</td>\n",
       "      <td>1</td>\n",
       "      <td>0</td>\n",
       "      <td>0</td>\n",
       "      <td>1</td>\n",
       "      <td>0</td>\n",
       "      <td>1</td>\n",
       "      <td>0</td>\n",
       "      <td>1</td>\n",
       "    </tr>\n",
       "    <tr>\n",
       "      <th>1004</th>\n",
       "      <td>1004</td>\n",
       "      <td>2018-06-30</td>\n",
       "      <td>1.209461</td>\n",
       "      <td>2</td>\n",
       "      <td>0</td>\n",
       "      <td>0</td>\n",
       "      <td>1</td>\n",
       "      <td>0</td>\n",
       "      <td>-175.03976</td>\n",
       "      <td>0.0</td>\n",
       "      <td>0.00000</td>\n",
       "      <td>NaN</td>\n",
       "      <td>0.01752</td>\n",
       "      <td>0.0</td>\n",
       "      <td>0.0</td>\n",
       "      <td>0.0</td>\n",
       "      <td>0.0</td>\n",
       "      <td>0.00000</td>\n",
       "      <td>171.32368</td>\n",
       "      <td>0.000000</td>\n",
       "      <td>-100.0</td>\n",
       "      <td>1</td>\n",
       "      <td>0</td>\n",
       "      <td>960.00000</td>\n",
       "      <td>52.0</td>\n",
       "      <td>116</td>\n",
       "      <td>0</td>\n",
       "      <td>0</td>\n",
       "      <td>1</td>\n",
       "      <td>0</td>\n",
       "      <td>1</td>\n",
       "      <td>0</td>\n",
       "      <td>1</td>\n",
       "      <td>0</td>\n",
       "      <td>0</td>\n",
       "      <td>1</td>\n",
       "      <td>1</td>\n",
       "      <td>0</td>\n",
       "      <td>1</td>\n",
       "      <td>0</td>\n",
       "    </tr>\n",
       "    <tr>\n",
       "      <th>1005</th>\n",
       "      <td>1005</td>\n",
       "      <td>2018-06-30</td>\n",
       "      <td>0.007939</td>\n",
       "      <td>0</td>\n",
       "      <td>0</td>\n",
       "      <td>1</td>\n",
       "      <td>2</td>\n",
       "      <td>0</td>\n",
       "      <td>0.00000</td>\n",
       "      <td>0.0</td>\n",
       "      <td>0.00000</td>\n",
       "      <td>NaN</td>\n",
       "      <td>1.18656</td>\n",
       "      <td>0.0</td>\n",
       "      <td>0.0</td>\n",
       "      <td>0.0</td>\n",
       "      <td>0.0</td>\n",
       "      <td>0.00000</td>\n",
       "      <td>0.00000</td>\n",
       "      <td>0.000000</td>\n",
       "      <td>1.0</td>\n",
       "      <td>0</td>\n",
       "      <td>1</td>\n",
       "      <td>2608.41600</td>\n",
       "      <td>54.0</td>\n",
       "      <td>96</td>\n",
       "      <td>0</td>\n",
       "      <td>1</td>\n",
       "      <td>0</td>\n",
       "      <td>0</td>\n",
       "      <td>0</td>\n",
       "      <td>1</td>\n",
       "      <td>1</td>\n",
       "      <td>0</td>\n",
       "      <td>0</td>\n",
       "      <td>1</td>\n",
       "      <td>0</td>\n",
       "      <td>1</td>\n",
       "      <td>0</td>\n",
       "      <td>1</td>\n",
       "    </tr>\n",
       "    <tr>\n",
       "      <th>1007</th>\n",
       "      <td>1007</td>\n",
       "      <td>2018-06-30</td>\n",
       "      <td>1.757232</td>\n",
       "      <td>0</td>\n",
       "      <td>0</td>\n",
       "      <td>1</td>\n",
       "      <td>1</td>\n",
       "      <td>0</td>\n",
       "      <td>0.00000</td>\n",
       "      <td>0.0</td>\n",
       "      <td>0.00000</td>\n",
       "      <td>NaN</td>\n",
       "      <td>11.96200</td>\n",
       "      <td>0.0</td>\n",
       "      <td>0.0</td>\n",
       "      <td>164.0</td>\n",
       "      <td>0.0</td>\n",
       "      <td>61.41200</td>\n",
       "      <td>0.00000</td>\n",
       "      <td>0.000000</td>\n",
       "      <td>1.0</td>\n",
       "      <td>1</td>\n",
       "      <td>0</td>\n",
       "      <td>112.29792</td>\n",
       "      <td>35.0</td>\n",
       "      <td>77</td>\n",
       "      <td>0</td>\n",
       "      <td>0</td>\n",
       "      <td>1</td>\n",
       "      <td>0</td>\n",
       "      <td>1</td>\n",
       "      <td>0</td>\n",
       "      <td>0</td>\n",
       "      <td>1</td>\n",
       "      <td>0</td>\n",
       "      <td>1</td>\n",
       "      <td>0</td>\n",
       "      <td>1</td>\n",
       "      <td>0</td>\n",
       "      <td>1</td>\n",
       "    </tr>\n",
       "  </tbody>\n",
       "</table>\n",
       "</div>"
      ],
      "text/plain": [
       "       cif_id dlk_cob_date  gi_smooth_3m  cur_quantity_cc  \\\n",
       "index                                                       \n",
       "1001     1001   2018-06-30     92.953501                1   \n",
       "1002     1002   2018-06-30     38.407051                0   \n",
       "1004     1004   2018-06-30      1.209461                2   \n",
       "1005     1005   2018-06-30      0.007939                0   \n",
       "1007     1007   2018-06-30      1.757232                0   \n",
       "\n",
       "       cur_quantity_deposits  cur_quantity_dc  cur_quantity_accounts  \\\n",
       "index                                                                  \n",
       "1001                       0                0                      3   \n",
       "1002                       0                1                      1   \n",
       "1004                       0                0                      1   \n",
       "1005                       0                1                      2   \n",
       "1007                       0                1                      1   \n",
       "\n",
       "       cur_quantity_saccounts  cc_balance  ml_balance  pl_balance  td_volume  \\\n",
       "index                                                                          \n",
       "1001                        0 -2379.09660         0.0 -2773.39628        NaN   \n",
       "1002                        0     0.00000         0.0 -2396.69580        NaN   \n",
       "1004                        0  -175.03976         0.0     0.00000        NaN   \n",
       "1005                        0     0.00000         0.0     0.00000        NaN   \n",
       "1007                        0     0.00000         0.0     0.00000        NaN   \n",
       "\n",
       "        ca_volume  sa_volume  mf_volume  dc_cash_spend_v  cc_cash_spend_v  \\\n",
       "index                                                                       \n",
       "1001   2348.44904        0.0        0.0              0.0              0.0   \n",
       "1002    178.28692        0.0        0.0             10.0              0.0   \n",
       "1004      0.01752        0.0        0.0              0.0              0.0   \n",
       "1005      1.18656        0.0        0.0              0.0              0.0   \n",
       "1007     11.96200        0.0        0.0            164.0              0.0   \n",
       "\n",
       "       dc_pos_spend_v  cc_pos_spend_v  rc_session_qnt_cur_mon  cur_qnt_sms  \\\n",
       "index                                                                        \n",
       "1001          0.00000         0.00000                0.000000       -100.0   \n",
       "1002        121.21484         0.00000                1.166667       -100.0   \n",
       "1004          0.00000       171.32368                0.000000       -100.0   \n",
       "1005          0.00000         0.00000                0.000000          1.0   \n",
       "1007         61.41200         0.00000                0.000000          1.0   \n",
       "\n",
       "       active  standalone_nonpayroll_dc_f      salary  cu_age  cu_mob  \\\n",
       "index                                                                   \n",
       "1001        1                           0  1051.20000    56.0     126   \n",
       "1002        1                           1   480.00000    49.0     119   \n",
       "1004        1                           0   960.00000    52.0     116   \n",
       "1005        0                           1  2608.41600    54.0      96   \n",
       "1007        1                           0   112.29792    35.0      77   \n",
       "\n",
       "       big_city_MLN  big_city_MSK  big_city_OTH  big_city_SPB  cu_gender_0  \\\n",
       "index                                                                        \n",
       "1001              1             0             0             0            0   \n",
       "1002              0             0             1             0            0   \n",
       "1004              0             0             1             0            1   \n",
       "1005              0             1             0             0            0   \n",
       "1007              0             0             1             0            1   \n",
       "\n",
       "       cu_gender_1  payroll_f_0  payroll_f_1  ca_f_0  ca_f_1  \\\n",
       "index                                                          \n",
       "1001             1            1            0       0       1   \n",
       "1002             1            1            0       0       1   \n",
       "1004             0            1            0       0       1   \n",
       "1005             1            1            0       0       1   \n",
       "1007             0            0            1       0       1   \n",
       "\n",
       "       standalone_dc_f_0  standalone_dc_f_1  is_married_0  is_married_1  \n",
       "index                                                                    \n",
       "1001                   1                  0             0             1  \n",
       "1002                   0                  1             0             1  \n",
       "1004                   1                  0             1             0  \n",
       "1005                   0                  1             0             1  \n",
       "1007                   0                  1             0             1  "
      ]
     },
     "execution_count": 51,
     "metadata": {},
     "output_type": "execute_result"
    }
   ],
   "source": [
    "new_06m_df.head()"
   ]
  },
  {
   "cell_type": "markdown",
   "metadata": {},
   "source": [
    "Получение целевого признака (активность за декабоь 2018)"
   ]
  },
  {
   "cell_type": "code",
   "execution_count": 52,
   "metadata": {},
   "outputs": [],
   "source": [
    "y_prototip = df_train[df_train['dlk_cob_date']== pd.to_datetime('2018-12-31')][['cif_id', 'active']]"
   ]
  },
  {
   "cell_type": "code",
   "execution_count": 53,
   "metadata": {},
   "outputs": [
    {
     "data": {
      "text/html": [
       "<div>\n",
       "<style scoped>\n",
       "    .dataframe tbody tr th:only-of-type {\n",
       "        vertical-align: middle;\n",
       "    }\n",
       "\n",
       "    .dataframe tbody tr th {\n",
       "        vertical-align: top;\n",
       "    }\n",
       "\n",
       "    .dataframe thead th {\n",
       "        text-align: right;\n",
       "    }\n",
       "</style>\n",
       "<table border=\"1\" class=\"dataframe\">\n",
       "  <thead>\n",
       "    <tr style=\"text-align: right;\">\n",
       "      <th></th>\n",
       "      <th>cif_id</th>\n",
       "      <th>active</th>\n",
       "    </tr>\n",
       "  </thead>\n",
       "  <tbody>\n",
       "    <tr>\n",
       "      <th>10</th>\n",
       "      <td>335992</td>\n",
       "      <td>1</td>\n",
       "    </tr>\n",
       "    <tr>\n",
       "      <th>23</th>\n",
       "      <td>198842</td>\n",
       "      <td>1</td>\n",
       "    </tr>\n",
       "    <tr>\n",
       "      <th>26</th>\n",
       "      <td>234815</td>\n",
       "      <td>1</td>\n",
       "    </tr>\n",
       "    <tr>\n",
       "      <th>38</th>\n",
       "      <td>232515</td>\n",
       "      <td>1</td>\n",
       "    </tr>\n",
       "    <tr>\n",
       "      <th>55</th>\n",
       "      <td>127962</td>\n",
       "      <td>1</td>\n",
       "    </tr>\n",
       "  </tbody>\n",
       "</table>\n",
       "</div>"
      ],
      "text/plain": [
       "    cif_id  active\n",
       "10  335992       1\n",
       "23  198842       1\n",
       "26  234815       1\n",
       "38  232515       1\n",
       "55  127962       1"
      ]
     },
     "execution_count": 53,
     "metadata": {},
     "output_type": "execute_result"
    }
   ],
   "source": [
    "y_prototip.head()"
   ]
  },
  {
   "cell_type": "code",
   "execution_count": 54,
   "metadata": {},
   "outputs": [],
   "source": [
    "y= pd.merge(new_06m_df['cif_id'], y_prototip, on ='cif_id', how = 'left' )"
   ]
  },
  {
   "cell_type": "code",
   "execution_count": 55,
   "metadata": {},
   "outputs": [
    {
     "data": {
      "text/plain": [
       "(364617, 1)"
      ]
     },
     "execution_count": 55,
     "metadata": {},
     "output_type": "execute_result"
    }
   ],
   "source": [
    "y.index = y['cif_id']\n",
    "y.drop('cif_id', axis= 1, inplace = True)\n",
    "y.shape"
   ]
  },
  {
   "cell_type": "code",
   "execution_count": 56,
   "metadata": {},
   "outputs": [],
   "source": [
    "y = y.fillna(0)"
   ]
  },
  {
   "cell_type": "code",
   "execution_count": 57,
   "metadata": {},
   "outputs": [],
   "source": [
    "X = new_06m_df\n",
    "X.index = X['cif_id']\n",
    "X.drop(['cif_id', 'dlk_cob_date'], axis= 1, inplace = True)"
   ]
  },
  {
   "cell_type": "code",
   "execution_count": 59,
   "metadata": {},
   "outputs": [],
   "source": [
    "X=X.fillna(0)"
   ]
  },
  {
   "cell_type": "markdown",
   "metadata": {},
   "source": [
    "Проверим начи матрицу признаков и вектор ответов на наличие пропусков и значений сремящихся к бесконечности (они недопустимы при обучении лигейных моделей)"
   ]
  },
  {
   "cell_type": "code",
   "execution_count": 60,
   "metadata": {},
   "outputs": [
    {
     "data": {
      "text/plain": [
       "(False, False, True, True)"
      ]
     },
     "execution_count": 60,
     "metadata": {},
     "output_type": "execute_result"
    }
   ],
   "source": [
    "np.any(np.isnan(X)), np.any(np.isnan(y)), np.all(np.isfinite(X)), np.all(np.isfinite(y))"
   ]
  },
  {
   "cell_type": "code",
   "execution_count": 61,
   "metadata": {},
   "outputs": [],
   "source": [
    "# import warnings filter\n",
    "from warnings import simplefilter\n",
    "# ignore all future warnings\n",
    "simplefilter(action='ignore', category=FutureWarning)"
   ]
  },
  {
   "cell_type": "code",
   "execution_count": 62,
   "metadata": {},
   "outputs": [],
   "source": [
    "from sklearn.model_selection import train_test_split\n",
    "from sklearn.preprocessing import StandardScaler\n",
    "from sklearn.linear_model import LogisticRegression, Perceptron"
   ]
  },
  {
   "cell_type": "markdown",
   "metadata": {},
   "source": [
    "разделим данный на обучающую и тестовую выборки в соотношении 7:3"
   ]
  },
  {
   "cell_type": "code",
   "execution_count": 63,
   "metadata": {},
   "outputs": [],
   "source": [
    "X_train, X_test, y_train, y_test = train_test_split(X, y, test_size = 0.3, random_state = 42)"
   ]
  },
  {
   "cell_type": "code",
   "execution_count": 64,
   "metadata": {},
   "outputs": [
    {
     "data": {
      "text/plain": [
       "((255231, 38), (109386, 38), (255231, 1), (109386, 1))"
      ]
     },
     "execution_count": 64,
     "metadata": {},
     "output_type": "execute_result"
    }
   ],
   "source": [
    "X_train.shape, X_test.shape, y_train.shape, y_test.shape"
   ]
  },
  {
   "cell_type": "markdown",
   "metadata": {},
   "source": [
    "Нормализуем матрицу признаков"
   ]
  },
  {
   "cell_type": "code",
   "execution_count": 65,
   "metadata": {},
   "outputs": [],
   "source": [
    "scaler = StandardScaler()\n",
    "X_train_scaled = scaler.fit_transform(X_train)\n",
    "X_test_scaled = scaler.transform(X_test)"
   ]
  },
  {
   "cell_type": "markdown",
   "metadata": {},
   "source": [
    "Обучим модель логистической регрессии "
   ]
  },
  {
   "cell_type": "code",
   "execution_count": 66,
   "metadata": {},
   "outputs": [
    {
     "name": "stdout",
     "output_type": "stream",
     "text": [
      "GridSearchCV(cv='warn', error_score='raise-deprecating',\n",
      "             estimator=LogisticRegression(C=1.0, class_weight=None, dual=False,\n",
      "                                          fit_intercept=True,\n",
      "                                          intercept_scaling=1, l1_ratio=None,\n",
      "                                          max_iter=100, multi_class='warn',\n",
      "                                          n_jobs=None, penalty='l2',\n",
      "                                          random_state=42, solver='warn',\n",
      "                                          tol=0.0001, verbose=0,\n",
      "                                          warm_start=False),\n",
      "             iid='warn', n_jobs=None,\n",
      "             param_grid={'C': array([ 0.5,  1. ,  1.5,  2. ,  2.5,  3. ,  3.5,  4. ,  4.5,  5. ,  5.5,\n",
      "        6. ,  6.5,  7. ,  7.5,  8. ,  8.5,  9. ,  9.5, 10. ])},\n",
      "             pre_dispatch='2*n_jobs', refit=True, return_train_score=False,\n",
      "             scoring=None, verbose=0)\n",
      "0.8249624849646007\n",
      "1.0\n"
     ]
    }
   ],
   "source": [
    "from sklearn.model_selection import GridSearchCV\n",
    "# prepare a range of alpha values to test\n",
    "C = np.linspace(0.5, 10, 20)\n",
    "# create and fit a ridge regression model, testing each alpha\n",
    "model = LogisticRegression(random_state = 42)\n",
    "grid = GridSearchCV(estimator=model, param_grid={'C': C})\n",
    "grid.fit(X_train_scaled, y_train.values.ravel())\n",
    "print(grid)\n",
    "# summarize the results of the grid search\n",
    "print(grid.best_score_)\n",
    "print(grid.best_estimator_.C)"
   ]
  },
  {
   "cell_type": "markdown",
   "metadata": {},
   "source": [
    "Прогноз вероятностей оттока клиентов"
   ]
  },
  {
   "cell_type": "code",
   "execution_count": 67,
   "metadata": {},
   "outputs": [
    {
     "data": {
      "text/plain": [
       "array([[0.1083661 , 0.8916339 ],\n",
       "       [0.21805166, 0.78194834],\n",
       "       [0.09799702, 0.90200298],\n",
       "       ...,\n",
       "       [0.02825783, 0.97174217],\n",
       "       [0.04215807, 0.95784193],\n",
       "       [0.07897155, 0.92102845]])"
      ]
     },
     "execution_count": 67,
     "metadata": {},
     "output_type": "execute_result"
    }
   ],
   "source": [
    "grid.predict_proba(X_test_scaled)"
   ]
  },
  {
   "cell_type": "markdown",
   "metadata": {},
   "source": [
    "Доля привильных предсказаний"
   ]
  },
  {
   "cell_type": "code",
   "execution_count": 69,
   "metadata": {},
   "outputs": [
    {
     "data": {
      "text/plain": [
       "0.8267054284826212"
      ]
     },
     "execution_count": 69,
     "metadata": {},
     "output_type": "execute_result"
    }
   ],
   "source": [
    "grid.score(X_test_scaled, y_test)"
   ]
  },
  {
   "cell_type": "markdown",
   "metadata": {},
   "source": [
    "### Часть № 2 \n",
    "Загорузим тестовую выборку и спрогнозируем доход каждого клиента через пол года."
   ]
  },
  {
   "cell_type": "code",
   "execution_count": 70,
   "metadata": {},
   "outputs": [],
   "source": [
    "df_test = pd.read_csv('../../data/CUP_IT_test_data.csv',skiprows = 133)"
   ]
  },
  {
   "cell_type": "markdown",
   "metadata": {},
   "source": [
    "#### Исходя из предположения об однородности выборок (обучающей и тестовой) проведём такую же предобработку данных для тестовой выборки, без комментариев."
   ]
  },
  {
   "cell_type": "code",
   "execution_count": 71,
   "metadata": {},
   "outputs": [],
   "source": [
    "useless_feats = ['cur_quantity_pl', 'cur_quantity_mort', 'cur_quantity_mf', 'standalone_payroll_dc_f',\n",
    "                 'dc_cash_spend_c', 'cc_cash_spend_c', 'dc_pos_spend_c', 'cc_pos_spend_c', \n",
    "                 'cu_education_level','cu_empl_area', 'cu_empl_level', 'cu_empl_cur_dur_m', \n",
    "                 'cl_balance', 'cu_eduaction_level', 'rank']\n",
    "df_test.drop(useless_feats, axis = 1, inplace = True)"
   ]
  },
  {
   "cell_type": "code",
   "execution_count": 72,
   "metadata": {},
   "outputs": [],
   "source": [
    "df_test = df_test.fillna(0)\n",
    "ca_volume_median = df_test['ca_volume'].median()\n",
    "df_test['ca_volume'] = df_test['ca_volume'].fillna(ca_volume_median)"
   ]
  },
  {
   "cell_type": "code",
   "execution_count": 73,
   "metadata": {},
   "outputs": [],
   "source": [
    "df_test = pd.concat([df_test, pd.get_dummies(df_test['big_city'], prefix = 'big_city'),\n",
    "               pd.get_dummies(df_test['cu_gender'], prefix = 'cu_gender'),\n",
    "               pd.get_dummies(df_test['payroll_f'], prefix = 'payroll_f'),\n",
    "               pd.get_dummies(df_test['ca_f'], prefix = 'ca_f'),\n",
    "               pd.get_dummies(df_test['standalone_dc_f'], prefix = 'standalone_dc_f'),\n",
    "               pd.get_dummies(df_test['is_married'], prefix = 'is_married')], axis = 1)"
   ]
  },
  {
   "cell_type": "code",
   "execution_count": 74,
   "metadata": {},
   "outputs": [],
   "source": [
    "df_test.drop(['big_city','cu_gender','payroll_f','ca_f','standalone_dc_f','is_married'], axis=1, inplace=True)"
   ]
  },
  {
   "cell_type": "code",
   "execution_count": 75,
   "metadata": {},
   "outputs": [
    {
     "data": {
      "text/html": [
       "<div>\n",
       "<style scoped>\n",
       "    .dataframe tbody tr th:only-of-type {\n",
       "        vertical-align: middle;\n",
       "    }\n",
       "\n",
       "    .dataframe tbody tr th {\n",
       "        vertical-align: top;\n",
       "    }\n",
       "\n",
       "    .dataframe thead th {\n",
       "        text-align: right;\n",
       "    }\n",
       "</style>\n",
       "<table border=\"1\" class=\"dataframe\">\n",
       "  <thead>\n",
       "    <tr style=\"text-align: right;\">\n",
       "      <th></th>\n",
       "      <th>cif_id</th>\n",
       "      <th>dlk_cob_date</th>\n",
       "      <th>gi_smooth_3m</th>\n",
       "      <th>cur_quantity_cc</th>\n",
       "      <th>cur_quantity_deposits</th>\n",
       "      <th>cur_quantity_dc</th>\n",
       "      <th>cur_quantity_accounts</th>\n",
       "      <th>cur_quantity_saccounts</th>\n",
       "      <th>cc_balance</th>\n",
       "      <th>ml_balance</th>\n",
       "      <th>pl_balance</th>\n",
       "      <th>td_volume</th>\n",
       "      <th>ca_volume</th>\n",
       "      <th>sa_volume</th>\n",
       "      <th>mf_volume</th>\n",
       "      <th>dc_cash_spend_v</th>\n",
       "      <th>cc_cash_spend_v</th>\n",
       "      <th>dc_pos_spend_v</th>\n",
       "      <th>cc_pos_spend_v</th>\n",
       "      <th>rc_session_qnt_cur_mon</th>\n",
       "      <th>cur_qnt_sms</th>\n",
       "      <th>active</th>\n",
       "      <th>standalone_nonpayroll_dc_f</th>\n",
       "      <th>salary</th>\n",
       "      <th>cu_age</th>\n",
       "      <th>cu_mob</th>\n",
       "      <th>big_city_MLN</th>\n",
       "      <th>big_city_MSK</th>\n",
       "      <th>big_city_OTH</th>\n",
       "      <th>big_city_SPB</th>\n",
       "      <th>cu_gender_0</th>\n",
       "      <th>cu_gender_1</th>\n",
       "      <th>payroll_f_0</th>\n",
       "      <th>payroll_f_1</th>\n",
       "      <th>ca_f_0</th>\n",
       "      <th>ca_f_1</th>\n",
       "      <th>standalone_dc_f_0</th>\n",
       "      <th>standalone_dc_f_1</th>\n",
       "      <th>is_married_0</th>\n",
       "      <th>is_married_1</th>\n",
       "    </tr>\n",
       "  </thead>\n",
       "  <tbody>\n",
       "    <tr>\n",
       "      <th>0</th>\n",
       "      <td>50514</td>\n",
       "      <td>2018-06-30</td>\n",
       "      <td>17.898438</td>\n",
       "      <td>0</td>\n",
       "      <td>0</td>\n",
       "      <td>1</td>\n",
       "      <td>2</td>\n",
       "      <td>0</td>\n",
       "      <td>0.0</td>\n",
       "      <td>0.0</td>\n",
       "      <td>-2182.57200</td>\n",
       "      <td>0.0</td>\n",
       "      <td>23.05368</td>\n",
       "      <td>0.0</td>\n",
       "      <td>0.0</td>\n",
       "      <td>0.0</td>\n",
       "      <td>0.0</td>\n",
       "      <td>0.0</td>\n",
       "      <td>0.0</td>\n",
       "      <td>3</td>\n",
       "      <td>-100.0</td>\n",
       "      <td>1</td>\n",
       "      <td>1</td>\n",
       "      <td>960.0</td>\n",
       "      <td>48.0</td>\n",
       "      <td>83</td>\n",
       "      <td>0</td>\n",
       "      <td>0</td>\n",
       "      <td>1</td>\n",
       "      <td>0</td>\n",
       "      <td>0</td>\n",
       "      <td>1</td>\n",
       "      <td>1</td>\n",
       "      <td>0</td>\n",
       "      <td>0</td>\n",
       "      <td>1</td>\n",
       "      <td>0</td>\n",
       "      <td>1</td>\n",
       "      <td>0</td>\n",
       "      <td>1</td>\n",
       "    </tr>\n",
       "    <tr>\n",
       "      <th>1</th>\n",
       "      <td>50514</td>\n",
       "      <td>2018-02-28</td>\n",
       "      <td>24.355419</td>\n",
       "      <td>0</td>\n",
       "      <td>0</td>\n",
       "      <td>1</td>\n",
       "      <td>2</td>\n",
       "      <td>0</td>\n",
       "      <td>0.0</td>\n",
       "      <td>0.0</td>\n",
       "      <td>-3210.81288</td>\n",
       "      <td>0.0</td>\n",
       "      <td>3.11064</td>\n",
       "      <td>0.0</td>\n",
       "      <td>0.0</td>\n",
       "      <td>0.0</td>\n",
       "      <td>0.0</td>\n",
       "      <td>0.0</td>\n",
       "      <td>0.0</td>\n",
       "      <td>3</td>\n",
       "      <td>-100.0</td>\n",
       "      <td>1</td>\n",
       "      <td>1</td>\n",
       "      <td>960.0</td>\n",
       "      <td>47.0</td>\n",
       "      <td>79</td>\n",
       "      <td>0</td>\n",
       "      <td>0</td>\n",
       "      <td>1</td>\n",
       "      <td>0</td>\n",
       "      <td>0</td>\n",
       "      <td>1</td>\n",
       "      <td>1</td>\n",
       "      <td>0</td>\n",
       "      <td>0</td>\n",
       "      <td>1</td>\n",
       "      <td>0</td>\n",
       "      <td>1</td>\n",
       "      <td>0</td>\n",
       "      <td>1</td>\n",
       "    </tr>\n",
       "    <tr>\n",
       "      <th>2</th>\n",
       "      <td>50514</td>\n",
       "      <td>2018-04-30</td>\n",
       "      <td>20.534134</td>\n",
       "      <td>0</td>\n",
       "      <td>0</td>\n",
       "      <td>1</td>\n",
       "      <td>2</td>\n",
       "      <td>0</td>\n",
       "      <td>0.0</td>\n",
       "      <td>0.0</td>\n",
       "      <td>-2703.79896</td>\n",
       "      <td>0.0</td>\n",
       "      <td>13.08216</td>\n",
       "      <td>0.0</td>\n",
       "      <td>0.0</td>\n",
       "      <td>0.0</td>\n",
       "      <td>0.0</td>\n",
       "      <td>0.0</td>\n",
       "      <td>0.0</td>\n",
       "      <td>4</td>\n",
       "      <td>-100.0</td>\n",
       "      <td>1</td>\n",
       "      <td>1</td>\n",
       "      <td>960.0</td>\n",
       "      <td>48.0</td>\n",
       "      <td>81</td>\n",
       "      <td>0</td>\n",
       "      <td>0</td>\n",
       "      <td>1</td>\n",
       "      <td>0</td>\n",
       "      <td>0</td>\n",
       "      <td>1</td>\n",
       "      <td>1</td>\n",
       "      <td>0</td>\n",
       "      <td>0</td>\n",
       "      <td>1</td>\n",
       "      <td>0</td>\n",
       "      <td>1</td>\n",
       "      <td>0</td>\n",
       "      <td>1</td>\n",
       "    </tr>\n",
       "    <tr>\n",
       "      <th>3</th>\n",
       "      <td>50514</td>\n",
       "      <td>2018-01-31</td>\n",
       "      <td>26.477938</td>\n",
       "      <td>0</td>\n",
       "      <td>0</td>\n",
       "      <td>1</td>\n",
       "      <td>2</td>\n",
       "      <td>0</td>\n",
       "      <td>0.0</td>\n",
       "      <td>0.0</td>\n",
       "      <td>-3462.84264</td>\n",
       "      <td>0.0</td>\n",
       "      <td>19.72488</td>\n",
       "      <td>0.0</td>\n",
       "      <td>0.0</td>\n",
       "      <td>0.0</td>\n",
       "      <td>0.0</td>\n",
       "      <td>0.0</td>\n",
       "      <td>0.0</td>\n",
       "      <td>2</td>\n",
       "      <td>-100.0</td>\n",
       "      <td>1</td>\n",
       "      <td>1</td>\n",
       "      <td>960.0</td>\n",
       "      <td>47.0</td>\n",
       "      <td>78</td>\n",
       "      <td>0</td>\n",
       "      <td>0</td>\n",
       "      <td>1</td>\n",
       "      <td>0</td>\n",
       "      <td>0</td>\n",
       "      <td>1</td>\n",
       "      <td>1</td>\n",
       "      <td>0</td>\n",
       "      <td>0</td>\n",
       "      <td>1</td>\n",
       "      <td>0</td>\n",
       "      <td>1</td>\n",
       "      <td>0</td>\n",
       "      <td>1</td>\n",
       "    </tr>\n",
       "    <tr>\n",
       "      <th>4</th>\n",
       "      <td>50514</td>\n",
       "      <td>2018-05-31</td>\n",
       "      <td>19.623962</td>\n",
       "      <td>0</td>\n",
       "      <td>0</td>\n",
       "      <td>1</td>\n",
       "      <td>2</td>\n",
       "      <td>0</td>\n",
       "      <td>0.0</td>\n",
       "      <td>0.0</td>\n",
       "      <td>-2445.49896</td>\n",
       "      <td>0.0</td>\n",
       "      <td>30.06792</td>\n",
       "      <td>0.0</td>\n",
       "      <td>0.0</td>\n",
       "      <td>0.0</td>\n",
       "      <td>0.0</td>\n",
       "      <td>0.0</td>\n",
       "      <td>0.0</td>\n",
       "      <td>1</td>\n",
       "      <td>-100.0</td>\n",
       "      <td>1</td>\n",
       "      <td>1</td>\n",
       "      <td>960.0</td>\n",
       "      <td>48.0</td>\n",
       "      <td>82</td>\n",
       "      <td>0</td>\n",
       "      <td>0</td>\n",
       "      <td>1</td>\n",
       "      <td>0</td>\n",
       "      <td>0</td>\n",
       "      <td>1</td>\n",
       "      <td>1</td>\n",
       "      <td>0</td>\n",
       "      <td>0</td>\n",
       "      <td>1</td>\n",
       "      <td>0</td>\n",
       "      <td>1</td>\n",
       "      <td>0</td>\n",
       "      <td>1</td>\n",
       "    </tr>\n",
       "  </tbody>\n",
       "</table>\n",
       "</div>"
      ],
      "text/plain": [
       "   cif_id dlk_cob_date  gi_smooth_3m  cur_quantity_cc  cur_quantity_deposits  \\\n",
       "0   50514   2018-06-30     17.898438                0                      0   \n",
       "1   50514   2018-02-28     24.355419                0                      0   \n",
       "2   50514   2018-04-30     20.534134                0                      0   \n",
       "3   50514   2018-01-31     26.477938                0                      0   \n",
       "4   50514   2018-05-31     19.623962                0                      0   \n",
       "\n",
       "   cur_quantity_dc  cur_quantity_accounts  cur_quantity_saccounts  cc_balance  \\\n",
       "0                1                      2                       0         0.0   \n",
       "1                1                      2                       0         0.0   \n",
       "2                1                      2                       0         0.0   \n",
       "3                1                      2                       0         0.0   \n",
       "4                1                      2                       0         0.0   \n",
       "\n",
       "   ml_balance  pl_balance  td_volume  ca_volume  sa_volume  mf_volume  \\\n",
       "0         0.0 -2182.57200        0.0   23.05368        0.0        0.0   \n",
       "1         0.0 -3210.81288        0.0    3.11064        0.0        0.0   \n",
       "2         0.0 -2703.79896        0.0   13.08216        0.0        0.0   \n",
       "3         0.0 -3462.84264        0.0   19.72488        0.0        0.0   \n",
       "4         0.0 -2445.49896        0.0   30.06792        0.0        0.0   \n",
       "\n",
       "   dc_cash_spend_v  cc_cash_spend_v  dc_pos_spend_v  cc_pos_spend_v  \\\n",
       "0              0.0              0.0             0.0             0.0   \n",
       "1              0.0              0.0             0.0             0.0   \n",
       "2              0.0              0.0             0.0             0.0   \n",
       "3              0.0              0.0             0.0             0.0   \n",
       "4              0.0              0.0             0.0             0.0   \n",
       "\n",
       "   rc_session_qnt_cur_mon  cur_qnt_sms  active  standalone_nonpayroll_dc_f  \\\n",
       "0                       3       -100.0       1                           1   \n",
       "1                       3       -100.0       1                           1   \n",
       "2                       4       -100.0       1                           1   \n",
       "3                       2       -100.0       1                           1   \n",
       "4                       1       -100.0       1                           1   \n",
       "\n",
       "   salary  cu_age  cu_mob  big_city_MLN  big_city_MSK  big_city_OTH  \\\n",
       "0   960.0    48.0      83             0             0             1   \n",
       "1   960.0    47.0      79             0             0             1   \n",
       "2   960.0    48.0      81             0             0             1   \n",
       "3   960.0    47.0      78             0             0             1   \n",
       "4   960.0    48.0      82             0             0             1   \n",
       "\n",
       "   big_city_SPB  cu_gender_0  cu_gender_1  payroll_f_0  payroll_f_1  ca_f_0  \\\n",
       "0             0            0            1            1            0       0   \n",
       "1             0            0            1            1            0       0   \n",
       "2             0            0            1            1            0       0   \n",
       "3             0            0            1            1            0       0   \n",
       "4             0            0            1            1            0       0   \n",
       "\n",
       "   ca_f_1  standalone_dc_f_0  standalone_dc_f_1  is_married_0  is_married_1  \n",
       "0       1                  0                  1             0             1  \n",
       "1       1                  0                  1             0             1  \n",
       "2       1                  0                  1             0             1  \n",
       "3       1                  0                  1             0             1  \n",
       "4       1                  0                  1             0             1  "
      ]
     },
     "execution_count": 75,
     "metadata": {},
     "output_type": "execute_result"
    }
   ],
   "source": [
    "df_test.head()"
   ]
  },
  {
   "cell_type": "code",
   "execution_count": 76,
   "metadata": {},
   "outputs": [
    {
     "data": {
      "text/plain": [
       "(683772, 40)"
      ]
     },
     "execution_count": 76,
     "metadata": {},
     "output_type": "execute_result"
    }
   ],
   "source": [
    "df_test.shape"
   ]
  },
  {
   "cell_type": "code",
   "execution_count": 77,
   "metadata": {},
   "outputs": [],
   "source": [
    "def convertor(df):\n",
    "    mean_feats =['cif_id','gi_smooth_3m', 'cc_balance', 'ml_balance', 'pl_balance','td_volume', 'ca_volume', 'sa_volume',\n",
    "             'mf_volume', 'dc_cash_spend_v', 'cc_cash_spend_v', 'dc_pos_spend_v', 'cc_pos_spend_v', \n",
    "             'rc_session_qnt_cur_mon', 'cur_qnt_sms', 'salary']\n",
    "    mean_feats_df = df[mean_feats].groupby('cif_id').mean()\n",
    "\n",
    "    grouped = df.sort_values('dlk_cob_date').groupby(['cif_id'], as_index = False)\n",
    "    new_06m_df = grouped.apply(lambda x: x.iloc[-1])\n",
    "\n",
    "    new_06m_df.index = new_06m_df['cif_id']\n",
    "    new_06m_df.index.names = ['index']\n",
    "\n",
    "    new_06m_df[mean_feats[1:]] = mean_feats_df.loc[:] \n",
    "\n",
    "    X = new_06m_df\n",
    "    X.index = X['cif_id']\n",
    "    X.drop(['cif_id', 'dlk_cob_date'], axis= 1, inplace = True)\n",
    "    return X"
   ]
  },
  {
   "cell_type": "code",
   "execution_count": 78,
   "metadata": {},
   "outputs": [],
   "source": [
    "X_test = convertor(df_test)"
   ]
  },
  {
   "cell_type": "markdown",
   "metadata": {},
   "source": [
    "Видим, что клиенты в тестовой и обучающей выборках не пересекаются "
   ]
  },
  {
   "cell_type": "code",
   "execution_count": 79,
   "metadata": {},
   "outputs": [
    {
     "data": {
      "text/plain": [
       "(113962, 396576, 0)"
      ]
     },
     "execution_count": 79,
     "metadata": {},
     "output_type": "execute_result"
    }
   ],
   "source": [
    "len(set(df_test['cif_id'])), len(set(df_train['cif_id'])), len(set(df_train['cif_id']).intersection(set(df_test['cif_id']))) "
   ]
  },
  {
   "cell_type": "markdown",
   "metadata": {},
   "source": [
    "Стандартизуем оба датасета"
   ]
  },
  {
   "cell_type": "code",
   "execution_count": 80,
   "metadata": {},
   "outputs": [],
   "source": [
    "scaler = StandardScaler()\n",
    "X_all_train_scaled = scaler.fit_transform(X)\n",
    "y_all_train = y\n",
    "X_all_test_scaled = scaler.transform(X_test)"
   ]
  },
  {
   "cell_type": "markdown",
   "metadata": {},
   "source": [
    "Проверяем на пропуски и большие значения"
   ]
  },
  {
   "cell_type": "code",
   "execution_count": 81,
   "metadata": {},
   "outputs": [
    {
     "data": {
      "text/plain": [
       "(False, False, False, True, True, True)"
      ]
     },
     "execution_count": 81,
     "metadata": {},
     "output_type": "execute_result"
    }
   ],
   "source": [
    "np.any(np.isnan(X_all_train_scaled)), np.any(np.isnan(y_all_train)),np.any(np.isnan(X_all_test_scaled)), np.all(np.isfinite(X_all_train_scaled)), np.all(np.isfinite(y_all_train)),  np.all(np.isfinite(X_all_test_scaled))"
   ]
  },
  {
   "cell_type": "markdown",
   "metadata": {},
   "source": [
    "Обучение и получение результатов"
   ]
  },
  {
   "cell_type": "code",
   "execution_count": 82,
   "metadata": {},
   "outputs": [],
   "source": [
    "logit  = LogisticRegression( random_state = 42)\n",
    "logit.fit(X_all_train_scaled, y_all_train.values.ravel())\n",
    "valid_predict = logit.predict_proba(X_all_test_scaled)"
   ]
  },
  {
   "cell_type": "code",
   "execution_count": 83,
   "metadata": {},
   "outputs": [
    {
     "data": {
      "text/plain": [
       "(array([[0.0563625 , 0.9436375 ],\n",
       "        [0.15609579, 0.84390421],\n",
       "        [0.87692154, 0.12307846],\n",
       "        ...,\n",
       "        [0.64270877, 0.35729123],\n",
       "        [0.1762674 , 0.8237326 ],\n",
       "        [0.104671  , 0.895329  ]]), (113962, 2))"
      ]
     },
     "execution_count": 83,
     "metadata": {},
     "output_type": "execute_result"
    }
   ],
   "source": [
    "valid_predict, valid_predict.shape"
   ]
  },
  {
   "cell_type": "markdown",
   "metadata": {},
   "source": [
    "Делаем предсказание"
   ]
  },
  {
   "cell_type": "code",
   "execution_count": 85,
   "metadata": {},
   "outputs": [],
   "source": [
    "results = pd.DataFrame(X_test['gi_smooth_3m'])\n",
    "results['koef'] = valid_predict[:, 1]\n",
    "results['cltv'] = results['gi_smooth_3m']*results['koef']*6\n",
    "results['cltv'].to_csv('CUP_IT_2020_Predictions.csv')"
   ]
  },
  {
   "cell_type": "markdown",
   "metadata": {},
   "source": [
    "Сохраним нашу обученную модель для дальнейшего использования"
   ]
  },
  {
   "cell_type": "code",
   "execution_count": 87,
   "metadata": {},
   "outputs": [],
   "source": [
    "import pickle"
   ]
  },
  {
   "cell_type": "code",
   "execution_count": 88,
   "metadata": {},
   "outputs": [],
   "source": [
    "filename= 'logit_model.sav'\n",
    "pickle.dump(logit, open(filename, 'wb'))"
   ]
  }
 ],
 "metadata": {
  "kernelspec": {
   "display_name": "Python 3",
   "language": "python",
   "name": "python3"
  },
  "language_info": {
   "codemirror_mode": {
    "name": "ipython",
    "version": 3
   },
   "file_extension": ".py",
   "mimetype": "text/x-python",
   "name": "python",
   "nbconvert_exporter": "python",
   "pygments_lexer": "ipython3",
   "version": "3.7.2"
  }
 },
 "nbformat": 4,
 "nbformat_minor": 2
}
