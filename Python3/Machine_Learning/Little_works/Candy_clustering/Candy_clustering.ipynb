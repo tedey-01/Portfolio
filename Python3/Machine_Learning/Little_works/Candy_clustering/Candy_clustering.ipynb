{
 "cells": [
  {
   "cell_type": "code",
   "execution_count": 1,
   "metadata": {},
   "outputs": [],
   "source": [
    "#  Импортируем библиотек\n",
    "import numpy as np\n",
    "import pandas as pd\n",
    "import matplotlib.pyplot as plt\n",
    "%matplotlib inline"
   ]
  },
  {
   "cell_type": "markdown",
   "metadata": {},
   "source": [
    "###  Кластерный анализ"
   ]
  },
  {
   "cell_type": "code",
   "execution_count": 2,
   "metadata": {},
   "outputs": [],
   "source": [
    "df = pd.read_csv(u'Леденцы.dat', sep = \";\")"
   ]
  },
  {
   "cell_type": "code",
   "execution_count": 3,
   "metadata": {},
   "outputs": [
    {
     "data": {
      "text/html": [
       "<div>\n",
       "<style scoped>\n",
       "    .dataframe tbody tr th:only-of-type {\n",
       "        vertical-align: middle;\n",
       "    }\n",
       "\n",
       "    .dataframe tbody tr th {\n",
       "        vertical-align: top;\n",
       "    }\n",
       "\n",
       "    .dataframe thead th {\n",
       "        text-align: right;\n",
       "    }\n",
       "</style>\n",
       "<table border=\"1\" class=\"dataframe\">\n",
       "  <thead>\n",
       "    <tr style=\"text-align: right;\">\n",
       "      <th></th>\n",
       "      <th>V1</th>\n",
       "      <th>V2</th>\n",
       "      <th>V3</th>\n",
       "      <th>V4</th>\n",
       "      <th>V5</th>\n",
       "      <th>V6</th>\n",
       "      <th>V7</th>\n",
       "      <th>V8</th>\n",
       "      <th>V9</th>\n",
       "      <th>V10</th>\n",
       "      <th>V11</th>\n",
       "    </tr>\n",
       "  </thead>\n",
       "  <tbody>\n",
       "    <tr>\n",
       "      <th>0</th>\n",
       "      <td>4</td>\n",
       "      <td>5</td>\n",
       "      <td>5</td>\n",
       "      <td>5</td>\n",
       "      <td>3</td>\n",
       "      <td>3</td>\n",
       "      <td>3</td>\n",
       "      <td>3</td>\n",
       "      <td>3</td>\n",
       "      <td>3</td>\n",
       "      <td>3</td>\n",
       "    </tr>\n",
       "    <tr>\n",
       "      <th>1</th>\n",
       "      <td>5</td>\n",
       "      <td>4</td>\n",
       "      <td>5</td>\n",
       "      <td>5</td>\n",
       "      <td>3</td>\n",
       "      <td>3</td>\n",
       "      <td>3</td>\n",
       "      <td>3</td>\n",
       "      <td>3</td>\n",
       "      <td>3</td>\n",
       "      <td>3</td>\n",
       "    </tr>\n",
       "    <tr>\n",
       "      <th>2</th>\n",
       "      <td>5</td>\n",
       "      <td>5</td>\n",
       "      <td>4</td>\n",
       "      <td>5</td>\n",
       "      <td>3</td>\n",
       "      <td>3</td>\n",
       "      <td>3</td>\n",
       "      <td>3</td>\n",
       "      <td>3</td>\n",
       "      <td>3</td>\n",
       "      <td>3</td>\n",
       "    </tr>\n",
       "    <tr>\n",
       "      <th>3</th>\n",
       "      <td>5</td>\n",
       "      <td>4</td>\n",
       "      <td>5</td>\n",
       "      <td>5</td>\n",
       "      <td>3</td>\n",
       "      <td>3</td>\n",
       "      <td>3</td>\n",
       "      <td>3</td>\n",
       "      <td>3</td>\n",
       "      <td>3</td>\n",
       "      <td>3</td>\n",
       "    </tr>\n",
       "    <tr>\n",
       "      <th>4</th>\n",
       "      <td>4</td>\n",
       "      <td>5</td>\n",
       "      <td>5</td>\n",
       "      <td>5</td>\n",
       "      <td>3</td>\n",
       "      <td>3</td>\n",
       "      <td>3</td>\n",
       "      <td>3</td>\n",
       "      <td>3</td>\n",
       "      <td>3</td>\n",
       "      <td>3</td>\n",
       "    </tr>\n",
       "  </tbody>\n",
       "</table>\n",
       "</div>"
      ],
      "text/plain": [
       "   V1  V2  V3  V4  V5  V6  V7  V8  V9  V10  V11\n",
       "0   4   5   5   5   3   3   3   3   3    3    3\n",
       "1   5   4   5   5   3   3   3   3   3    3    3\n",
       "2   5   5   4   5   3   3   3   3   3    3    3\n",
       "3   5   4   5   5   3   3   3   3   3    3    3\n",
       "4   4   5   5   5   3   3   3   3   3    3    3"
      ]
     },
     "execution_count": 3,
     "metadata": {},
     "output_type": "execute_result"
    }
   ],
   "source": [
    "df.head()"
   ]
  },
  {
   "cell_type": "code",
   "execution_count": 4,
   "metadata": {},
   "outputs": [
    {
     "data": {
      "text/plain": [
       "(338, 11)"
      ]
     },
     "execution_count": 4,
     "metadata": {},
     "output_type": "execute_result"
    }
   ],
   "source": [
    "df.shape"
   ]
  },
  {
   "cell_type": "markdown",
   "metadata": {},
   "source": [
    "Так как, объём данных небольшой, можем воспользоваться **иерархической кластеризацией** и отобразить процесс кластеризации на дендрограме.  \n",
    "Стоит отдельно отметить, что стандартизация данных не требуется, так как, данные имеют одинаковую размерность."
   ]
  },
  {
   "cell_type": "markdown",
   "metadata": {},
   "source": [
    "### Иерархическая кластеризация"
   ]
  },
  {
   "cell_type": "code",
   "execution_count": 5,
   "metadata": {},
   "outputs": [],
   "source": [
    "from scipy.cluster.hierarchy import linkage, dendrogram, fcluster\n",
    "\n",
    "link = linkage(df, method='ward', metric='euclidean')"
   ]
  },
  {
   "cell_type": "code",
   "execution_count": 6,
   "metadata": {},
   "outputs": [
    {
     "data": {
      "text/plain": [
       "array([[  0.,   4.,   0.,   2.],\n",
       "       [  1.,   3.,   0.,   2.],\n",
       "       [  2.,   6.,   0.,   2.],\n",
       "       [  5., 339.,   0.,   3.],\n",
       "       [ 32., 338.,   0.,   3.]])"
      ]
     },
     "execution_count": 6,
     "metadata": {},
     "output_type": "execute_result"
    }
   ],
   "source": [
    "link[:5]"
   ]
  },
  {
   "cell_type": "code",
   "execution_count": 7,
   "metadata": {},
   "outputs": [
    {
     "data": {
      "image/png": "[encoded data removed]",
      "text/plain": [
       "<Figure size 720x288 with 1 Axes>"
      ]
     },
     "metadata": {
      "needs_background": "light"
     },
     "output_type": "display_data"
    }
   ],
   "source": [
    "plt.subplots(figsize = (10, 4))\n",
    "dn = dendrogram(link, orientation='top')"
   ]
  },
  {
   "cell_type": "markdown",
   "metadata": {},
   "source": [
    "Хоть алгритм и пытается автоматически выделить количество классов(кластеров), мы вполне можем усомниться в правильности его ответа. Судя по строению дендрограмы, можно предположить, что на самом деле мы имеем дело с четырмя классами, а не с тремя.  \n",
    "Воспользуемся графиком каменной осыпи, для того, чтобы удостовериться в правдивости нашей гипотезы."
   ]
  },
  {
   "cell_type": "code",
   "execution_count": 21,
   "metadata": {
    "scrolled": true
   },
   "outputs": [
    {
     "data": {
      "image/png": "[encoded data removed]",
      "text/plain": [
       "<Figure size 720x360 with 1 Axes>"
      ]
     },
     "metadata": {
      "needs_background": "light"
     },
     "output_type": "display_data"
    }
   ],
   "source": [
    "dist_rev = link[:, 2][::-1]\n",
    "idxs = range(1, len(dist_rev)+1)\n",
    "\n",
    "fig, ax = plt.subplots(figsize = (10, 5))\n",
    "ax.plot(idxs[:10], dist_rev[:10], marker='o')\n",
    "ax.set_xlabel('clusters count')\n",
    "ax.set_ylabel('inter-cluster distance')\n",
    "ax.set_title('The Elbow Method showing the optimal clusters count')\n",
    "plt.show()"
   ]
  },
  {
   "cell_type": "markdown",
   "metadata": {},
   "source": [
    "На графике отображены не все этапы кластеризации, для наглядности решения нашей проблемыж. Как можно заметить, излом происходит при наличии четырёх кластеров."
   ]
  },
  {
   "cell_type": "code",
   "execution_count": 9,
   "metadata": {},
   "outputs": [],
   "source": [
    "df['h_cluster'] = fcluster(link, 20, criterion= 'distance')"
   ]
  },
  {
   "cell_type": "markdown",
   "metadata": {},
   "source": [
    "Попробуем охарактеризовать типичное наблюдение для каждого класса."
   ]
  },
  {
   "cell_type": "code",
   "execution_count": 10,
   "metadata": {},
   "outputs": [
    {
     "data": {
      "text/html": [
       "<div>\n",
       "<style scoped>\n",
       "    .dataframe tbody tr th:only-of-type {\n",
       "        vertical-align: middle;\n",
       "    }\n",
       "\n",
       "    .dataframe tbody tr th {\n",
       "        vertical-align: top;\n",
       "    }\n",
       "\n",
       "    .dataframe thead th {\n",
       "        text-align: right;\n",
       "    }\n",
       "</style>\n",
       "<table border=\"1\" class=\"dataframe\">\n",
       "  <thead>\n",
       "    <tr style=\"text-align: right;\">\n",
       "      <th></th>\n",
       "      <th>V1</th>\n",
       "      <th>V2</th>\n",
       "      <th>V3</th>\n",
       "      <th>V4</th>\n",
       "      <th>V5</th>\n",
       "      <th>V6</th>\n",
       "      <th>V7</th>\n",
       "      <th>V8</th>\n",
       "      <th>V9</th>\n",
       "      <th>V10</th>\n",
       "      <th>V11</th>\n",
       "    </tr>\n",
       "    <tr>\n",
       "      <th>h_cluster</th>\n",
       "      <th></th>\n",
       "      <th></th>\n",
       "      <th></th>\n",
       "      <th></th>\n",
       "      <th></th>\n",
       "      <th></th>\n",
       "      <th></th>\n",
       "      <th></th>\n",
       "      <th></th>\n",
       "      <th></th>\n",
       "      <th></th>\n",
       "    </tr>\n",
       "  </thead>\n",
       "  <tbody>\n",
       "    <tr>\n",
       "      <th>1</th>\n",
       "      <td>2.824074</td>\n",
       "      <td>2.833333</td>\n",
       "      <td>2.768519</td>\n",
       "      <td>2.620370</td>\n",
       "      <td>2.611111</td>\n",
       "      <td>2.583333</td>\n",
       "      <td>2.750000</td>\n",
       "      <td>2.916667</td>\n",
       "      <td>4.953704</td>\n",
       "      <td>4.814815</td>\n",
       "      <td>4.861111</td>\n",
       "    </tr>\n",
       "    <tr>\n",
       "      <th>2</th>\n",
       "      <td>4.845455</td>\n",
       "      <td>4.800000</td>\n",
       "      <td>4.836364</td>\n",
       "      <td>4.681818</td>\n",
       "      <td>3.036364</td>\n",
       "      <td>3.036364</td>\n",
       "      <td>3.000000</td>\n",
       "      <td>2.990909</td>\n",
       "      <td>3.072727</td>\n",
       "      <td>3.045455</td>\n",
       "      <td>3.045455</td>\n",
       "    </tr>\n",
       "    <tr>\n",
       "      <th>3</th>\n",
       "      <td>3.000000</td>\n",
       "      <td>2.966102</td>\n",
       "      <td>2.966102</td>\n",
       "      <td>2.915254</td>\n",
       "      <td>2.915254</td>\n",
       "      <td>2.949153</td>\n",
       "      <td>4.915254</td>\n",
       "      <td>4.915254</td>\n",
       "      <td>3.000000</td>\n",
       "      <td>3.000000</td>\n",
       "      <td>3.000000</td>\n",
       "    </tr>\n",
       "    <tr>\n",
       "      <th>4</th>\n",
       "      <td>3.000000</td>\n",
       "      <td>3.000000</td>\n",
       "      <td>3.000000</td>\n",
       "      <td>3.000000</td>\n",
       "      <td>4.852459</td>\n",
       "      <td>4.852459</td>\n",
       "      <td>3.000000</td>\n",
       "      <td>2.918033</td>\n",
       "      <td>2.754098</td>\n",
       "      <td>2.754098</td>\n",
       "      <td>2.754098</td>\n",
       "    </tr>\n",
       "  </tbody>\n",
       "</table>\n",
       "</div>"
      ],
      "text/plain": [
       "                 V1        V2        V3        V4        V5        V6  \\\n",
       "h_cluster                                                               \n",
       "1          2.824074  2.833333  2.768519  2.620370  2.611111  2.583333   \n",
       "2          4.845455  4.800000  4.836364  4.681818  3.036364  3.036364   \n",
       "3          3.000000  2.966102  2.966102  2.915254  2.915254  2.949153   \n",
       "4          3.000000  3.000000  3.000000  3.000000  4.852459  4.852459   \n",
       "\n",
       "                 V7        V8        V9       V10       V11  \n",
       "h_cluster                                                    \n",
       "1          2.750000  2.916667  4.953704  4.814815  4.861111  \n",
       "2          3.000000  2.990909  3.072727  3.045455  3.045455  \n",
       "3          4.915254  4.915254  3.000000  3.000000  3.000000  \n",
       "4          3.000000  2.918033  2.754098  2.754098  2.754098  "
      ]
     },
     "execution_count": 10,
     "metadata": {},
     "output_type": "execute_result"
    }
   ],
   "source": [
    "ordinary_user = df.groupby('h_cluster').mean()\n",
    "ordinary_user"
   ]
  },
  {
   "cell_type": "code",
   "execution_count": 11,
   "metadata": {},
   "outputs": [
    {
     "data": {
      "text/plain": [
       "<matplotlib.axes._subplots.AxesSubplot at 0x235cf36fa08>"
      ]
     },
     "execution_count": 11,
     "metadata": {},
     "output_type": "execute_result"
    },
    {
     "data": {
      "image/png": "[encoded data removed]",
      "text/plain": [
       "<Figure size 720x360 with 1 Axes>"
      ]
     },
     "metadata": {
      "needs_background": "light"
     },
     "output_type": "display_data"
    }
   ],
   "source": [
    "ordinary_user.T.plot(kind='bar', title='famouse_candy',figsize = (10, 5))"
   ]
  },
  {
   "cell_type": "markdown",
   "metadata": {},
   "source": [
    "### Отчёт:  \n",
    "1. На данной диаграмме отчётливо видно, что  \n",
    "    * Люди относящиеся к первому классу, как правило уотребляют леденцы в большей степени для:\n",
    "        - *для того, чтобы облегчить боль в горле*\n",
    "        - *для того, чтобы избавиться от заложенности носа*\n",
    "        - *для улучшения самочувствия*   \n",
    "    * Люди относящиеся ко второму классу, как правило уотребляют леденцы в большей степени для того, чтобы:\n",
    "        - *освежить дыхание*\n",
    "        - *чувствовать себя увереннее*\n",
    "        - *освежить полость рта*\n",
    "        - *избавиться от неприятного вкуса во рту*   \n",
    "    * Люди относящиеся к третьему классу, как правило уотребляют леденцы в большей степени как:\n",
    "        - *заменитель других кондитерских изделий*\n",
    "        - *когда им хочется чего-нибудь сладкого*\n",
    "    * Люди относящиеся ко второму классу, как правило уотребляют леденцы в большей степени для того, чтобы:\n",
    "        - *сконцентрироваться*\n",
    "        - *отвлечься на несколько минут и подумать*  \n",
    "\n",
    "Исходя из этого, можно предположить, что в первой группе люди считают, что леденец несёт какое то медикоментозное воздействие. Люди из второй группы считают, что леденцы помогают освежить дыхание и избавиться от неприятных запахов. Люди из третьей группы, просто сладкоежки, и наконец, люди из четвёртой группы употребляют леденцы, чтобы поспособствовать мозговой деятельности."
   ]
  },
  {
   "cell_type": "markdown",
   "metadata": {},
   "source": [
    "### Кластеризация методом k-means (k - срединх)"
   ]
  },
  {
   "cell_type": "code",
   "execution_count": 12,
   "metadata": {},
   "outputs": [],
   "source": [
    "from sklearn.cluster import KMeans"
   ]
  },
  {
   "cell_type": "code",
   "execution_count": 13,
   "metadata": {},
   "outputs": [],
   "source": [
    "df = pd.read_csv(u'Леденцы.dat', sep = \";\")"
   ]
  },
  {
   "cell_type": "code",
   "execution_count": 20,
   "metadata": {},
   "outputs": [
    {
     "data": {
      "image/png": "[encoded data removed]",
      "text/plain": [
       "<Figure size 432x288 with 1 Axes>"
      ]
     },
     "metadata": {
      "needs_background": "light"
     },
     "output_type": "display_data"
    }
   ],
   "source": [
    "K = range(1, 11)\n",
    "models = [KMeans(n_clusters=k, random_state = 42).fit(df) for k in K]\n",
    "dist = [model.inertia_ for model in models]\n",
    "\n",
    "# посмотрим на график каменной осыпи\n",
    "# Plot the elbow\n",
    "plt.plot(K, dist, marker='o', color = 'green')\n",
    "plt.xlabel ( \"k\" )\n",
    "plt.ylabel ('Sum of distances')\n",
    "plt.title('The Elbow Method showing the optimal k')\n",
    "plt.show()"
   ]
  },
  {
   "cell_type": "markdown",
   "metadata": {},
   "source": [
    "На этот раз график \"каменной осыпи\" по оси ординат отражает общую сумму растояний от каждого объекта, до ближайшено кластер. И в Этом случае опять можо остановиться на 4-х кластерах."
   ]
  },
  {
   "cell_type": "code",
   "execution_count": 17,
   "metadata": {},
   "outputs": [
    {
     "data": {
      "text/html": [
       "<div>\n",
       "<style scoped>\n",
       "    .dataframe tbody tr th:only-of-type {\n",
       "        vertical-align: middle;\n",
       "    }\n",
       "\n",
       "    .dataframe tbody tr th {\n",
       "        vertical-align: top;\n",
       "    }\n",
       "\n",
       "    .dataframe thead th {\n",
       "        text-align: right;\n",
       "    }\n",
       "</style>\n",
       "<table border=\"1\" class=\"dataframe\">\n",
       "  <thead>\n",
       "    <tr style=\"text-align: right;\">\n",
       "      <th></th>\n",
       "      <th>V1</th>\n",
       "      <th>V2</th>\n",
       "      <th>V3</th>\n",
       "      <th>V4</th>\n",
       "      <th>V5</th>\n",
       "      <th>V6</th>\n",
       "      <th>V7</th>\n",
       "      <th>V8</th>\n",
       "      <th>V9</th>\n",
       "      <th>V10</th>\n",
       "      <th>V11</th>\n",
       "    </tr>\n",
       "    <tr>\n",
       "      <th>k_cluster</th>\n",
       "      <th></th>\n",
       "      <th></th>\n",
       "      <th></th>\n",
       "      <th></th>\n",
       "      <th></th>\n",
       "      <th></th>\n",
       "      <th></th>\n",
       "      <th></th>\n",
       "      <th></th>\n",
       "      <th></th>\n",
       "      <th></th>\n",
       "    </tr>\n",
       "  </thead>\n",
       "  <tbody>\n",
       "    <tr>\n",
       "      <th>0</th>\n",
       "      <td>2.824074</td>\n",
       "      <td>2.833333</td>\n",
       "      <td>2.768519</td>\n",
       "      <td>2.620370</td>\n",
       "      <td>2.611111</td>\n",
       "      <td>2.583333</td>\n",
       "      <td>2.750000</td>\n",
       "      <td>2.916667</td>\n",
       "      <td>4.953704</td>\n",
       "      <td>4.814815</td>\n",
       "      <td>4.861111</td>\n",
       "    </tr>\n",
       "    <tr>\n",
       "      <th>1</th>\n",
       "      <td>4.845455</td>\n",
       "      <td>4.800000</td>\n",
       "      <td>4.836364</td>\n",
       "      <td>4.681818</td>\n",
       "      <td>3.036364</td>\n",
       "      <td>3.036364</td>\n",
       "      <td>3.000000</td>\n",
       "      <td>2.990909</td>\n",
       "      <td>3.072727</td>\n",
       "      <td>3.045455</td>\n",
       "      <td>3.045455</td>\n",
       "    </tr>\n",
       "    <tr>\n",
       "      <th>2</th>\n",
       "      <td>3.000000</td>\n",
       "      <td>2.966102</td>\n",
       "      <td>2.966102</td>\n",
       "      <td>2.915254</td>\n",
       "      <td>2.915254</td>\n",
       "      <td>2.949153</td>\n",
       "      <td>4.915254</td>\n",
       "      <td>4.915254</td>\n",
       "      <td>3.000000</td>\n",
       "      <td>3.000000</td>\n",
       "      <td>3.000000</td>\n",
       "    </tr>\n",
       "    <tr>\n",
       "      <th>3</th>\n",
       "      <td>3.000000</td>\n",
       "      <td>3.000000</td>\n",
       "      <td>3.000000</td>\n",
       "      <td>3.000000</td>\n",
       "      <td>4.852459</td>\n",
       "      <td>4.852459</td>\n",
       "      <td>3.000000</td>\n",
       "      <td>2.918033</td>\n",
       "      <td>2.754098</td>\n",
       "      <td>2.754098</td>\n",
       "      <td>2.754098</td>\n",
       "    </tr>\n",
       "  </tbody>\n",
       "</table>\n",
       "</div>"
      ],
      "text/plain": [
       "                 V1        V2        V3        V4        V5        V6  \\\n",
       "k_cluster                                                               \n",
       "0          2.824074  2.833333  2.768519  2.620370  2.611111  2.583333   \n",
       "1          4.845455  4.800000  4.836364  4.681818  3.036364  3.036364   \n",
       "2          3.000000  2.966102  2.966102  2.915254  2.915254  2.949153   \n",
       "3          3.000000  3.000000  3.000000  3.000000  4.852459  4.852459   \n",
       "\n",
       "                 V7        V8        V9       V10       V11  \n",
       "k_cluster                                                    \n",
       "0          2.750000  2.916667  4.953704  4.814815  4.861111  \n",
       "1          3.000000  2.990909  3.072727  3.045455  3.045455  \n",
       "2          4.915254  4.915254  3.000000  3.000000  3.000000  \n",
       "3          3.000000  2.918033  2.754098  2.754098  2.754098  "
      ]
     },
     "execution_count": 17,
     "metadata": {},
     "output_type": "execute_result"
    }
   ],
   "source": [
    "model = KMeans(n_clusters=4, random_state=42)\n",
    "model.fit(df)\n",
    "df['k_cluster'] = model.labels_\n",
    "ordinary_user = df.groupby('k_cluster').mean()\n",
    "ordinary_user"
   ]
  },
  {
   "cell_type": "code",
   "execution_count": 18,
   "metadata": {},
   "outputs": [
    {
     "data": {
      "text/plain": [
       "<matplotlib.axes._subplots.AxesSubplot at 0x235d2389a08>"
      ]
     },
     "execution_count": 18,
     "metadata": {},
     "output_type": "execute_result"
    },
    {
     "data": {
      "image/png": "[encoded data removed]",
      "text/plain": [
       "<Figure size 720x360 with 1 Axes>"
      ]
     },
     "metadata": {
      "needs_background": "light"
     },
     "output_type": "display_data"
    }
   ],
   "source": [
    "ordinary_user.T.plot(kind='bar', title='famouse_candy',figsize = (10, 5))"
   ]
  },
  {
   "cell_type": "markdown",
   "metadata": {},
   "source": [
    "Итог: мы видим абсолютно такую же картину, что и при использовании иерархической кластеризации. Этот факт только подкрепляет нашу гипотезу."
   ]
  }
 ],
 "metadata": {
  "kernelspec": {
   "display_name": "Python 3",
   "language": "python",
   "name": "python3"
  },
  "language_info": {
   "codemirror_mode": {
    "name": "ipython",
    "version": 3
   },
   "file_extension": ".py",
   "mimetype": "text/x-python",
   "name": "python",
   "nbconvert_exporter": "python",
   "pygments_lexer": "ipython3",
   "version": "3.7.6"
  }
 },
 "nbformat": 4,
 "nbformat_minor": 4
}
